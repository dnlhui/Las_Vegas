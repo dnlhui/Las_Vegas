{
 "cells": [
  {
   "cell_type": "code",
   "execution_count": 1,
   "metadata": {},
   "outputs": [
    {
     "name": "stderr",
     "output_type": "stream",
     "text": [
      "Using TensorFlow backend.\n"
     ]
    }
   ],
   "source": [
    "import keras\n",
    "from keras.models import load_model\n",
    "\n",
    "import cv2\n",
    "import numpy as np\n",
    "import pandas as pd\n",
    "\n",
    "from __future__ import division\n",
    "import os, os.path\n",
    "from collections import defaultdict"
   ]
  },
  {
   "cell_type": "markdown",
   "metadata": {},
   "source": [
    "### Load Test Set Images & Turn into DataFrame"
   ]
  },
  {
   "cell_type": "code",
   "execution_count": 2,
   "metadata": {},
   "outputs": [],
   "source": [
    "main_path = \"../02_Data/06_Test_Train_Val/test\"\n",
    "image_dict = defaultdict()\n",
    "\n",
    "val_path, val_dirs, val_files = next(os.walk(main_path))\n",
    "for zoning_type in val_dirs:\n",
    "    zoning_path, zoning_dirs, zoning_files = next(os.walk(main_path + \"/\" + zoning_type))\n",
    "    for file in zoning_files:\n",
    "        key = int(file[-10:-4])\n",
    "        total_path = zoning_path + \"/\" + file\n",
    "        image_dict[key] = [zoning_type,total_path]"
   ]
  },
  {
   "cell_type": "code",
   "execution_count": 4,
   "metadata": {},
   "outputs": [
    {
     "data": {
      "text/html": [
       "<div>\n",
       "<style scoped>\n",
       "    .dataframe tbody tr th:only-of-type {\n",
       "        vertical-align: middle;\n",
       "    }\n",
       "\n",
       "    .dataframe tbody tr th {\n",
       "        vertical-align: top;\n",
       "    }\n",
       "\n",
       "    .dataframe thead th {\n",
       "        text-align: right;\n",
       "    }\n",
       "</style>\n",
       "<table border=\"1\" class=\"dataframe\">\n",
       "  <thead>\n",
       "    <tr style=\"text-align: right;\">\n",
       "      <th></th>\n",
       "      <th>zoning</th>\n",
       "      <th>filepath</th>\n",
       "    </tr>\n",
       "  </thead>\n",
       "  <tbody>\n",
       "    <tr>\n",
       "      <th>143182</th>\n",
       "      <td>res_low</td>\n",
       "      <td>../02_Data/06_Test_Train_Val/test/res_low/Las_...</td>\n",
       "    </tr>\n",
       "    <tr>\n",
       "      <th>163183</th>\n",
       "      <td>res_low</td>\n",
       "      <td>../02_Data/06_Test_Train_Val/test/res_low/Las_...</td>\n",
       "    </tr>\n",
       "    <tr>\n",
       "      <th>126053</th>\n",
       "      <td>res_low</td>\n",
       "      <td>../02_Data/06_Test_Train_Val/test/res_low/Las_...</td>\n",
       "    </tr>\n",
       "    <tr>\n",
       "      <th>158142</th>\n",
       "      <td>res_low</td>\n",
       "      <td>../02_Data/06_Test_Train_Val/test/res_low/Las_...</td>\n",
       "    </tr>\n",
       "    <tr>\n",
       "      <th>63081</th>\n",
       "      <td>res_low</td>\n",
       "      <td>../02_Data/06_Test_Train_Val/test/res_low/Las_...</td>\n",
       "    </tr>\n",
       "  </tbody>\n",
       "</table>\n",
       "</div>"
      ],
      "text/plain": [
       "         zoning                                           filepath\n",
       "143182  res_low  ../02_Data/06_Test_Train_Val/test/res_low/Las_...\n",
       "163183  res_low  ../02_Data/06_Test_Train_Val/test/res_low/Las_...\n",
       "126053  res_low  ../02_Data/06_Test_Train_Val/test/res_low/Las_...\n",
       "158142  res_low  ../02_Data/06_Test_Train_Val/test/res_low/Las_...\n",
       "63081   res_low  ../02_Data/06_Test_Train_Val/test/res_low/Las_..."
      ]
     },
     "execution_count": 4,
     "metadata": {},
     "output_type": "execute_result"
    }
   ],
   "source": [
    "image_df = pd.DataFrame.from_dict(image_dict,orient='index')\n",
    "image_df.columns = [\"zoning\",\"filepath\"]\n",
    "image_df.head()"
   ]
  },
  {
   "cell_type": "markdown",
   "metadata": {},
   "source": [
    "### Load Final CNN Models for Ensembling"
   ]
  },
  {
   "cell_type": "code",
   "execution_count": 32,
   "metadata": {},
   "outputs": [],
   "source": [
    "CNN_model_1 = load_model('../06_Jupyter_Notebooks/01_Models/las_vegas_CNN_Trained_12_Layers_Final_v1.h5')\n",
    "CNN_model_2 = load_model('../06_Jupyter_Notebooks/01_Models/las_vegas_CNN_Trained_12_Layers_Final_v2.h5')\n",
    "CNN_model_3 = load_model('../06_Jupyter_Notebooks/01_Models/las_vegas_CNN_Trained_12_Layers_Final_v3.h5')\n",
    "CNN_model_4 = load_model('../06_Jupyter_Notebooks/01_Models/las_vegas_CNN_Trained_12_Layers_Final_v4.h5')\n",
    "CNN_model_5 = load_model('../06_Jupyter_Notebooks/01_Models/las_vegas_CNN_Trained_12_Layers_Final_v5.h5')"
   ]
  },
  {
   "cell_type": "code",
   "execution_count": 33,
   "metadata": {},
   "outputs": [],
   "source": [
    "CNN_models = [CNN_model_1, CNN_model_2, CNN_model_3, CNN_model_4, CNN_model_5]"
   ]
  },
  {
   "cell_type": "markdown",
   "metadata": {},
   "source": [
    "### Zoning Dictionary"
   ]
  },
  {
   "cell_type": "code",
   "execution_count": 3,
   "metadata": {},
   "outputs": [],
   "source": [
    "zoning_types = list(np.sort(val_dirs))   # the directories are the zoning type classifications\n",
    "                                         # which I copied from the notebook \"05_Modelling_CNN_Scratch\"\n",
    "                                         # from the code: train_generator.class_indices"
   ]
  },
  {
   "cell_type": "markdown",
   "metadata": {},
   "source": [
    "### Prediction Function - Single CNN Model"
   ]
  },
  {
   "cell_type": "code",
   "execution_count": 34,
   "metadata": {},
   "outputs": [],
   "source": [
    "def CNN_predict(row, model):\n",
    "    img = cv2.imread(row, cv2.IMREAD_GRAYSCALE)\n",
    "    img = cv2.resize(img, dsize=(150, 150))                                     # resize image to 150 for processing \n",
    "    img_array = np.array(img)\n",
    "    img_array = img_array.reshape(1,img_array.shape[0],img_array.shape[1],1)\n",
    "    return np.round(model.predict(img_array),3)"
   ]
  },
  {
   "cell_type": "markdown",
   "metadata": {},
   "source": [
    "### Prediction Function - Ensembled CNN Models"
   ]
  },
  {
   "cell_type": "code",
   "execution_count": 35,
   "metadata": {},
   "outputs": [],
   "source": [
    "def CNN_ensemble_predict(row, model_list):\n",
    "    predict_ensemble = np.zeros((1,7))\n",
    "    for m in model_list:                                          # randomness to help break ties\n",
    "        predict_ensemble = predict_ensemble + CNN_predict(row, m) * np.random.uniform(.95,1.05)  \n",
    "    predict_ensemble = predict_ensemble / len(model_list)         # divide by number of models\n",
    "    return np.round(predict_ensemble,3)"
   ]
  },
  {
   "cell_type": "markdown",
   "metadata": {},
   "source": [
    "### Run the Prediction on the Validation Set"
   ]
  },
  {
   "cell_type": "code",
   "execution_count": 36,
   "metadata": {},
   "outputs": [],
   "source": [
    "image_df[\"CNN_ens\"] = image_df[\"filepath\"].apply(CNN_ensemble_predict, model_list= CNN_models)"
   ]
  },
  {
   "cell_type": "markdown",
   "metadata": {},
   "source": [
    "### Get Zoning Type Function"
   ]
  },
  {
   "cell_type": "code",
   "execution_count": 11,
   "metadata": {},
   "outputs": [],
   "source": [
    "def get_zoning(row):\n",
    "    index = np.argmax(row)\n",
    "    return zoning_types[index]"
   ]
  },
  {
   "cell_type": "code",
   "execution_count": 37,
   "metadata": {},
   "outputs": [],
   "source": [
    "image_df[\"CNN_ens_zoning\"] = image_df[\"CNN_ens\"].apply(get_zoning)"
   ]
  },
  {
   "cell_type": "code",
   "execution_count": 38,
   "metadata": {},
   "outputs": [
    {
     "data": {
      "text/html": [
       "<div>\n",
       "<style scoped>\n",
       "    .dataframe tbody tr th:only-of-type {\n",
       "        vertical-align: middle;\n",
       "    }\n",
       "\n",
       "    .dataframe tbody tr th {\n",
       "        vertical-align: top;\n",
       "    }\n",
       "\n",
       "    .dataframe thead th {\n",
       "        text-align: right;\n",
       "    }\n",
       "</style>\n",
       "<table border=\"1\" class=\"dataframe\">\n",
       "  <thead>\n",
       "    <tr style=\"text-align: right;\">\n",
       "      <th></th>\n",
       "      <th>zoning</th>\n",
       "      <th>filepath</th>\n",
       "      <th>CNN_ens</th>\n",
       "      <th>CNN_ens_zoning</th>\n",
       "    </tr>\n",
       "  </thead>\n",
       "  <tbody>\n",
       "    <tr>\n",
       "      <th>143182</th>\n",
       "      <td>res_low</td>\n",
       "      <td>../02_Data/06_Test_Train_Val/test/res_low/Las_...</td>\n",
       "      <td>[[0.0, 0.0, 0.0, 0.0, 0.0, 0.614, 0.398]]</td>\n",
       "      <td>res_low</td>\n",
       "    </tr>\n",
       "    <tr>\n",
       "      <th>163183</th>\n",
       "      <td>res_low</td>\n",
       "      <td>../02_Data/06_Test_Train_Val/test/res_low/Las_...</td>\n",
       "      <td>[[0.0, 0.795, 0.0, 0.0, 0.0, 0.204, 0.0]]</td>\n",
       "      <td>com_med</td>\n",
       "    </tr>\n",
       "    <tr>\n",
       "      <th>126053</th>\n",
       "      <td>res_low</td>\n",
       "      <td>../02_Data/06_Test_Train_Val/test/res_low/Las_...</td>\n",
       "      <td>[[0.0, 0.0, 0.0, 0.0, 0.0, 0.986, 0.0]]</td>\n",
       "      <td>res_low</td>\n",
       "    </tr>\n",
       "    <tr>\n",
       "      <th>158142</th>\n",
       "      <td>res_low</td>\n",
       "      <td>../02_Data/06_Test_Train_Val/test/res_low/Las_...</td>\n",
       "      <td>[[0.0, 0.0, 0.0, 0.0, 0.0, 1.007, 0.0]]</td>\n",
       "      <td>res_low</td>\n",
       "    </tr>\n",
       "    <tr>\n",
       "      <th>63081</th>\n",
       "      <td>res_low</td>\n",
       "      <td>../02_Data/06_Test_Train_Val/test/res_low/Las_...</td>\n",
       "      <td>[[0.0, 0.0, 0.0, 0.0, 0.0, 0.987, 0.0]]</td>\n",
       "      <td>res_low</td>\n",
       "    </tr>\n",
       "    <tr>\n",
       "      <th>155132</th>\n",
       "      <td>res_low</td>\n",
       "      <td>../02_Data/06_Test_Train_Val/test/res_low/Las_...</td>\n",
       "      <td>[[0.0, 0.0, 0.0, 0.0, 0.0, 1.014, 0.0]]</td>\n",
       "      <td>res_low</td>\n",
       "    </tr>\n",
       "    <tr>\n",
       "      <th>127064</th>\n",
       "      <td>res_low</td>\n",
       "      <td>../02_Data/06_Test_Train_Val/test/res_low/Las_...</td>\n",
       "      <td>[[0.0, 0.0, 0.0, 0.0, 0.0, 1.011, 0.0]]</td>\n",
       "      <td>res_low</td>\n",
       "    </tr>\n",
       "    <tr>\n",
       "      <th>185185</th>\n",
       "      <td>res_low</td>\n",
       "      <td>../02_Data/06_Test_Train_Val/test/res_low/Las_...</td>\n",
       "      <td>[[0.0, 0.0, 0.0, 0.0, 0.0, 0.992, 0.0]]</td>\n",
       "      <td>res_low</td>\n",
       "    </tr>\n",
       "    <tr>\n",
       "      <th>144034</th>\n",
       "      <td>res_low</td>\n",
       "      <td>../02_Data/06_Test_Train_Val/test/res_low/Las_...</td>\n",
       "      <td>[[0.0, 0.0, 0.0, 0.0, 0.0, 1.008, 0.0]]</td>\n",
       "      <td>res_low</td>\n",
       "    </tr>\n",
       "    <tr>\n",
       "      <th>129122</th>\n",
       "      <td>res_low</td>\n",
       "      <td>../02_Data/06_Test_Train_Val/test/res_low/Las_...</td>\n",
       "      <td>[[0.0, 0.0, 0.0, 0.0, 0.0, 1.028, 0.0]]</td>\n",
       "      <td>res_low</td>\n",
       "    </tr>\n",
       "  </tbody>\n",
       "</table>\n",
       "</div>"
      ],
      "text/plain": [
       "         zoning                                           filepath  \\\n",
       "143182  res_low  ../02_Data/06_Test_Train_Val/test/res_low/Las_...   \n",
       "163183  res_low  ../02_Data/06_Test_Train_Val/test/res_low/Las_...   \n",
       "126053  res_low  ../02_Data/06_Test_Train_Val/test/res_low/Las_...   \n",
       "158142  res_low  ../02_Data/06_Test_Train_Val/test/res_low/Las_...   \n",
       "63081   res_low  ../02_Data/06_Test_Train_Val/test/res_low/Las_...   \n",
       "155132  res_low  ../02_Data/06_Test_Train_Val/test/res_low/Las_...   \n",
       "127064  res_low  ../02_Data/06_Test_Train_Val/test/res_low/Las_...   \n",
       "185185  res_low  ../02_Data/06_Test_Train_Val/test/res_low/Las_...   \n",
       "144034  res_low  ../02_Data/06_Test_Train_Val/test/res_low/Las_...   \n",
       "129122  res_low  ../02_Data/06_Test_Train_Val/test/res_low/Las_...   \n",
       "\n",
       "                                          CNN_ens CNN_ens_zoning  \n",
       "143182  [[0.0, 0.0, 0.0, 0.0, 0.0, 0.614, 0.398]]        res_low  \n",
       "163183  [[0.0, 0.795, 0.0, 0.0, 0.0, 0.204, 0.0]]        com_med  \n",
       "126053    [[0.0, 0.0, 0.0, 0.0, 0.0, 0.986, 0.0]]        res_low  \n",
       "158142    [[0.0, 0.0, 0.0, 0.0, 0.0, 1.007, 0.0]]        res_low  \n",
       "63081     [[0.0, 0.0, 0.0, 0.0, 0.0, 0.987, 0.0]]        res_low  \n",
       "155132    [[0.0, 0.0, 0.0, 0.0, 0.0, 1.014, 0.0]]        res_low  \n",
       "127064    [[0.0, 0.0, 0.0, 0.0, 0.0, 1.011, 0.0]]        res_low  \n",
       "185185    [[0.0, 0.0, 0.0, 0.0, 0.0, 0.992, 0.0]]        res_low  \n",
       "144034    [[0.0, 0.0, 0.0, 0.0, 0.0, 1.008, 0.0]]        res_low  \n",
       "129122    [[0.0, 0.0, 0.0, 0.0, 0.0, 1.028, 0.0]]        res_low  "
      ]
     },
     "execution_count": 38,
     "metadata": {},
     "output_type": "execute_result"
    }
   ],
   "source": [
    "image_df.head(10)"
   ]
  },
  {
   "cell_type": "markdown",
   "metadata": {},
   "source": [
    "### EDA On the Predictions"
   ]
  },
  {
   "cell_type": "markdown",
   "metadata": {},
   "source": [
    "Types of zoning getting predicted. Notable that High Industrial is not being predicted"
   ]
  },
  {
   "cell_type": "code",
   "execution_count": 39,
   "metadata": {},
   "outputs": [],
   "source": [
    "predict = \"CNN_ens_zoning\""
   ]
  },
  {
   "cell_type": "code",
   "execution_count": 40,
   "metadata": {},
   "outputs": [
    {
     "data": {
      "text/plain": [
       "1504"
      ]
     },
     "execution_count": 40,
     "metadata": {},
     "output_type": "execute_result"
    }
   ],
   "source": [
    "len(image_df[\"zoning\"])"
   ]
  },
  {
   "cell_type": "code",
   "execution_count": 41,
   "metadata": {},
   "outputs": [
    {
     "data": {
      "text/plain": [
       "res_low           876\n",
       "ind_office_med    179\n",
       "res_high          169\n",
       "ind_high          139\n",
       "com_med           117\n",
       "res_med            21\n",
       "com_high            3\n",
       "Name: CNN_ens_zoning, dtype: int64"
      ]
     },
     "execution_count": 41,
     "metadata": {},
     "output_type": "execute_result"
    }
   ],
   "source": [
    "image_df[predict].value_counts()"
   ]
  },
  {
   "cell_type": "markdown",
   "metadata": {},
   "source": [
    "Predictions for res_low"
   ]
  },
  {
   "cell_type": "code",
   "execution_count": 42,
   "metadata": {},
   "outputs": [
    {
     "data": {
      "text/plain": [
       "res_low           778\n",
       "res_high           70\n",
       "com_med            46\n",
       "ind_high           22\n",
       "res_med            16\n",
       "ind_office_med     13\n",
       "Name: CNN_ens_zoning, dtype: int64"
      ]
     },
     "execution_count": 42,
     "metadata": {},
     "output_type": "execute_result"
    }
   ],
   "source": [
    "image_df[image_df[\"zoning\"]==\"res_low\"][predict].value_counts()"
   ]
  },
  {
   "cell_type": "markdown",
   "metadata": {},
   "source": [
    "Predictions for res_med"
   ]
  },
  {
   "cell_type": "code",
   "execution_count": 43,
   "metadata": {},
   "outputs": [
    {
     "data": {
      "text/plain": [
       "res_low     68\n",
       "res_high    19\n",
       "res_med      2\n",
       "com_med      1\n",
       "Name: CNN_ens_zoning, dtype: int64"
      ]
     },
     "execution_count": 43,
     "metadata": {},
     "output_type": "execute_result"
    }
   ],
   "source": [
    "image_df[image_df[\"zoning\"]==\"res_med\"][predict].value_counts()"
   ]
  },
  {
   "cell_type": "markdown",
   "metadata": {},
   "source": [
    "Predictions for res_high"
   ]
  },
  {
   "cell_type": "code",
   "execution_count": 44,
   "metadata": {},
   "outputs": [
    {
     "data": {
      "text/plain": [
       "res_high          57\n",
       "res_low           16\n",
       "com_med           10\n",
       "ind_office_med     5\n",
       "ind_high           1\n",
       "res_med            1\n",
       "Name: CNN_ens_zoning, dtype: int64"
      ]
     },
     "execution_count": 44,
     "metadata": {},
     "output_type": "execute_result"
    }
   ],
   "source": [
    "image_df[image_df[\"zoning\"]==\"res_high\"][predict].value_counts()"
   ]
  },
  {
   "cell_type": "markdown",
   "metadata": {},
   "source": [
    "Predictions for com_med"
   ]
  },
  {
   "cell_type": "code",
   "execution_count": 45,
   "metadata": {},
   "outputs": [
    {
     "data": {
      "text/plain": [
       "ind_office_med    54\n",
       "ind_high          42\n",
       "com_med           32\n",
       "res_low           12\n",
       "res_high           9\n",
       "Name: CNN_ens_zoning, dtype: int64"
      ]
     },
     "execution_count": 45,
     "metadata": {},
     "output_type": "execute_result"
    }
   ],
   "source": [
    "image_df[image_df[\"zoning\"]==\"com_med\"][predict].value_counts()"
   ]
  },
  {
   "cell_type": "markdown",
   "metadata": {},
   "source": [
    "Predictions for com_high"
   ]
  },
  {
   "cell_type": "code",
   "execution_count": 46,
   "metadata": {},
   "outputs": [
    {
     "data": {
      "text/plain": [
       "ind_office_med    31\n",
       "ind_high          21\n",
       "res_high           9\n",
       "com_med            8\n",
       "com_high           3\n",
       "Name: CNN_ens_zoning, dtype: int64"
      ]
     },
     "execution_count": 46,
     "metadata": {},
     "output_type": "execute_result"
    }
   ],
   "source": [
    "image_df[image_df[\"zoning\"]==\"com_high\"][predict].value_counts()"
   ]
  },
  {
   "cell_type": "markdown",
   "metadata": {},
   "source": [
    "Predictions for ind_office_med"
   ]
  },
  {
   "cell_type": "code",
   "execution_count": 47,
   "metadata": {},
   "outputs": [
    {
     "data": {
      "text/plain": [
       "ind_office_med    38\n",
       "ind_high          28\n",
       "com_med           14\n",
       "res_low            2\n",
       "res_med            1\n",
       "res_high           1\n",
       "Name: CNN_ens_zoning, dtype: int64"
      ]
     },
     "execution_count": 47,
     "metadata": {},
     "output_type": "execute_result"
    }
   ],
   "source": [
    "image_df[image_df[\"zoning\"]=='ind_office_med'][predict].value_counts()"
   ]
  },
  {
   "cell_type": "markdown",
   "metadata": {},
   "source": [
    "Predictions for ind_high"
   ]
  },
  {
   "cell_type": "code",
   "execution_count": 48,
   "metadata": {},
   "outputs": [
    {
     "data": {
      "text/plain": [
       "ind_office_med    38\n",
       "ind_high          25\n",
       "com_med            6\n",
       "res_high           4\n",
       "res_med            1\n",
       "Name: CNN_ens_zoning, dtype: int64"
      ]
     },
     "execution_count": 48,
     "metadata": {},
     "output_type": "execute_result"
    }
   ],
   "source": [
    "image_df[image_df[\"zoning\"]==\"ind_high\"][predict].value_counts()"
   ]
  },
  {
   "cell_type": "markdown",
   "metadata": {},
   "source": [
    "### Scoring Validation Predictions"
   ]
  },
  {
   "cell_type": "code",
   "execution_count": 49,
   "metadata": {},
   "outputs": [],
   "source": [
    "from sklearn.metrics import confusion_matrix\n",
    "from sklearn.metrics import accuracy_score\n",
    "from sklearn.metrics import precision_score\n",
    "from sklearn.metrics import recall_score\n",
    "from sklearn.metrics import f1_score"
   ]
  },
  {
   "cell_type": "code",
   "execution_count": 50,
   "metadata": {},
   "outputs": [],
   "source": [
    "y_val = image_df[\"zoning\"]\n",
    "predict_list = [\"CNN_ens_zoning\"]\n",
    "# predict_list = [\"CNN_zoning\", \"CNN_ens_zoning\", \"VGG_zoning\", \"VGG_ens_zoning\"]\n",
    "\n",
    "predict_scores = defaultdict()\n",
    "\n",
    "for predict_type in predict_list:\n",
    "    y_pred = image_df[predict_type]\n",
    "    predict_scores[predict_type] = [accuracy_score(y_val, y_pred),\n",
    "                                    precision_score(y_val, y_pred, average=\"weighted\"),\n",
    "                                    recall_score(y_val, y_pred, average=\"weighted\"),\n",
    "                                    f1_score(y_val, y_pred, average=\"weighted\")]"
   ]
  },
  {
   "cell_type": "code",
   "execution_count": 51,
   "metadata": {},
   "outputs": [
    {
     "data": {
      "text/html": [
       "<div>\n",
       "<style scoped>\n",
       "    .dataframe tbody tr th:only-of-type {\n",
       "        vertical-align: middle;\n",
       "    }\n",
       "\n",
       "    .dataframe tbody tr th {\n",
       "        vertical-align: top;\n",
       "    }\n",
       "\n",
       "    .dataframe thead th {\n",
       "        text-align: right;\n",
       "    }\n",
       "</style>\n",
       "<table border=\"1\" class=\"dataframe\">\n",
       "  <thead>\n",
       "    <tr style=\"text-align: right;\">\n",
       "      <th></th>\n",
       "      <th>accuracy</th>\n",
       "      <th>precision</th>\n",
       "      <th>recall</th>\n",
       "      <th>f1</th>\n",
       "    </tr>\n",
       "  </thead>\n",
       "  <tbody>\n",
       "    <tr>\n",
       "      <th>CNN_ens_zoning</th>\n",
       "      <td>0.621676</td>\n",
       "      <td>0.679589</td>\n",
       "      <td>0.621676</td>\n",
       "      <td>0.620739</td>\n",
       "    </tr>\n",
       "  </tbody>\n",
       "</table>\n",
       "</div>"
      ],
      "text/plain": [
       "                accuracy  precision    recall        f1\n",
       "CNN_ens_zoning  0.621676   0.679589  0.621676  0.620739"
      ]
     },
     "execution_count": 51,
     "metadata": {},
     "output_type": "execute_result"
    }
   ],
   "source": [
    "predict_scores_df = pd.DataFrame.from_dict(predict_scores,orient='index')\n",
    "predict_scores_df.columns = [\"accuracy\",\"precision\",\"recall\",\"f1\"]\n",
    "predict_scores_df"
   ]
  },
  {
   "cell_type": "code",
   "execution_count": 52,
   "metadata": {},
   "outputs": [
    {
     "data": {
      "text/plain": [
       "res_low           945\n",
       "com_med           149\n",
       "res_med            90\n",
       "res_high           90\n",
       "ind_office_med     84\n",
       "ind_high           74\n",
       "com_high           72\n",
       "Name: zoning, dtype: int64"
      ]
     },
     "execution_count": 52,
     "metadata": {},
     "output_type": "execute_result"
    }
   ],
   "source": [
    "image_df[\"zoning\"].value_counts()"
   ]
  },
  {
   "cell_type": "code",
   "execution_count": 53,
   "metadata": {},
   "outputs": [
    {
     "data": {
      "text/plain": [
       "['com_high',\n",
       " 'com_med',\n",
       " 'ind_high',\n",
       " 'ind_office_med',\n",
       " 'res_high',\n",
       " 'res_low',\n",
       " 'res_med']"
      ]
     },
     "execution_count": 53,
     "metadata": {},
     "output_type": "execute_result"
    }
   ],
   "source": [
    "list(np.sort(image_df[\"zoning\"].unique()))"
   ]
  },
  {
   "cell_type": "code",
   "execution_count": 54,
   "metadata": {},
   "outputs": [],
   "source": [
    "y_val = image_df[\"zoning\"]\n",
    "\n",
    "predict_scores = defaultdict()\n",
    "\n",
    "for predict_type in predict_list:\n",
    "    y_pred = image_df[predict_type]\n",
    "    predict_scores[\"01_\" + predict_type + \"_accuracy\"] = [np.round(accuracy_score(y_val, y_pred),2)] * len(zoning_types)\n",
    "    predict_scores[\"02_\" + predict_type + \"_precision\"] = list(np.round(precision_score(y_val, y_pred, average=None),2))\n",
    "    predict_scores[\"03_\" + predict_type + \"_recall\"] = list(np.round(recall_score(y_val, y_pred, average=None),2))   \n",
    "    predict_scores[\"04_\" + predict_type + \"_f1\"] = list(np.round(f1_score(y_val, y_pred, average=None),2))"
   ]
  },
  {
   "cell_type": "code",
   "execution_count": 55,
   "metadata": {},
   "outputs": [
    {
     "data": {
      "text/html": [
       "<div>\n",
       "<style scoped>\n",
       "    .dataframe tbody tr th:only-of-type {\n",
       "        vertical-align: middle;\n",
       "    }\n",
       "\n",
       "    .dataframe tbody tr th {\n",
       "        vertical-align: top;\n",
       "    }\n",
       "\n",
       "    .dataframe thead th {\n",
       "        text-align: right;\n",
       "    }\n",
       "</style>\n",
       "<table border=\"1\" class=\"dataframe\">\n",
       "  <thead>\n",
       "    <tr style=\"text-align: right;\">\n",
       "      <th></th>\n",
       "      <th>com_high</th>\n",
       "      <th>com_med</th>\n",
       "      <th>ind_high</th>\n",
       "      <th>ind_office_med</th>\n",
       "      <th>res_high</th>\n",
       "      <th>res_low</th>\n",
       "      <th>res_med</th>\n",
       "    </tr>\n",
       "  </thead>\n",
       "  <tbody>\n",
       "    <tr>\n",
       "      <th>01_CNN_ens_zoning_accuracy</th>\n",
       "      <td>0.62</td>\n",
       "      <td>0.62</td>\n",
       "      <td>0.62</td>\n",
       "      <td>0.62</td>\n",
       "      <td>0.62</td>\n",
       "      <td>0.62</td>\n",
       "      <td>0.62</td>\n",
       "    </tr>\n",
       "    <tr>\n",
       "      <th>02_CNN_ens_zoning_precision</th>\n",
       "      <td>1.00</td>\n",
       "      <td>0.27</td>\n",
       "      <td>0.18</td>\n",
       "      <td>0.21</td>\n",
       "      <td>0.34</td>\n",
       "      <td>0.89</td>\n",
       "      <td>0.10</td>\n",
       "    </tr>\n",
       "    <tr>\n",
       "      <th>03_CNN_ens_zoning_recall</th>\n",
       "      <td>0.04</td>\n",
       "      <td>0.21</td>\n",
       "      <td>0.34</td>\n",
       "      <td>0.45</td>\n",
       "      <td>0.63</td>\n",
       "      <td>0.82</td>\n",
       "      <td>0.02</td>\n",
       "    </tr>\n",
       "    <tr>\n",
       "      <th>04_CNN_ens_zoning_f1</th>\n",
       "      <td>0.08</td>\n",
       "      <td>0.24</td>\n",
       "      <td>0.23</td>\n",
       "      <td>0.29</td>\n",
       "      <td>0.44</td>\n",
       "      <td>0.85</td>\n",
       "      <td>0.04</td>\n",
       "    </tr>\n",
       "  </tbody>\n",
       "</table>\n",
       "</div>"
      ],
      "text/plain": [
       "                             com_high  com_med  ind_high  ind_office_med  \\\n",
       "01_CNN_ens_zoning_accuracy       0.62     0.62      0.62            0.62   \n",
       "02_CNN_ens_zoning_precision      1.00     0.27      0.18            0.21   \n",
       "03_CNN_ens_zoning_recall         0.04     0.21      0.34            0.45   \n",
       "04_CNN_ens_zoning_f1             0.08     0.24      0.23            0.29   \n",
       "\n",
       "                             res_high  res_low  res_med  \n",
       "01_CNN_ens_zoning_accuracy       0.62     0.62     0.62  \n",
       "02_CNN_ens_zoning_precision      0.34     0.89     0.10  \n",
       "03_CNN_ens_zoning_recall         0.63     0.82     0.02  \n",
       "04_CNN_ens_zoning_f1             0.44     0.85     0.04  "
      ]
     },
     "execution_count": 55,
     "metadata": {},
     "output_type": "execute_result"
    }
   ],
   "source": [
    "predict_scores_df = pd.DataFrame.from_dict(predict_scores,orient='index')\n",
    "predict_scores_df.columns=zoning_types\n",
    "predict_scores_df.sort_index()"
   ]
  },
  {
   "cell_type": "code",
   "execution_count": 57,
   "metadata": {},
   "outputs": [
    {
     "name": "stdout",
     "output_type": "stream",
     "text": [
      "CNN_ens_zoning  Precision:  0.6795885449333742\n",
      "CNN_ens_zoning  Recall:  0.6216755319148937\n",
      "CNN_ens_zoning  F1 0.620738583852329\n"
     ]
    }
   ],
   "source": [
    "y_val = image_df[\"zoning\"]\n",
    "\n",
    "for predict_type in predict_list:\n",
    "    y_pred = image_df[predict_type]\n",
    "    print(predict_type,\" Precision: \", precision_score(y_val, y_pred, average=\"weighted\"))\n",
    "    print(predict_type, \" Recall: \", recall_score(y_val, y_pred, average=\"weighted\"))\n",
    "    print(predict_type, \" F1\", f1_score(y_val, y_pred, average=\"weighted\"))"
   ]
  },
  {
   "cell_type": "code",
   "execution_count": null,
   "metadata": {},
   "outputs": [],
   "source": []
  }
 ],
 "metadata": {
  "kernelspec": {
   "display_name": "Python 3",
   "language": "python",
   "name": "python3"
  },
  "language_info": {
   "codemirror_mode": {
    "name": "ipython",
    "version": 3
   },
   "file_extension": ".py",
   "mimetype": "text/x-python",
   "name": "python",
   "nbconvert_exporter": "python",
   "pygments_lexer": "ipython3",
   "version": "3.6.5"
  }
 },
 "nbformat": 4,
 "nbformat_minor": 2
}

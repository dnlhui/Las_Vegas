{
 "cells": [
  {
   "cell_type": "code",
   "execution_count": 85,
   "metadata": {},
   "outputs": [],
   "source": [
    "import pandas as pd\n",
    "import numpy as np\n",
    "import os, os.path\n",
    "from shutil import copyfile"
   ]
  },
  {
   "cell_type": "code",
   "execution_count": 86,
   "metadata": {},
   "outputs": [],
   "source": [
    "# all the categories except res_low, the dominant class\n",
    "zoning_type_list = [\"com_high\",\"com_med\",\"ind_high\",\"ind_office_med\",\"res_high\",\"res_med\"]\n",
    "\n",
    "path = \"../02_Data/06_Test_Train_Val/train/\""
   ]
  },
  {
   "cell_type": "markdown",
   "metadata": {},
   "source": [
    "### Step 1: Copy Images from Main Zoning Folder into a 'Flip' Subfolder for Photoshop Processing"
   ]
  },
  {
   "cell_type": "code",
   "execution_count": 87,
   "metadata": {},
   "outputs": [],
   "source": [
    "for zoning in zoning_type_list:\n",
    "    paths, dirs, files = next(os.walk(path + zoning))\n",
    "    os.mkdir(path + zoning + \"/flip\")\n",
    "    for file in files:\n",
    "        origin = path + zoning + \"/\" + file\n",
    "        destination = path + zoning + \"/flip/flip_\" + file \n",
    "        copyfile(origin, destination)\n",
    "#    os.remove(path + zoning + \"/flip/flip_\" + \".DS_Store\")   # removes a hidden file that gets copied over"
   ]
  },
  {
   "cell_type": "markdown",
   "metadata": {},
   "source": [
    "### Step 2: Run Photoshop Batch Flip Process on Each 'Flip' Folder"
   ]
  },
  {
   "cell_type": "markdown",
   "metadata": {},
   "source": [
    "### Step 3: Copy Flipped Images back into Main Zoning Folder\n",
    "& Remove \"flipped\" Directory"
   ]
  },
  {
   "cell_type": "code",
   "execution_count": 88,
   "metadata": {},
   "outputs": [],
   "source": [
    "for zoning in zoning_type_list:\n",
    "    originpath, dirs, files = next(os.walk(path + zoning + \"/flip\"))\n",
    "    for file in files:\n",
    "        origin = originpath + \"/\" + file\n",
    "        destination = path + zoning + \"/\" + file\n",
    "        os.rename(origin,destination)\n",
    "    os.rmdir(originpath)"
   ]
  },
  {
   "cell_type": "markdown",
   "metadata": {},
   "source": [
    "### Step 4: Copy Regular + Flipped Images from Main Folder into Rotational Folders"
   ]
  },
  {
   "cell_type": "code",
   "execution_count": 89,
   "metadata": {},
   "outputs": [],
   "source": [
    "for zoning in zoning_type_list:\n",
    "    originpath, dirs, files = next(os.walk(path + zoning))\n",
    "    os.mkdir(path + zoning + \"/90\")\n",
    "    os.mkdir(path + zoning + \"/180\")\n",
    "    os.mkdir(path + zoning + \"/270\")\n",
    "    for file in files:\n",
    "        origin = originpath + \"/\" + file\n",
    "        destination_90 = originpath + \"/90/90_\" + file\n",
    "        destination_180 = originpath + \"/180/180_\" + file\n",
    "        destination_270 = originpath + \"/270/270_\" + file\n",
    "        copyfile(origin, destination_90)\n",
    "        copyfile(origin, destination_180)\n",
    "        copyfile(origin, destination_270)\n",
    "#    os.remove(originpath + \"/90/90_\" + \".DS_Store\")\n",
    "#    os.remove(originpath + \"/180/180_\" + \".DS_Store\")\n",
    "#    os.remove(originpath + \"/270/270_\" + \".DS_Store\")"
   ]
  },
  {
   "cell_type": "markdown",
   "metadata": {},
   "source": [
    "### Step 5: Run Photoshop Batch Rotation Process on Each Rotational Folder"
   ]
  },
  {
   "cell_type": "markdown",
   "metadata": {},
   "source": [
    "### Step 6: Copy Rotated Images back into Main Zoning Folder"
   ]
  },
  {
   "cell_type": "code",
   "execution_count": 90,
   "metadata": {},
   "outputs": [],
   "source": [
    "for zoning in zoning_type_list:\n",
    "    destination_path = path + zoning\n",
    "    origin_90_path = destination_path + \"/90\"\n",
    "    origin_180_path = destination_path + \"/180\"\n",
    "    origin_270_path = destination_path + \"/270\"\n",
    "    \n",
    "    origin_90_path, dirs, files = next(os.walk(origin_90_path))       \n",
    "    for file in files:\n",
    "        origin_90 = origin_90_path + \"/\" + file   \n",
    "        destination = destination_path + \"/\" + file\n",
    "        os.rename(origin_90,destination)\n",
    "\n",
    "    origin_180_path, dirs, files = next(os.walk(origin_180_path))       \n",
    "    for file in files:\n",
    "        origin_180 = origin_180_path + \"/\" + file   \n",
    "        destination = destination_path + \"/\" + file\n",
    "        os.rename(origin_180,destination)\n",
    "\n",
    "    origin_270_path, dirs, files = next(os.walk(origin_270_path))       \n",
    "    for file in files:\n",
    "        origin_270 = origin_270_path + \"/\" + file   \n",
    "        destination = destination_path + \"/\" + file\n",
    "        os.rename(origin_270,destination) \n",
    "\n",
    "    os.rmdir(destination_path + \"/90\")\n",
    "    os.rmdir(destination_path + \"/180\")\n",
    "    os.rmdir(destination_path + \"/270\") "
   ]
  },
  {
   "cell_type": "code",
   "execution_count": null,
   "metadata": {},
   "outputs": [],
   "source": []
  }
 ],
 "metadata": {
  "kernelspec": {
   "display_name": "Python 3",
   "language": "python",
   "name": "python3"
  },
  "language_info": {
   "codemirror_mode": {
    "name": "ipython",
    "version": 3
   },
   "file_extension": ".py",
   "mimetype": "text/x-python",
   "name": "python",
   "nbconvert_exporter": "python",
   "pygments_lexer": "ipython3",
   "version": "3.6.5"
  }
 },
 "nbformat": 4,
 "nbformat_minor": 2
}

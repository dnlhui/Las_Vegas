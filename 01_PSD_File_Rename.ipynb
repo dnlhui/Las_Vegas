{
 "cells": [
  {
   "cell_type": "code",
   "execution_count": 1,
   "metadata": {},
   "outputs": [],
   "source": [
    "import shutil\n",
    "import string\n",
    "import os"
   ]
  },
  {
   "cell_type": "markdown",
   "metadata": {},
   "source": [
    "### A. 2x2 Grid to 1x1 Grid"
   ]
  },
  {
   "cell_type": "markdown",
   "metadata": {},
   "source": [
    "#### Variables"
   ]
  },
  {
   "cell_type": "code",
   "execution_count": 2,
   "metadata": {},
   "outputs": [],
   "source": [
    "max_rows = 15\n",
    "max_cols = 14"
   ]
  },
  {
   "cell_type": "code",
   "execution_count": 3,
   "metadata": {},
   "outputs": [],
   "source": [
    "#This is the range of components in the filenames of the PNGs\n",
    "num_list = [\"00\",\"01\",\"02\",\"03\",\"04\",\"05\",\"06\",\"07\",\"08\",\"09\"] + [str(i) for i in range(10,100)]  # Numerals\n",
    "alpha_list = [i for i in string.ascii_uppercase][:14]                                             # Letters "
   ]
  },
  {
   "cell_type": "markdown",
   "metadata": {},
   "source": [
    "#### Code Loop"
   ]
  },
  {
   "cell_type": "code",
   "execution_count": 4,
   "metadata": {},
   "outputs": [],
   "source": [
    "for i in range(1,max_rows+1):\n",
    "    for j in range(max_cols):\n",
    "                \n",
    "        # each tile appears in four folders using the name of the 2X2 tile file\n",
    "        upper_left_source  = f\"../02_Data/03_Images/02_PSD_Processed/02_2x2-1x1_Square/01_Renamed/Upper_Left/Las_Vegas_{num_list[i]}{alpha_list[j]}.png\"              \n",
    "        upper_right_source = f\"../02_Data/03_Images/02_PSD_Processed/02_2x2-1x1_Square/01_Renamed/Upper_Right/Las_Vegas_{num_list[i]}{alpha_list[j]}.png\"\n",
    "        lower_left_source  = f\"../02_Data/03_Images/02_PSD_Processed/02_2x2-1x1_Square/01_Renamed/Lower_Left/Las_Vegas_{num_list[i]}{alpha_list[j]}.png\"\n",
    "        lower_right_source = f\"../02_Data/03_Images/02_PSD_Processed/02_2x2-1x1_Square/01_Renamed/Lower_Right/Las_Vegas_{num_list[i]}{alpha_list[j]}.png\"\n",
    "        \n",
    "        # each tile will be given a unique filename, saved into a single folder\n",
    "        upper_row = (i-1)*2\n",
    "        lower_row = (i-1)*2+1\n",
    "        left_col =  j*2\n",
    "        right_col = j*2+1\n",
    "        \n",
    "        upper_left_target  = f\"../02_Data/03_Images/02_PSD_Processed/02_2x2-1x1_Square/01_Renamed/Las_Vegas_{num_list[upper_row]}{num_list[left_col]}.png\"\n",
    "        upper_right_target = f\"../02_Data/03_Images/02_PSD_Processed/02_2x2-1x1_Square/01_Renamed/Las_Vegas_{num_list[upper_row]}{num_list[right_col]}.png\"\n",
    "        lower_left_target  = f\"../02_Data/03_Images/02_PSD_Processed/02_2x2-1x1_Square/01_Renamed/Las_Vegas_{num_list[lower_row]}{num_list[left_col]}.png\"\n",
    "        lower_right_target = f\"../02_Data/03_Images/02_PSD_Processed/02_2x2-1x1_Square/01_Renamed/Las_Vegas_{num_list[lower_row]}{num_list[right_col]}.png\"\n",
    "        \n",
    "        # move the files\n",
    "        os.rename(upper_left_source, upper_left_target)\n",
    "        os.rename(upper_right_source, upper_right_target)\n",
    "        os.rename(lower_left_source, lower_left_target)\n",
    "        os.rename(lower_right_source, lower_right_target)"
   ]
  },
  {
   "cell_type": "markdown",
   "metadata": {},
   "source": [
    "###  B. 1x1 Grid to 0.5x0.5 Grid"
   ]
  },
  {
   "cell_type": "markdown",
   "metadata": {},
   "source": [
    "#### Variables"
   ]
  },
  {
   "cell_type": "code",
   "execution_count": 5,
   "metadata": {},
   "outputs": [],
   "source": [
    "max_rows = 30\n",
    "max_cols = 28"
   ]
  },
  {
   "cell_type": "code",
   "execution_count": 6,
   "metadata": {},
   "outputs": [],
   "source": [
    "num_list = num_list # same as above"
   ]
  },
  {
   "cell_type": "markdown",
   "metadata": {},
   "source": [
    "#### Code Loop"
   ]
  },
  {
   "cell_type": "code",
   "execution_count": 7,
   "metadata": {},
   "outputs": [],
   "source": [
    "for i in range(max_rows):\n",
    "    for j in range(max_cols):\n",
    "\n",
    "        # each tile appears in four folders using the name of the 2X2 tile file\n",
    "        upper_left_source  = f\"../02_Data/03_Images/02_PSD_Processed/03_1x1-0.5x0.5_Square/01_Renamed/Upper_Left/Las_Vegas_{num_list[i]}{num_list[j]}.png\"              \n",
    "        upper_right_source = f\"../02_Data/03_Images/02_PSD_Processed/03_1x1-0.5x0.5_Square/01_Renamed/Upper_Right/Las_Vegas_{num_list[i]}{num_list[j]}.png\"\n",
    "        lower_left_source  = f\"../02_Data/03_Images/02_PSD_Processed/03_1x1-0.5x0.5_Square/01_Renamed/Lower_Left/Las_Vegas_{num_list[i]}{num_list[j]}.png\"\n",
    "        lower_right_source = f\"../02_Data/03_Images/02_PSD_Processed/03_1x1-0.5x0.5_Square/01_Renamed/Lower_Right/Las_Vegas_{num_list[i]}{num_list[j]}.png\"\n",
    "\n",
    "        # each tile will be given a unique filename, saved into a single folder\n",
    "        upper_row = i*2\n",
    "        lower_row = i*2+1\n",
    "        left_col =  j*2\n",
    "        right_col = j*2+1\n",
    "\n",
    "        upper_left_target  = f\"../02_Data/03_Images/02_PSD_Processed/03_1x1-0.5x0.5_Square/01_Renamed/Las_Vegas_{num_list[upper_row]}{num_list[left_col]}.png\"\n",
    "        upper_right_target = f\"../02_Data/03_Images/02_PSD_Processed/03_1x1-0.5x0.5_Square/01_Renamed/Las_Vegas_{num_list[upper_row]}{num_list[right_col]}.png\"\n",
    "        lower_left_target  = f\"../02_Data/03_Images/02_PSD_Processed/03_1x1-0.5x0.5_Square/01_Renamed/Las_Vegas_{num_list[lower_row]}{num_list[left_col]}.png\"\n",
    "        lower_right_target = f\"../02_Data/03_Images/02_PSD_Processed/03_1x1-0.5x0.5_Square/01_Renamed/Las_Vegas_{num_list[lower_row]}{num_list[right_col]}.png\"\n",
    "        \n",
    "        # move the files\n",
    "        os.rename(upper_left_source, upper_left_target)\n",
    "        os.rename(upper_right_source, upper_right_target)\n",
    "        os.rename(lower_left_source, lower_left_target)\n",
    "        os.rename(lower_right_source, lower_right_target)"
   ]
  },
  {
   "cell_type": "markdown",
   "metadata": {},
   "source": [
    "### C. 0.5x0.5 Grid to 0.25x0.25 Grid"
   ]
  },
  {
   "cell_type": "markdown",
   "metadata": {},
   "source": [
    "#### Variables"
   ]
  },
  {
   "cell_type": "code",
   "execution_count": 8,
   "metadata": {},
   "outputs": [],
   "source": [
    "max_rows = 60\n",
    "max_cols = 56"
   ]
  },
  {
   "cell_type": "code",
   "execution_count": 9,
   "metadata": {},
   "outputs": [],
   "source": [
    "num_list = num_list\n",
    "new_num = [str(i) for i in range(0,200)]    # Make a list of numbers as strings\n",
    "\n",
    "for i in range(len(new_num )):              # Make it 3 characters for use in the output files since \n",
    "    if len(new_num[i]) == 1:                # my output file numbering will exceed 99\n",
    "        new_num[i] = \"00\" + new_num [i]\n",
    "    elif len(new_num[i]) == 2:\n",
    "        new_num[i] = \"0\" + new_num [i]"
   ]
  },
  {
   "cell_type": "markdown",
   "metadata": {},
   "source": [
    "#### Code Loop"
   ]
  },
  {
   "cell_type": "code",
   "execution_count": 10,
   "metadata": {},
   "outputs": [],
   "source": [
    "for i in range(max_rows):\n",
    "    for j in range(max_cols):\n",
    "\n",
    "        # each tile appears in four folders using the name of the 2X2 tile file\n",
    "        upper_left_source  = f\"../02_Data/03_Images/02_PSD_Processed/04_0.5x0.5-0.25x0.25_Square/01_Renamed/Upper_Left/Las_Vegas_{num_list[i]}{num_list[j]}.png\"              \n",
    "        upper_right_source = f\"../02_Data/03_Images/02_PSD_Processed/04_0.5x0.5-0.25x0.25_Square/01_Renamed/Upper_Right/Las_Vegas_{num_list[i]}{num_list[j]}.png\"\n",
    "        lower_left_source  = f\"../02_Data/03_Images/02_PSD_Processed/04_0.5x0.5-0.25x0.25_Square/01_Renamed/Lower_Left/Las_Vegas_{num_list[i]}{num_list[j]}.png\"\n",
    "        lower_right_source = f\"../02_Data/03_Images/02_PSD_Processed/04_0.5x0.5-0.25x0.25_Square/01_Renamed/Lower_Right/Las_Vegas_{num_list[i]}{num_list[j]}.png\"\n",
    "\n",
    "        # each tile will be given a unique filename, saved into a single folder\n",
    "        upper_row = i*2\n",
    "        lower_row = i*2+1\n",
    "        left_col =  j*2\n",
    "        right_col = j*2+1\n",
    "\n",
    "        upper_left_target  = f\"../02_Data/03_Images/02_PSD_Processed/04_0.5x0.5-0.25x0.25_Square/01_Renamed/Las_Vegas_{new_num[upper_row]}{new_num[left_col]}.png\"\n",
    "        upper_right_target = f\"../02_Data/03_Images/02_PSD_Processed/04_0.5x0.5-0.25x0.25_Square/01_Renamed/Las_Vegas_{new_num[upper_row]}{new_num[right_col]}.png\"\n",
    "        lower_left_target  = f\"../02_Data/03_Images/02_PSD_Processed/04_0.5x0.5-0.25x0.25_Square/01_Renamed/Las_Vegas_{new_num[lower_row]}{new_num[left_col]}.png\"\n",
    "        lower_right_target = f\"../02_Data/03_Images/02_PSD_Processed/04_0.5x0.5-0.25x0.25_Square/01_Renamed/Las_Vegas_{new_num[lower_row]}{new_num[right_col]}.png\"\n",
    "        \n",
    "        # move the files\n",
    "        os.rename(upper_left_source, upper_left_target)\n",
    "        os.rename(upper_right_source, upper_right_target)\n",
    "        os.rename(lower_left_source, lower_left_target)\n",
    "        os.rename(lower_right_source, lower_right_target)"
   ]
  },
  {
   "cell_type": "markdown",
   "metadata": {},
   "source": [
    "### D. 0.25x0.25 Grid to 0.125x0.125 Grid"
   ]
  },
  {
   "cell_type": "markdown",
   "metadata": {},
   "source": [
    "#### Variables"
   ]
  },
  {
   "cell_type": "code",
   "execution_count": 2,
   "metadata": {},
   "outputs": [],
   "source": [
    "max_rows = 120\n",
    "max_cols = 112"
   ]
  },
  {
   "cell_type": "code",
   "execution_count": 3,
   "metadata": {},
   "outputs": [],
   "source": [
    "new_num = [str(i) for i in range(0,300)]    # Make a list of numbers as strings\n",
    "\n",
    "for i in range(len(new_num )):              # Make it 3 characters for use in the output files since \n",
    "    if len(new_num[i]) == 1:                # my output file numbering will exceed 99\n",
    "        new_num[i] = \"00\" + new_num [i]\n",
    "    elif len(new_num[i]) == 2:\n",
    "        new_num[i] = \"0\" + new_num [i]"
   ]
  },
  {
   "cell_type": "code",
   "execution_count": 4,
   "metadata": {},
   "outputs": [],
   "source": [
    "for i in range(max_rows):\n",
    "    for j in range(max_cols):\n",
    "        \n",
    "        # each tile appears in four folders using the name of the 2X2 tile file\n",
    "        upper_left_source  = f\"../02_Data/03_Images/02_PSD_Processed/05_0.25x0.25-0.125x0.125_Square/01_Renamed/Upper_Left/Las_Vegas_{new_num[i]}{new_num[j]}.png\"              \n",
    "        upper_right_source = f\"../02_Data/03_Images/02_PSD_Processed/05_0.25x0.25-0.125x0.125_Square/01_Renamed/Upper_Right/Las_Vegas_{new_num[i]}{new_num[j]}.png\"\n",
    "        lower_left_source  = f\"../02_Data/03_Images/02_PSD_Processed/05_0.25x0.25-0.125x0.125_Square/01_Renamed/Lower_Left/Las_Vegas_{new_num[i]}{new_num[j]}.png\"\n",
    "        lower_right_source = f\"../02_Data/03_Images/02_PSD_Processed/05_0.25x0.25-0.125x0.125_Square/01_Renamed/Lower_Right/Las_Vegas_{new_num[i]}{new_num[j]}.png\"\n",
    "\n",
    "        # each tile will be given a unique filename, saved into a single folder\n",
    "        upper_row = i*2\n",
    "        lower_row = i*2+1\n",
    "        left_col =  j*2\n",
    "        right_col = j*2+1\n",
    "\n",
    "        upper_left_target  = f\"../02_Data/03_Images/02_PSD_Processed/05_0.25x0.25-0.125x0.125_Square/01_Renamed/Las_Vegas_{new_num[upper_row]}{new_num[left_col]}.png\"\n",
    "        upper_right_target = f\"../02_Data/03_Images/02_PSD_Processed/05_0.25x0.25-0.125x0.125_Square/01_Renamed/Las_Vegas_{new_num[upper_row]}{new_num[right_col]}.png\"\n",
    "        lower_left_target  = f\"../02_Data/03_Images/02_PSD_Processed/05_0.25x0.25-0.125x0.125_Square/01_Renamed/Las_Vegas_{new_num[lower_row]}{new_num[left_col]}.png\"\n",
    "        lower_right_target = f\"../02_Data/03_Images/02_PSD_Processed/05_0.25x0.25-0.125x0.125_Square/01_Renamed/Las_Vegas_{new_num[lower_row]}{new_num[right_col]}.png\"\n",
    "        \n",
    "        # move the files\n",
    "        os.rename(upper_left_source, upper_left_target)\n",
    "        os.rename(upper_right_source, upper_right_target)\n",
    "        os.rename(lower_left_source, lower_left_target)\n",
    "        os.rename(lower_right_source, lower_right_target)"
   ]
  },
  {
   "cell_type": "code",
   "execution_count": null,
   "metadata": {},
   "outputs": [],
   "source": []
  }
 ],
 "metadata": {
  "kernelspec": {
   "display_name": "Python 3",
   "language": "python",
   "name": "python3"
  },
  "language_info": {
   "codemirror_mode": {
    "name": "ipython",
    "version": 3
   },
   "file_extension": ".py",
   "mimetype": "text/x-python",
   "name": "python",
   "nbconvert_exporter": "python",
   "pygments_lexer": "ipython3",
   "version": "3.6.5"
  }
 },
 "nbformat": 4,
 "nbformat_minor": 2
}

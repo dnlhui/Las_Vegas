{
 "cells": [
  {
   "cell_type": "code",
   "execution_count": 10,
   "metadata": {},
   "outputs": [],
   "source": [
    "import os, os.path\n",
    "from shutil import copyfile\n",
    "import shutil\n",
    "import random\n",
    "from collections import defaultdict\n",
    "import numpy as np"
   ]
  },
  {
   "cell_type": "code",
   "execution_count": null,
   "metadata": {},
   "outputs": [],
   "source": [
    "zoning_type_list = [\"com_high\",\"com_med\",\"ind_high\",\"ind_office_med\",\"res_high\",\"res_low\",\"res_med\"]"
   ]
  },
  {
   "cell_type": "markdown",
   "metadata": {},
   "source": [
    "### Create New Folders to Hold Images"
   ]
  },
  {
   "cell_type": "code",
   "execution_count": 59,
   "metadata": {},
   "outputs": [],
   "source": [
    "shutil.rmtree(\"../02_Data/06_Test_Train_Val/train_equal\")"
   ]
  },
  {
   "cell_type": "code",
   "execution_count": 60,
   "metadata": {},
   "outputs": [],
   "source": [
    "os.mkdir(\"../02_Data/06_Test_Train_Val/train_equal\")\n",
    "for zoning in zoning_type_list:\n",
    "    os.mkdir(f\"../02_Data/06_Test_Train_Val/train_equal/{zoning}\")"
   ]
  },
  {
   "cell_type": "markdown",
   "metadata": {},
   "source": [
    "### Copy into Each Folder an equal number of Photos"
   ]
  },
  {
   "cell_type": "code",
   "execution_count": 61,
   "metadata": {},
   "outputs": [],
   "source": [
    "for zoning in zoning_type_list:\n",
    "    path, dirs, files = next(os.walk(f\"../02_Data/06_Test_Train_Val/train/{zoning}\"))\n",
    "    np.random.shuffle(files)\n",
    "    for file in files[:1725]:\n",
    "        origin = f\"../02_Data/06_Test_Train_Val/train/{zoning}/{file}\"\n",
    "        destination = f\"../02_Data/06_Test_Train_Val/train_equal/{zoning}/{file}\"\n",
    "        copyfile(origin, destination)"
   ]
  }
 ],
 "metadata": {
  "kernelspec": {
   "display_name": "Python 3",
   "language": "python",
   "name": "python3"
  },
  "language_info": {
   "codemirror_mode": {
    "name": "ipython",
    "version": 3
   },
   "file_extension": ".py",
   "mimetype": "text/x-python",
   "name": "python",
   "nbconvert_exporter": "python",
   "pygments_lexer": "ipython3",
   "version": "3.6.5"
  }
 },
 "nbformat": 4,
 "nbformat_minor": 2
}

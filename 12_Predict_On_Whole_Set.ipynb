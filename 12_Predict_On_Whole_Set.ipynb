{
 "cells": [
  {
   "cell_type": "code",
   "execution_count": 31,
   "metadata": {},
   "outputs": [],
   "source": [
    "import matplotlib.image as mpimg\n",
    "import pandas as pd\n",
    "import numpy as np\n",
    "import shutil\n",
    "import string\n",
    "import keras\n",
    "import os\n",
    "import cv2\n",
    "\n",
    "from keras.models import load_model\n",
    "from collections import defaultdict\n",
    "from shutil import copyfile"
   ]
  },
  {
   "cell_type": "code",
   "execution_count": 2,
   "metadata": {},
   "outputs": [
    {
     "name": "stdout",
     "output_type": "stream",
     "text": [
      "(4562, 4259, 3)\n"
     ]
    }
   ],
   "source": [
    "original_image = mpimg.imread(\"../02_Data/04_Zoning_Maps/Las_Vegas_MSA.png\")\n",
    "print(original_image.shape)"
   ]
  },
  {
   "cell_type": "markdown",
   "metadata": {},
   "source": [
    "### Global Variables"
   ]
  },
  {
   "cell_type": "code",
   "execution_count": 3,
   "metadata": {},
   "outputs": [],
   "source": [
    "cols = 224\n",
    "rows = 240\n",
    "\n",
    "min_zoning_threshold = .50     # this sets the minimum percent that a zoning type should cover before an image\n",
    "                               # is assigned to that type. It is used in cell 'Zoning - Processing Function'\n",
    "min_coverage_threshold = 0.075 # this variable sets the minimum building coverage in each image. It is used in\n",
    "                               # cell 'Site Coverage - EDA'"
   ]
  },
  {
   "cell_type": "markdown",
   "metadata": {},
   "source": [
    "### Zoning - Internal Variables"
   ]
  },
  {
   "cell_type": "code",
   "execution_count": 4,
   "metadata": {},
   "outputs": [],
   "source": [
    "# RGB values mapped to program type\n",
    "red = 0\n",
    "green = 1\n",
    "blue = 2\n",
    "\n",
    "# keys for dictionary\n",
    "commercial_high = (red, round(10*255/255))\n",
    "commercial_med  = (red, round(10*200/255))\n",
    "industrial_high = (green, round(10*75/255))\n",
    "industrial_office_med = (green, round(10*150/255))\n",
    "res_low  = (blue, round(10*255/255))\n",
    "res_med  = (blue, round(10*200/255))\n",
    "res_high = (blue, round(10*100/255))\n",
    "\n",
    "# zoning_list\n",
    "zoning_list = [commercial_high,commercial_med,industrial_high,\n",
    "               industrial_office_med,res_low,res_med,res_high]\n",
    "zoning_names = [\"com_high\",\"com_med\",\"ind_high\",\"ind_office_med\",\"res_low\",\"res_med\",\"res_high\"]\n",
    "zoning_names_dict = dict(zip(zoning_list,zoning_names))\n",
    "\n",
    "# Column/Row Coordinates\n",
    "col_offset_float = original_image.shape[1]/cols\n",
    "row_offset_float = original_image.shape[0]/rows\n",
    "\n",
    "# Subdivided Image Size\n",
    "col_pixels = int(col_offset_float)\n",
    "row_pixels = int(row_offset_float)"
   ]
  },
  {
   "cell_type": "markdown",
   "metadata": {},
   "source": [
    "### Zoning - Processing Function"
   ]
  },
  {
   "cell_type": "code",
   "execution_count": 5,
   "metadata": {},
   "outputs": [],
   "source": [
    "def get_zoning(image_array):\n",
    "    rgb_dict = defaultdict(int)\n",
    "    \n",
    "    for i in range(image_array.shape[0]):       # for the row dimension\n",
    "        for j in range(image_array.shape[1]):   # for the column dimension\n",
    "            pixel_rgb = image_array[i][j]\n",
    "            if sum(pixel_rgb) > 1.1:            # this should exclude (1) noise and (2) white pixels (255,255,255)\n",
    "                pass                            # correct pixels should never exceed 1 when summed (255,0,0)\n",
    "            else:\n",
    "                dominant_channel = np.argmax(image_array[i][j])                             # is the main channel value R,G or B?\n",
    "                dominant_channel_value = int(round(10*image_array[i][j][dominant_channel])) # and what is the value? round to clean out noise\n",
    "                rgb_dict[(dominant_channel,dominant_channel_value)] += 1                    # dictionary of channel + value, increment\n",
    "                \n",
    "    zoning_dict = defaultdict(int)\n",
    "\n",
    "    for zoning in zoning_list:                  # extract the relevant values corresponding to zoning pixels\n",
    "        new_key = zoning_names_dict[zoning]\n",
    "        zoning_dict[new_key] = rgb_dict[zoning] # remap to new dictionary\n",
    "    \n",
    "    zoning_type, count = list(zoning_dict.keys()), list(zoning_dict.values())   # unzip to find largest value\n",
    "    max_position = np.argmax(count)\n",
    "    dominant_zoning = zoning_type[max_position]                                 # grab index of largest count\n",
    "                                                                                # and find zoning type\n",
    "    \n",
    "    total_pixels = image_array.shape[0]*image_array.shape[1]\n",
    "    if count[max_position] < (total_pixels * min_zoning_threshold):             # check if the dominant zoning\n",
    "        dominant_zoning = \"none\"                                                # type meets a minimum threshold\n",
    "    \n",
    "    return dominant_zoning"
   ]
  },
  {
   "cell_type": "markdown",
   "metadata": {},
   "source": [
    "### Zoning - Processing Loop"
   ]
  },
  {
   "cell_type": "code",
   "execution_count": 6,
   "metadata": {},
   "outputs": [],
   "source": [
    "new_image = np.zeros(shape=(row_pixels,col_pixels,3))\n",
    "image_dict = defaultdict(list)\n",
    "\n",
    "for r in range(rows):                                   # go through the row coordinates\n",
    "    start_pixel_row = int(r*row_offset_float)          \n",
    "    for c in range(cols):                               # go through the column coordinates\n",
    "        start_pixel_col = int(c*col_offset_float)       # define the start and end of the column pixels\n",
    "        end_pixel_col = start_pixel_col + col_pixels   \n",
    "        for rp in range(row_pixels):                    # and go row by row within the coordinate grid\n",
    "            new_image[rp] = original_image[start_pixel_row+rp][start_pixel_col:end_pixel_col]\n",
    "        \n",
    "        row_name = (\"00\"+str(r))[-3:]\n",
    "        col_name = (\"00\"+str(c))[-3:]\n",
    "        image_dict[row_name+col_name] = [get_zoning(new_image)]"
   ]
  },
  {
   "cell_type": "markdown",
   "metadata": {},
   "source": [
    "### Zoning - EDA\n",
    "How many of each Zoning Type are there? "
   ]
  },
  {
   "cell_type": "code",
   "execution_count": 7,
   "metadata": {},
   "outputs": [
    {
     "data": {
      "text/plain": [
       "defaultdict(int,\n",
       "            {'none': 41632,\n",
       "             'ind_high': 1124,\n",
       "             'res_low': 7211,\n",
       "             'ind_office_med': 1118,\n",
       "             'com_med': 1156,\n",
       "             'res_med': 553,\n",
       "             'res_high': 495,\n",
       "             'com_high': 471})"
      ]
     },
     "execution_count": 7,
     "metadata": {},
     "output_type": "execute_result"
    }
   ],
   "source": [
    "zone_dict = defaultdict(int)\n",
    "\n",
    "for square in list(image_dict.values()):\n",
    "    zone_dict[square[0]] += 1\n",
    "\n",
    "zone_dict"
   ]
  },
  {
   "cell_type": "markdown",
   "metadata": {},
   "source": [
    "### Create DataFrame"
   ]
  },
  {
   "cell_type": "code",
   "execution_count": 8,
   "metadata": {},
   "outputs": [
    {
     "data": {
      "text/html": [
       "<div>\n",
       "<style scoped>\n",
       "    .dataframe tbody tr th:only-of-type {\n",
       "        vertical-align: middle;\n",
       "    }\n",
       "\n",
       "    .dataframe tbody tr th {\n",
       "        vertical-align: top;\n",
       "    }\n",
       "\n",
       "    .dataframe thead th {\n",
       "        text-align: right;\n",
       "    }\n",
       "</style>\n",
       "<table border=\"1\" class=\"dataframe\">\n",
       "  <thead>\n",
       "    <tr style=\"text-align: right;\">\n",
       "      <th></th>\n",
       "      <th>code</th>\n",
       "      <th>zoning</th>\n",
       "    </tr>\n",
       "  </thead>\n",
       "  <tbody>\n",
       "    <tr>\n",
       "      <th>000000</th>\n",
       "      <td>000000</td>\n",
       "      <td>none</td>\n",
       "    </tr>\n",
       "    <tr>\n",
       "      <th>000001</th>\n",
       "      <td>000001</td>\n",
       "      <td>none</td>\n",
       "    </tr>\n",
       "    <tr>\n",
       "      <th>000002</th>\n",
       "      <td>000002</td>\n",
       "      <td>none</td>\n",
       "    </tr>\n",
       "    <tr>\n",
       "      <th>000003</th>\n",
       "      <td>000003</td>\n",
       "      <td>none</td>\n",
       "    </tr>\n",
       "    <tr>\n",
       "      <th>000004</th>\n",
       "      <td>000004</td>\n",
       "      <td>none</td>\n",
       "    </tr>\n",
       "  </tbody>\n",
       "</table>\n",
       "</div>"
      ],
      "text/plain": [
       "          code zoning\n",
       "000000  000000   none\n",
       "000001  000001   none\n",
       "000002  000002   none\n",
       "000003  000003   none\n",
       "000004  000004   none"
      ]
     },
     "execution_count": 8,
     "metadata": {},
     "output_type": "execute_result"
    }
   ],
   "source": [
    "grid_df = pd.DataFrame.from_dict(image_dict, orient='index') \n",
    "grid_df = grid_df.rename({0:\"zoning\"},axis=1)\n",
    "grid_df[\"code\"] = grid_df.index.get_values()\n",
    "grid_df = grid_df[[\"code\",\"zoning\"]]\n",
    "grid_df.head()"
   ]
  },
  {
   "cell_type": "markdown",
   "metadata": {},
   "source": [
    "### Site Coverage - Function"
   ]
  },
  {
   "cell_type": "code",
   "execution_count": 9,
   "metadata": {},
   "outputs": [],
   "source": [
    "def get_coverage(row):\n",
    "    total = 8053.7   # I calcluated this manually since the white is not 100% 255,255,255 white. If \n",
    "                     # the image processing steps changes to a more white image, this value will have to change\n",
    "    fragment = mpimg.imread(f\"../02_Data/03_Images/02_PSD_Processed/05_0.25x0.25-0.125x0.125_Square/01_Renamed/Las_Vegas_{row}.png\")\n",
    "    pixel_count = sum(sum(fragment))[0]   # just add all the values together\n",
    "    return round(1 - pixel_count/total,4) # round it to 4 decimal places"
   ]
  },
  {
   "cell_type": "code",
   "execution_count": 10,
   "metadata": {},
   "outputs": [],
   "source": [
    "# This code finds the value for the variable total (8053.7)\n",
    "# fragment = mpimg.imread(\"../02_Data/03_Images/02_PSD_Processed/05_0.25x0.25-0.125x0.125_Square/01_Renamed/Las_Vegas_000000.png\")\n",
    "# pixel_count = sum(sum(fragment))[0]\n",
    "# pixel_count"
   ]
  },
  {
   "cell_type": "markdown",
   "metadata": {},
   "source": [
    "### Site Coverage - Apply Function"
   ]
  },
  {
   "cell_type": "code",
   "execution_count": 10,
   "metadata": {},
   "outputs": [],
   "source": [
    "grid_df[\"coverage\"] = grid_df[\"code\"].apply(get_coverage)"
   ]
  },
  {
   "cell_type": "code",
   "execution_count": 11,
   "metadata": {},
   "outputs": [],
   "source": [
    "grid_df[\"coverage\"] = grid_df[\"coverage\"].astype(float)    # convert to a float (was a string)"
   ]
  },
  {
   "cell_type": "markdown",
   "metadata": {},
   "source": [
    "### Site Coverage - EDA"
   ]
  },
  {
   "cell_type": "code",
   "execution_count": 12,
   "metadata": {},
   "outputs": [
    {
     "data": {
      "text/html": [
       "<div>\n",
       "<style scoped>\n",
       "    .dataframe tbody tr th:only-of-type {\n",
       "        vertical-align: middle;\n",
       "    }\n",
       "\n",
       "    .dataframe tbody tr th {\n",
       "        vertical-align: top;\n",
       "    }\n",
       "\n",
       "    .dataframe thead th {\n",
       "        text-align: right;\n",
       "    }\n",
       "</style>\n",
       "<table border=\"1\" class=\"dataframe\">\n",
       "  <thead>\n",
       "    <tr style=\"text-align: right;\">\n",
       "      <th></th>\n",
       "      <th>code</th>\n",
       "      <th>zoning</th>\n",
       "      <th>coverage</th>\n",
       "    </tr>\n",
       "  </thead>\n",
       "  <tbody>\n",
       "    <tr>\n",
       "      <th>000000</th>\n",
       "      <td>000000</td>\n",
       "      <td>none</td>\n",
       "      <td>0.0</td>\n",
       "    </tr>\n",
       "    <tr>\n",
       "      <th>000001</th>\n",
       "      <td>000001</td>\n",
       "      <td>none</td>\n",
       "      <td>0.0</td>\n",
       "    </tr>\n",
       "    <tr>\n",
       "      <th>000002</th>\n",
       "      <td>000002</td>\n",
       "      <td>none</td>\n",
       "      <td>0.0</td>\n",
       "    </tr>\n",
       "    <tr>\n",
       "      <th>000003</th>\n",
       "      <td>000003</td>\n",
       "      <td>none</td>\n",
       "      <td>0.0</td>\n",
       "    </tr>\n",
       "    <tr>\n",
       "      <th>000004</th>\n",
       "      <td>000004</td>\n",
       "      <td>none</td>\n",
       "      <td>0.0</td>\n",
       "    </tr>\n",
       "  </tbody>\n",
       "</table>\n",
       "</div>"
      ],
      "text/plain": [
       "          code zoning  coverage\n",
       "000000  000000   none       0.0\n",
       "000001  000001   none       0.0\n",
       "000002  000002   none       0.0\n",
       "000003  000003   none       0.0\n",
       "000004  000004   none       0.0"
      ]
     },
     "execution_count": 12,
     "metadata": {},
     "output_type": "execute_result"
    }
   ],
   "source": [
    "grid_df.head()"
   ]
  },
  {
   "cell_type": "markdown",
   "metadata": {},
   "source": [
    "Number of plots with at least the minimum zoning and at least the minimum building coverage"
   ]
  },
  {
   "cell_type": "code",
   "execution_count": 13,
   "metadata": {},
   "outputs": [
    {
     "data": {
      "text/plain": [
       "(7533, 3)"
      ]
     },
     "execution_count": 13,
     "metadata": {},
     "output_type": "execute_result"
    }
   ],
   "source": [
    "zoned_lots_w_bldgs_df = grid_df[(grid_df[\"zoning\"] != 'none') & (grid_df[\"coverage\"] > min_coverage_threshold)] \n",
    "zoned_lots_w_bldgs_df.shape"
   ]
  },
  {
   "cell_type": "code",
   "execution_count": 14,
   "metadata": {},
   "outputs": [
    {
     "data": {
      "text/html": [
       "<div>\n",
       "<style scoped>\n",
       "    .dataframe tbody tr th:only-of-type {\n",
       "        vertical-align: middle;\n",
       "    }\n",
       "\n",
       "    .dataframe tbody tr th {\n",
       "        vertical-align: top;\n",
       "    }\n",
       "\n",
       "    .dataframe thead th {\n",
       "        text-align: right;\n",
       "    }\n",
       "</style>\n",
       "<table border=\"1\" class=\"dataframe\">\n",
       "  <thead>\n",
       "    <tr style=\"text-align: right;\">\n",
       "      <th></th>\n",
       "      <th>code</th>\n",
       "      <th>zoning</th>\n",
       "      <th>coverage</th>\n",
       "    </tr>\n",
       "  </thead>\n",
       "  <tbody>\n",
       "    <tr>\n",
       "      <th>004052</th>\n",
       "      <td>004052</td>\n",
       "      <td>res_low</td>\n",
       "      <td>0.1071</td>\n",
       "    </tr>\n",
       "    <tr>\n",
       "      <th>004053</th>\n",
       "      <td>004053</td>\n",
       "      <td>res_low</td>\n",
       "      <td>0.0890</td>\n",
       "    </tr>\n",
       "    <tr>\n",
       "      <th>005053</th>\n",
       "      <td>005053</td>\n",
       "      <td>res_low</td>\n",
       "      <td>0.2100</td>\n",
       "    </tr>\n",
       "    <tr>\n",
       "      <th>006041</th>\n",
       "      <td>006041</td>\n",
       "      <td>res_low</td>\n",
       "      <td>0.1099</td>\n",
       "    </tr>\n",
       "    <tr>\n",
       "      <th>006042</th>\n",
       "      <td>006042</td>\n",
       "      <td>res_low</td>\n",
       "      <td>0.0946</td>\n",
       "    </tr>\n",
       "  </tbody>\n",
       "</table>\n",
       "</div>"
      ],
      "text/plain": [
       "          code   zoning  coverage\n",
       "004052  004052  res_low    0.1071\n",
       "004053  004053  res_low    0.0890\n",
       "005053  005053  res_low    0.2100\n",
       "006041  006041  res_low    0.1099\n",
       "006042  006042  res_low    0.0946"
      ]
     },
     "execution_count": 14,
     "metadata": {},
     "output_type": "execute_result"
    }
   ],
   "source": [
    "zoned_lots_w_bldgs_df.head()"
   ]
  },
  {
   "cell_type": "markdown",
   "metadata": {},
   "source": [
    "How many of each zoning type do I have images of with built buildings?"
   ]
  },
  {
   "cell_type": "code",
   "execution_count": 15,
   "metadata": {},
   "outputs": [
    {
     "data": {
      "text/plain": [
       "res_low           4729\n",
       "com_med            746\n",
       "res_high           451\n",
       "res_med            450\n",
       "ind_office_med     423\n",
       "ind_high           373\n",
       "com_high           361\n",
       "Name: zoning, dtype: int64"
      ]
     },
     "execution_count": 15,
     "metadata": {},
     "output_type": "execute_result"
    }
   ],
   "source": [
    "zoned_lots_w_bldgs_df[\"zoning\"].value_counts()"
   ]
  },
  {
   "cell_type": "markdown",
   "metadata": {},
   "source": [
    "### Function to Get URL Filepath"
   ]
  },
  {
   "cell_type": "code",
   "execution_count": 20,
   "metadata": {},
   "outputs": [],
   "source": [
    "def get_url(row):\n",
    "    url_path = f\"../02_Data/03_Images/02_PSD_Processed/05_0.25x0.25-0.125x0.125_Square/01_Renamed/Las_Vegas_{row}.png\"\n",
    "    return url_path"
   ]
  },
  {
   "cell_type": "markdown",
   "metadata": {},
   "source": [
    "### Add URL Filepath to DataFrame"
   ]
  },
  {
   "cell_type": "code",
   "execution_count": 21,
   "metadata": {},
   "outputs": [
    {
     "name": "stderr",
     "output_type": "stream",
     "text": [
      "/anaconda3/lib/python3.6/site-packages/ipykernel_launcher.py:2: SettingWithCopyWarning: \n",
      "A value is trying to be set on a copy of a slice from a DataFrame.\n",
      "Try using .loc[row_indexer,col_indexer] = value instead\n",
      "\n",
      "See the caveats in the documentation: http://pandas.pydata.org/pandas-docs/stable/indexing.html#indexing-view-versus-copy\n",
      "  \n"
     ]
    },
    {
     "data": {
      "text/html": [
       "<div>\n",
       "<style scoped>\n",
       "    .dataframe tbody tr th:only-of-type {\n",
       "        vertical-align: middle;\n",
       "    }\n",
       "\n",
       "    .dataframe tbody tr th {\n",
       "        vertical-align: top;\n",
       "    }\n",
       "\n",
       "    .dataframe thead th {\n",
       "        text-align: right;\n",
       "    }\n",
       "</style>\n",
       "<table border=\"1\" class=\"dataframe\">\n",
       "  <thead>\n",
       "    <tr style=\"text-align: right;\">\n",
       "      <th></th>\n",
       "      <th>code</th>\n",
       "      <th>zoning</th>\n",
       "      <th>coverage</th>\n",
       "      <th>url</th>\n",
       "    </tr>\n",
       "  </thead>\n",
       "  <tbody>\n",
       "    <tr>\n",
       "      <th>004052</th>\n",
       "      <td>004052</td>\n",
       "      <td>res_low</td>\n",
       "      <td>0.1071</td>\n",
       "      <td>../02_Data/03_Images/02_PSD_Processed/05_0.25x...</td>\n",
       "    </tr>\n",
       "    <tr>\n",
       "      <th>004053</th>\n",
       "      <td>004053</td>\n",
       "      <td>res_low</td>\n",
       "      <td>0.0890</td>\n",
       "      <td>../02_Data/03_Images/02_PSD_Processed/05_0.25x...</td>\n",
       "    </tr>\n",
       "    <tr>\n",
       "      <th>005053</th>\n",
       "      <td>005053</td>\n",
       "      <td>res_low</td>\n",
       "      <td>0.2100</td>\n",
       "      <td>../02_Data/03_Images/02_PSD_Processed/05_0.25x...</td>\n",
       "    </tr>\n",
       "    <tr>\n",
       "      <th>006041</th>\n",
       "      <td>006041</td>\n",
       "      <td>res_low</td>\n",
       "      <td>0.1099</td>\n",
       "      <td>../02_Data/03_Images/02_PSD_Processed/05_0.25x...</td>\n",
       "    </tr>\n",
       "    <tr>\n",
       "      <th>006042</th>\n",
       "      <td>006042</td>\n",
       "      <td>res_low</td>\n",
       "      <td>0.0946</td>\n",
       "      <td>../02_Data/03_Images/02_PSD_Processed/05_0.25x...</td>\n",
       "    </tr>\n",
       "  </tbody>\n",
       "</table>\n",
       "</div>"
      ],
      "text/plain": [
       "          code   zoning  coverage  \\\n",
       "004052  004052  res_low    0.1071   \n",
       "004053  004053  res_low    0.0890   \n",
       "005053  005053  res_low    0.2100   \n",
       "006041  006041  res_low    0.1099   \n",
       "006042  006042  res_low    0.0946   \n",
       "\n",
       "                                                      url  \n",
       "004052  ../02_Data/03_Images/02_PSD_Processed/05_0.25x...  \n",
       "004053  ../02_Data/03_Images/02_PSD_Processed/05_0.25x...  \n",
       "005053  ../02_Data/03_Images/02_PSD_Processed/05_0.25x...  \n",
       "006041  ../02_Data/03_Images/02_PSD_Processed/05_0.25x...  \n",
       "006042  ../02_Data/03_Images/02_PSD_Processed/05_0.25x...  "
      ]
     },
     "execution_count": 21,
     "metadata": {},
     "output_type": "execute_result"
    }
   ],
   "source": [
    "data_df = zoned_lots_w_bldgs_df\n",
    "data_df[\"url\"] = data_df[\"code\"].apply(get_url)\n",
    "data_df.head()"
   ]
  },
  {
   "cell_type": "markdown",
   "metadata": {},
   "source": [
    "### Load Predictive Models"
   ]
  },
  {
   "cell_type": "code",
   "execution_count": 24,
   "metadata": {},
   "outputs": [],
   "source": [
    "CNN_model_1 = load_model('../06_Jupyter_Notebooks/01_Models/las_vegas_CNN_Trained_12_Layers_Final_v1.h5')\n",
    "CNN_model_2 = load_model('../06_Jupyter_Notebooks/01_Models/las_vegas_CNN_Trained_12_Layers_Final_v2.h5')\n",
    "CNN_model_3 = load_model('../06_Jupyter_Notebooks/01_Models/las_vegas_CNN_Trained_12_Layers_Final_v3.h5')\n",
    "CNN_model_4 = load_model('../06_Jupyter_Notebooks/01_Models/las_vegas_CNN_Trained_12_Layers_Final_v4.h5')\n",
    "CNN_model_5 = load_model('../06_Jupyter_Notebooks/01_Models/las_vegas_CNN_Trained_12_Layers_Final_v5.h5')"
   ]
  },
  {
   "cell_type": "code",
   "execution_count": 25,
   "metadata": {},
   "outputs": [],
   "source": [
    "CNN_models = [CNN_model_1, CNN_model_2, CNN_model_3, CNN_model_4, CNN_model_5]"
   ]
  },
  {
   "cell_type": "markdown",
   "metadata": {},
   "source": [
    "### Prediction Function - Single CNN Model"
   ]
  },
  {
   "cell_type": "code",
   "execution_count": 26,
   "metadata": {},
   "outputs": [],
   "source": [
    "def CNN_predict(row, model):\n",
    "    img = cv2.imread(row, cv2.IMREAD_GRAYSCALE)\n",
    "    img = cv2.resize(img, dsize=(150, 150))                                     # resize image to 150 for processing \n",
    "    img_array = np.array(img)\n",
    "    img_array = img_array.reshape(1,img_array.shape[0],img_array.shape[1],1)\n",
    "    return np.round(model.predict(img_array),3)"
   ]
  },
  {
   "cell_type": "markdown",
   "metadata": {},
   "source": [
    "### Prediction Function - Ensembled CNN Models"
   ]
  },
  {
   "cell_type": "code",
   "execution_count": 27,
   "metadata": {},
   "outputs": [],
   "source": [
    "def CNN_ensemble_predict(row, model_list):\n",
    "    predict_ensemble = np.zeros((1,7))\n",
    "    for m in model_list:                                          # randomness to help break ties\n",
    "        predict_ensemble = predict_ensemble + CNN_predict(row, m) * np.random.uniform(.95,1.05)  \n",
    "    predict_ensemble = predict_ensemble / len(model_list)         # divide by number of models\n",
    "    return np.round(predict_ensemble,3)"
   ]
  },
  {
   "cell_type": "markdown",
   "metadata": {},
   "source": [
    "### Run Prediction on Images with Zoning and Building Coverage"
   ]
  },
  {
   "cell_type": "code",
   "execution_count": 32,
   "metadata": {},
   "outputs": [],
   "source": [
    "predict_df = data_df[(data_df[\"zoning\"] != 'none') & (data_df[\"coverage\"] > min_coverage_threshold)] \n",
    "predict_df[\"prediction\"] = predict_df[\"url\"].apply(CNN_ensemble_predict,model_list=CNN_models)"
   ]
  },
  {
   "cell_type": "code",
   "execution_count": 33,
   "metadata": {},
   "outputs": [
    {
     "data": {
      "text/html": [
       "<div>\n",
       "<style scoped>\n",
       "    .dataframe tbody tr th:only-of-type {\n",
       "        vertical-align: middle;\n",
       "    }\n",
       "\n",
       "    .dataframe tbody tr th {\n",
       "        vertical-align: top;\n",
       "    }\n",
       "\n",
       "    .dataframe thead th {\n",
       "        text-align: right;\n",
       "    }\n",
       "</style>\n",
       "<table border=\"1\" class=\"dataframe\">\n",
       "  <thead>\n",
       "    <tr style=\"text-align: right;\">\n",
       "      <th></th>\n",
       "      <th>code</th>\n",
       "      <th>zoning</th>\n",
       "      <th>coverage</th>\n",
       "      <th>url</th>\n",
       "      <th>prediction</th>\n",
       "    </tr>\n",
       "  </thead>\n",
       "  <tbody>\n",
       "    <tr>\n",
       "      <th>004052</th>\n",
       "      <td>004052</td>\n",
       "      <td>res_low</td>\n",
       "      <td>0.1071</td>\n",
       "      <td>../02_Data/03_Images/02_PSD_Processed/05_0.25x...</td>\n",
       "      <td>[[0.0, 0.0, 0.0, 0.0, 0.0, 0.605, 0.397]]</td>\n",
       "    </tr>\n",
       "    <tr>\n",
       "      <th>004053</th>\n",
       "      <td>004053</td>\n",
       "      <td>res_low</td>\n",
       "      <td>0.0890</td>\n",
       "      <td>../02_Data/03_Images/02_PSD_Processed/05_0.25x...</td>\n",
       "      <td>[[0.0, 0.761, 0.0, 0.0, 0.0, 0.233, 0.0]]</td>\n",
       "    </tr>\n",
       "    <tr>\n",
       "      <th>005053</th>\n",
       "      <td>005053</td>\n",
       "      <td>res_low</td>\n",
       "      <td>0.2100</td>\n",
       "      <td>../02_Data/03_Images/02_PSD_Processed/05_0.25x...</td>\n",
       "      <td>[[0.0, 0.0, 0.0, 0.0, 0.0, 1.001, 0.0]]</td>\n",
       "    </tr>\n",
       "    <tr>\n",
       "      <th>006041</th>\n",
       "      <td>006041</td>\n",
       "      <td>res_low</td>\n",
       "      <td>0.1099</td>\n",
       "      <td>../02_Data/03_Images/02_PSD_Processed/05_0.25x...</td>\n",
       "      <td>[[0.0, 0.0, 0.0, 0.0, 0.0, 1.005, 0.0]]</td>\n",
       "    </tr>\n",
       "    <tr>\n",
       "      <th>006042</th>\n",
       "      <td>006042</td>\n",
       "      <td>res_low</td>\n",
       "      <td>0.0946</td>\n",
       "      <td>../02_Data/03_Images/02_PSD_Processed/05_0.25x...</td>\n",
       "      <td>[[0.0, 0.205, 0.207, 0.19, 0.0, 0.387, 0.0]]</td>\n",
       "    </tr>\n",
       "  </tbody>\n",
       "</table>\n",
       "</div>"
      ],
      "text/plain": [
       "          code   zoning  coverage  \\\n",
       "004052  004052  res_low    0.1071   \n",
       "004053  004053  res_low    0.0890   \n",
       "005053  005053  res_low    0.2100   \n",
       "006041  006041  res_low    0.1099   \n",
       "006042  006042  res_low    0.0946   \n",
       "\n",
       "                                                      url  \\\n",
       "004052  ../02_Data/03_Images/02_PSD_Processed/05_0.25x...   \n",
       "004053  ../02_Data/03_Images/02_PSD_Processed/05_0.25x...   \n",
       "005053  ../02_Data/03_Images/02_PSD_Processed/05_0.25x...   \n",
       "006041  ../02_Data/03_Images/02_PSD_Processed/05_0.25x...   \n",
       "006042  ../02_Data/03_Images/02_PSD_Processed/05_0.25x...   \n",
       "\n",
       "                                          prediction  \n",
       "004052     [[0.0, 0.0, 0.0, 0.0, 0.0, 0.605, 0.397]]  \n",
       "004053     [[0.0, 0.761, 0.0, 0.0, 0.0, 0.233, 0.0]]  \n",
       "005053       [[0.0, 0.0, 0.0, 0.0, 0.0, 1.001, 0.0]]  \n",
       "006041       [[0.0, 0.0, 0.0, 0.0, 0.0, 1.005, 0.0]]  \n",
       "006042  [[0.0, 0.205, 0.207, 0.19, 0.0, 0.387, 0.0]]  "
      ]
     },
     "execution_count": 33,
     "metadata": {},
     "output_type": "execute_result"
    }
   ],
   "source": [
    "predict_df.head()"
   ]
  },
  {
   "cell_type": "markdown",
   "metadata": {},
   "source": [
    "### Get Zoning Definition"
   ]
  },
  {
   "cell_type": "code",
   "execution_count": 35,
   "metadata": {},
   "outputs": [],
   "source": [
    "# the directories are the zoning type classifications\n",
    "# which I copied from the notebook \"05_Modelling_CNN_Scratch\"\n",
    "# from the code: train_generator.class_indices\n",
    "zoning_types = list(np.sort(['com_high','com_med','ind_high','ind_office_med','res_high','res_low','res_med']))   "
   ]
  },
  {
   "cell_type": "code",
   "execution_count": 37,
   "metadata": {},
   "outputs": [],
   "source": [
    "def get_zoning(row):\n",
    "    index = np.argmax(row)\n",
    "    return zoning_types[index]"
   ]
  },
  {
   "cell_type": "markdown",
   "metadata": {},
   "source": [
    "### Get Zoning on Predictions"
   ]
  },
  {
   "cell_type": "code",
   "execution_count": 38,
   "metadata": {},
   "outputs": [
    {
     "data": {
      "text/html": [
       "<div>\n",
       "<style scoped>\n",
       "    .dataframe tbody tr th:only-of-type {\n",
       "        vertical-align: middle;\n",
       "    }\n",
       "\n",
       "    .dataframe tbody tr th {\n",
       "        vertical-align: top;\n",
       "    }\n",
       "\n",
       "    .dataframe thead th {\n",
       "        text-align: right;\n",
       "    }\n",
       "</style>\n",
       "<table border=\"1\" class=\"dataframe\">\n",
       "  <thead>\n",
       "    <tr style=\"text-align: right;\">\n",
       "      <th></th>\n",
       "      <th>code</th>\n",
       "      <th>zoning</th>\n",
       "      <th>coverage</th>\n",
       "      <th>url</th>\n",
       "      <th>prediction</th>\n",
       "      <th>predicted_zoning</th>\n",
       "    </tr>\n",
       "  </thead>\n",
       "  <tbody>\n",
       "    <tr>\n",
       "      <th>004052</th>\n",
       "      <td>004052</td>\n",
       "      <td>res_low</td>\n",
       "      <td>0.1071</td>\n",
       "      <td>../02_Data/03_Images/02_PSD_Processed/05_0.25x...</td>\n",
       "      <td>[[0.0, 0.0, 0.0, 0.0, 0.0, 0.605, 0.397]]</td>\n",
       "      <td>res_low</td>\n",
       "    </tr>\n",
       "    <tr>\n",
       "      <th>004053</th>\n",
       "      <td>004053</td>\n",
       "      <td>res_low</td>\n",
       "      <td>0.0890</td>\n",
       "      <td>../02_Data/03_Images/02_PSD_Processed/05_0.25x...</td>\n",
       "      <td>[[0.0, 0.761, 0.0, 0.0, 0.0, 0.233, 0.0]]</td>\n",
       "      <td>com_med</td>\n",
       "    </tr>\n",
       "    <tr>\n",
       "      <th>005053</th>\n",
       "      <td>005053</td>\n",
       "      <td>res_low</td>\n",
       "      <td>0.2100</td>\n",
       "      <td>../02_Data/03_Images/02_PSD_Processed/05_0.25x...</td>\n",
       "      <td>[[0.0, 0.0, 0.0, 0.0, 0.0, 1.001, 0.0]]</td>\n",
       "      <td>res_low</td>\n",
       "    </tr>\n",
       "    <tr>\n",
       "      <th>006041</th>\n",
       "      <td>006041</td>\n",
       "      <td>res_low</td>\n",
       "      <td>0.1099</td>\n",
       "      <td>../02_Data/03_Images/02_PSD_Processed/05_0.25x...</td>\n",
       "      <td>[[0.0, 0.0, 0.0, 0.0, 0.0, 1.005, 0.0]]</td>\n",
       "      <td>res_low</td>\n",
       "    </tr>\n",
       "    <tr>\n",
       "      <th>006042</th>\n",
       "      <td>006042</td>\n",
       "      <td>res_low</td>\n",
       "      <td>0.0946</td>\n",
       "      <td>../02_Data/03_Images/02_PSD_Processed/05_0.25x...</td>\n",
       "      <td>[[0.0, 0.205, 0.207, 0.19, 0.0, 0.387, 0.0]]</td>\n",
       "      <td>res_low</td>\n",
       "    </tr>\n",
       "  </tbody>\n",
       "</table>\n",
       "</div>"
      ],
      "text/plain": [
       "          code   zoning  coverage  \\\n",
       "004052  004052  res_low    0.1071   \n",
       "004053  004053  res_low    0.0890   \n",
       "005053  005053  res_low    0.2100   \n",
       "006041  006041  res_low    0.1099   \n",
       "006042  006042  res_low    0.0946   \n",
       "\n",
       "                                                      url  \\\n",
       "004052  ../02_Data/03_Images/02_PSD_Processed/05_0.25x...   \n",
       "004053  ../02_Data/03_Images/02_PSD_Processed/05_0.25x...   \n",
       "005053  ../02_Data/03_Images/02_PSD_Processed/05_0.25x...   \n",
       "006041  ../02_Data/03_Images/02_PSD_Processed/05_0.25x...   \n",
       "006042  ../02_Data/03_Images/02_PSD_Processed/05_0.25x...   \n",
       "\n",
       "                                          prediction predicted_zoning  \n",
       "004052     [[0.0, 0.0, 0.0, 0.0, 0.0, 0.605, 0.397]]          res_low  \n",
       "004053     [[0.0, 0.761, 0.0, 0.0, 0.0, 0.233, 0.0]]          com_med  \n",
       "005053       [[0.0, 0.0, 0.0, 0.0, 0.0, 1.001, 0.0]]          res_low  \n",
       "006041       [[0.0, 0.0, 0.0, 0.0, 0.0, 1.005, 0.0]]          res_low  \n",
       "006042  [[0.0, 0.205, 0.207, 0.19, 0.0, 0.387, 0.0]]          res_low  "
      ]
     },
     "execution_count": 38,
     "metadata": {},
     "output_type": "execute_result"
    }
   ],
   "source": [
    "predict_df[\"predicted_zoning\"]=predict_df[\"prediction\"].apply(get_zoning)\n",
    "predict_df.head()"
   ]
  },
  {
   "cell_type": "markdown",
   "metadata": {},
   "source": [
    "### Create Directories to Hold Predicted Images (Only Run Once)"
   ]
  },
  {
   "cell_type": "code",
   "execution_count": null,
   "metadata": {},
   "outputs": [],
   "source": [
    "# total_zoning_types = predict_df[\"zoning\"].unique()\n",
    "# for zoning_type in total_zoning_types:\n",
    "#     zoning_predictions = list(predict_df[\"predicted_zoning\"][predict_df[\"zoning\"]==zoning_type].unique())\n",
    "#     os.mkdir(f\"../02_Data/07_Predictions/{zoning_type}\")\n",
    "#     for zone_predict in zoning_predictions:\n",
    "#         os.mkdir(f\"../02_Data/07_Predictions/{zoning_type}/{zone_predict}\")"
   ]
  },
  {
   "cell_type": "markdown",
   "metadata": {},
   "source": [
    "### Function - Separate Files on Prediction"
   ]
  },
  {
   "cell_type": "code",
   "execution_count": 61,
   "metadata": {},
   "outputs": [],
   "source": [
    "def separate_files(row):\n",
    "    image_code = row[0]\n",
    "    zone_true = row[1]\n",
    "    zone_predict = row[2]\n",
    "    origin = f\"../02_Data/03_Images/02_PSD_Processed/05_0.25x0.25-0.125x0.125_Square/01_Renamed/Las_Vegas_{image_code}.png\"\n",
    "    destination = f\"../02_Data/07_Predictions/{zone_true}/{zone_predict}/Las_Vegas_{image_code}.png\"\n",
    "    copyfile(origin, destination)"
   ]
  },
  {
   "cell_type": "markdown",
   "metadata": {},
   "source": [
    "### Separate Files by Prediction\n",
    "Create a Tuple column holding the three pieces of data needed to move files"
   ]
  },
  {
   "cell_type": "code",
   "execution_count": 67,
   "metadata": {},
   "outputs": [
    {
     "data": {
      "text/html": [
       "<div>\n",
       "<style scoped>\n",
       "    .dataframe tbody tr th:only-of-type {\n",
       "        vertical-align: middle;\n",
       "    }\n",
       "\n",
       "    .dataframe tbody tr th {\n",
       "        vertical-align: top;\n",
       "    }\n",
       "\n",
       "    .dataframe thead th {\n",
       "        text-align: right;\n",
       "    }\n",
       "</style>\n",
       "<table border=\"1\" class=\"dataframe\">\n",
       "  <thead>\n",
       "    <tr style=\"text-align: right;\">\n",
       "      <th></th>\n",
       "      <th>code</th>\n",
       "      <th>zoning</th>\n",
       "      <th>coverage</th>\n",
       "      <th>url</th>\n",
       "      <th>prediction</th>\n",
       "      <th>predicted_zoning</th>\n",
       "      <th>move_file_tuple</th>\n",
       "    </tr>\n",
       "  </thead>\n",
       "  <tbody>\n",
       "    <tr>\n",
       "      <th>004052</th>\n",
       "      <td>004052</td>\n",
       "      <td>res_low</td>\n",
       "      <td>0.1071</td>\n",
       "      <td>../02_Data/03_Images/02_PSD_Processed/05_0.25x...</td>\n",
       "      <td>[[0.0, 0.0, 0.0, 0.0, 0.0, 0.605, 0.397]]</td>\n",
       "      <td>res_low</td>\n",
       "      <td>(004052, res_low, res_low)</td>\n",
       "    </tr>\n",
       "    <tr>\n",
       "      <th>004053</th>\n",
       "      <td>004053</td>\n",
       "      <td>res_low</td>\n",
       "      <td>0.0890</td>\n",
       "      <td>../02_Data/03_Images/02_PSD_Processed/05_0.25x...</td>\n",
       "      <td>[[0.0, 0.761, 0.0, 0.0, 0.0, 0.233, 0.0]]</td>\n",
       "      <td>com_med</td>\n",
       "      <td>(004053, res_low, com_med)</td>\n",
       "    </tr>\n",
       "    <tr>\n",
       "      <th>005053</th>\n",
       "      <td>005053</td>\n",
       "      <td>res_low</td>\n",
       "      <td>0.2100</td>\n",
       "      <td>../02_Data/03_Images/02_PSD_Processed/05_0.25x...</td>\n",
       "      <td>[[0.0, 0.0, 0.0, 0.0, 0.0, 1.001, 0.0]]</td>\n",
       "      <td>res_low</td>\n",
       "      <td>(005053, res_low, res_low)</td>\n",
       "    </tr>\n",
       "    <tr>\n",
       "      <th>006041</th>\n",
       "      <td>006041</td>\n",
       "      <td>res_low</td>\n",
       "      <td>0.1099</td>\n",
       "      <td>../02_Data/03_Images/02_PSD_Processed/05_0.25x...</td>\n",
       "      <td>[[0.0, 0.0, 0.0, 0.0, 0.0, 1.005, 0.0]]</td>\n",
       "      <td>res_low</td>\n",
       "      <td>(006041, res_low, res_low)</td>\n",
       "    </tr>\n",
       "    <tr>\n",
       "      <th>006042</th>\n",
       "      <td>006042</td>\n",
       "      <td>res_low</td>\n",
       "      <td>0.0946</td>\n",
       "      <td>../02_Data/03_Images/02_PSD_Processed/05_0.25x...</td>\n",
       "      <td>[[0.0, 0.205, 0.207, 0.19, 0.0, 0.387, 0.0]]</td>\n",
       "      <td>res_low</td>\n",
       "      <td>(006042, res_low, res_low)</td>\n",
       "    </tr>\n",
       "  </tbody>\n",
       "</table>\n",
       "</div>"
      ],
      "text/plain": [
       "          code   zoning  coverage  \\\n",
       "004052  004052  res_low    0.1071   \n",
       "004053  004053  res_low    0.0890   \n",
       "005053  005053  res_low    0.2100   \n",
       "006041  006041  res_low    0.1099   \n",
       "006042  006042  res_low    0.0946   \n",
       "\n",
       "                                                      url  \\\n",
       "004052  ../02_Data/03_Images/02_PSD_Processed/05_0.25x...   \n",
       "004053  ../02_Data/03_Images/02_PSD_Processed/05_0.25x...   \n",
       "005053  ../02_Data/03_Images/02_PSD_Processed/05_0.25x...   \n",
       "006041  ../02_Data/03_Images/02_PSD_Processed/05_0.25x...   \n",
       "006042  ../02_Data/03_Images/02_PSD_Processed/05_0.25x...   \n",
       "\n",
       "                                          prediction predicted_zoning  \\\n",
       "004052     [[0.0, 0.0, 0.0, 0.0, 0.0, 0.605, 0.397]]          res_low   \n",
       "004053     [[0.0, 0.761, 0.0, 0.0, 0.0, 0.233, 0.0]]          com_med   \n",
       "005053       [[0.0, 0.0, 0.0, 0.0, 0.0, 1.001, 0.0]]          res_low   \n",
       "006041       [[0.0, 0.0, 0.0, 0.0, 0.0, 1.005, 0.0]]          res_low   \n",
       "006042  [[0.0, 0.205, 0.207, 0.19, 0.0, 0.387, 0.0]]          res_low   \n",
       "\n",
       "                   move_file_tuple  \n",
       "004052  (004052, res_low, res_low)  \n",
       "004053  (004053, res_low, com_med)  \n",
       "005053  (005053, res_low, res_low)  \n",
       "006041  (006041, res_low, res_low)  \n",
       "006042  (006042, res_low, res_low)  "
      ]
     },
     "execution_count": 67,
     "metadata": {},
     "output_type": "execute_result"
    }
   ],
   "source": [
    "predict_df[\"move_file_tuple\"] = list(zip(predict_df[\"code\"],predict_df[\"zoning\"],predict_df[\"predicted_zoning\"]))\n",
    "predict_df.head()"
   ]
  },
  {
   "cell_type": "code",
   "execution_count": 68,
   "metadata": {},
   "outputs": [
    {
     "data": {
      "text/plain": [
       "004052    None\n",
       "004053    None\n",
       "005053    None\n",
       "006041    None\n",
       "006042    None\n",
       "010060    None\n",
       "010061    None\n",
       "011056    None\n",
       "011057    None\n",
       "011058    None\n",
       "011060    None\n",
       "011061    None\n",
       "012056    None\n",
       "012062    None\n",
       "013056    None\n",
       "013059    None\n",
       "013060    None\n",
       "013062    None\n",
       "014058    None\n",
       "014062    None\n",
       "015056    None\n",
       "015057    None\n",
       "015058    None\n",
       "015060    None\n",
       "015082    None\n",
       "015084    None\n",
       "015085    None\n",
       "016056    None\n",
       "016059    None\n",
       "016080    None\n",
       "          ... \n",
       "226127    None\n",
       "226128    None\n",
       "226129    None\n",
       "226130    None\n",
       "226132    None\n",
       "226133    None\n",
       "226134    None\n",
       "226135    None\n",
       "226136    None\n",
       "227122    None\n",
       "227123    None\n",
       "227124    None\n",
       "227125    None\n",
       "227126    None\n",
       "227127    None\n",
       "227128    None\n",
       "227129    None\n",
       "227132    None\n",
       "228123    None\n",
       "228124    None\n",
       "228131    None\n",
       "228132    None\n",
       "228133    None\n",
       "228134    None\n",
       "229128    None\n",
       "229129    None\n",
       "229130    None\n",
       "229131    None\n",
       "229132    None\n",
       "230127    None\n",
       "Name: move_file_tuple, Length: 7533, dtype: object"
      ]
     },
     "execution_count": 68,
     "metadata": {},
     "output_type": "execute_result"
    }
   ],
   "source": [
    "predict_df[\"move_file_tuple\"].apply(separate_files)"
   ]
  },
  {
   "cell_type": "markdown",
   "metadata": {},
   "source": [
    "### Save DataFrame as a CSV for Reference"
   ]
  },
  {
   "cell_type": "code",
   "execution_count": 72,
   "metadata": {},
   "outputs": [],
   "source": [
    "predict_df.to_csv(\"../02_Data/07_Predictions/z_prediction.csv\")\n",
    "data_df.to_csv(\"../02_Data/07_Predictions/z_zoning_bldg_coverage.csv\")"
   ]
  }
 ],
 "metadata": {
  "kernelspec": {
   "display_name": "Python 3",
   "language": "python",
   "name": "python3"
  },
  "language_info": {
   "codemirror_mode": {
    "name": "ipython",
    "version": 3
   },
   "file_extension": ".py",
   "mimetype": "text/x-python",
   "name": "python",
   "nbconvert_exporter": "python",
   "pygments_lexer": "ipython3",
   "version": "3.6.5"
  }
 },
 "nbformat": 4,
 "nbformat_minor": 2
}

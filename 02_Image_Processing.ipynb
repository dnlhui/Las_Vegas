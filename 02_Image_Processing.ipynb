{
 "cells": [
  {
   "cell_type": "code",
   "execution_count": 24,
   "metadata": {},
   "outputs": [],
   "source": [
    "from collections import defaultdict\n",
    "import matplotlib.image as mpimg\n",
    "import numpy as np\n",
    "import pandas as pd\n",
    "import shutil\n",
    "import string\n",
    "import os"
   ]
  },
  {
   "cell_type": "code",
   "execution_count": 25,
   "metadata": {},
   "outputs": [
    {
     "name": "stdout",
     "output_type": "stream",
     "text": [
      "(4562, 4259, 3)\n"
     ]
    }
   ],
   "source": [
    "original_image = mpimg.imread(\"../02_Data/04_Zoning_Maps/Las_Vegas_MSA.png\")\n",
    "print(original_image.shape)"
   ]
  },
  {
   "cell_type": "markdown",
   "metadata": {},
   "source": [
    "### Global Variables"
   ]
  },
  {
   "cell_type": "code",
   "execution_count": 26,
   "metadata": {},
   "outputs": [],
   "source": [
    "cols = 224\n",
    "rows = 240\n",
    "\n",
    "min_zoning_threshold = .25     # this sets the minimum percent that a zoning type should cover before an image\n",
    "                               # is assigned to that type. It is used in cell 'Zoning - Processing Function'\n",
    "min_coverage_threshold = 0.05  # this variable sets the minimum building coverage in each image. It is used in\n",
    "                               # cell 'Site Coverage - EDA'"
   ]
  },
  {
   "cell_type": "markdown",
   "metadata": {},
   "source": [
    "### Zoning - Internal Variables"
   ]
  },
  {
   "cell_type": "code",
   "execution_count": 27,
   "metadata": {},
   "outputs": [],
   "source": [
    "# RGB values mapped to program type\n",
    "red = 0\n",
    "green = 1\n",
    "blue = 2\n",
    "\n",
    "# keys for dictionary\n",
    "commercial_high = (red, round(10*255/255))\n",
    "commercial_med  = (red, round(10*200/255))\n",
    "industrial_high = (green, round(10*75/255))\n",
    "industrial_office_med = (green, round(10*150/255))\n",
    "res_low  = (blue, round(10*255/255))\n",
    "res_med  = (blue, round(10*200/255))\n",
    "res_high = (blue, round(10*100/255))\n",
    "\n",
    "# zoning_list\n",
    "zoning_list = [commercial_high,commercial_med,industrial_high,\n",
    "               industrial_office_med,res_low,res_med,res_high]\n",
    "zoning_names = [\"com_high\",\"com_med\",\"ind_high\",\"ind_office_med\",\"res_low\",\"res_med\",\"res_high\"]\n",
    "zoning_names_dict = dict(zip(zoning_list,zoning_names))\n",
    "\n",
    "# Column/Row Coordinates\n",
    "col_offset_float = original_image.shape[1]/cols\n",
    "row_offset_float = original_image.shape[0]/rows\n",
    "\n",
    "# Subdivided Image Size\n",
    "col_pixels = int(col_offset_float)\n",
    "row_pixels = int(row_offset_float)"
   ]
  },
  {
   "cell_type": "markdown",
   "metadata": {},
   "source": [
    "### Zoning - Processing Function"
   ]
  },
  {
   "cell_type": "code",
   "execution_count": 28,
   "metadata": {},
   "outputs": [],
   "source": [
    "def get_zoning(image_array):\n",
    "    rgb_dict = defaultdict(int)\n",
    "    \n",
    "    for i in range(image_array.shape[0]):       # for the row dimension\n",
    "        for j in range(image_array.shape[1]):   # for the column dimension\n",
    "            pixel_rgb = image_array[i][j]\n",
    "            if sum(pixel_rgb) > 1.1:            # this should exclude (1) noise and (2) white pixels (255,255,255)\n",
    "                pass                            # correct pixels should never exceed 1 when summed (255,0,0)\n",
    "            else:\n",
    "                dominant_channel = np.argmax(image_array[i][j])                             # is the main channel value R,G or B?\n",
    "                dominant_channel_value = int(round(10*image_array[i][j][dominant_channel])) # and what is the value? round to clean out noise\n",
    "                rgb_dict[(dominant_channel,dominant_channel_value)] += 1                    # dictionary of channel + value, increment\n",
    "                \n",
    "    zoning_dict = defaultdict(int)\n",
    "\n",
    "    for zoning in zoning_list:                  # extract the relevant values corresponding to zoning pixels\n",
    "        new_key = zoning_names_dict[zoning]\n",
    "        zoning_dict[new_key] = rgb_dict[zoning] # remap to new dictionary\n",
    "    \n",
    "    zoning_type, count = list(zoning_dict.keys()), list(zoning_dict.values())   # unzip to find largest value\n",
    "    max_position = np.argmax(count)\n",
    "    dominant_zoning = zoning_type[max_position]                                 # grab index of largest count\n",
    "                                                                                # and find zoning type\n",
    "    \n",
    "    total_pixels = image_array.shape[0]*image_array.shape[1]\n",
    "    if count[max_position] < (total_pixels * min_zoning_threshold):             # check if the dominant zoning\n",
    "        dominant_zoning = \"none\"                                                # type meets a minimum threshold\n",
    "    \n",
    "    return dominant_zoning"
   ]
  },
  {
   "cell_type": "markdown",
   "metadata": {},
   "source": [
    "### Zoning - Processing Loop"
   ]
  },
  {
   "cell_type": "code",
   "execution_count": 29,
   "metadata": {},
   "outputs": [],
   "source": [
    "new_image = np.zeros(shape=(row_pixels,col_pixels,3))\n",
    "image_dict = defaultdict(list)\n",
    "\n",
    "for r in range(rows):                                   # go through the row coordinates\n",
    "    start_pixel_row = int(r*row_offset_float)          \n",
    "    for c in range(cols):                               # go through the column coordinates\n",
    "        start_pixel_col = int(c*col_offset_float)       # define the start and end of the column pixels\n",
    "        end_pixel_col = start_pixel_col + col_pixels   \n",
    "        for rp in range(row_pixels):                    # and go row by row within the coordinate grid\n",
    "            new_image[rp] = original_image[start_pixel_row+rp][start_pixel_col:end_pixel_col]\n",
    "        \n",
    "        row_name = (\"00\"+str(r))[-3:]\n",
    "        col_name = (\"00\"+str(c))[-3:]\n",
    "        image_dict[row_name+col_name] = [get_zoning(new_image)]"
   ]
  },
  {
   "cell_type": "markdown",
   "metadata": {},
   "source": [
    "### Zoning - EDA\n",
    "How many of each Zoning Type are there? "
   ]
  },
  {
   "cell_type": "code",
   "execution_count": 30,
   "metadata": {},
   "outputs": [
    {
     "data": {
      "text/plain": [
       "defaultdict(int,\n",
       "            {'none': 37244,\n",
       "             'ind_high': 1310,\n",
       "             'res_low': 9754,\n",
       "             'ind_office_med': 1351,\n",
       "             'com_med': 1861,\n",
       "             'res_med': 970,\n",
       "             'res_high': 760,\n",
       "             'com_high': 510})"
      ]
     },
     "execution_count": 30,
     "metadata": {},
     "output_type": "execute_result"
    }
   ],
   "source": [
    "zone_dict = defaultdict(int)\n",
    "\n",
    "for square in list(image_dict.values()):\n",
    "    zone_dict[square[0]] += 1\n",
    "\n",
    "zone_dict"
   ]
  },
  {
   "cell_type": "markdown",
   "metadata": {},
   "source": [
    "### Create DataFrame"
   ]
  },
  {
   "cell_type": "code",
   "execution_count": 31,
   "metadata": {},
   "outputs": [
    {
     "data": {
      "text/html": [
       "<div>\n",
       "<style scoped>\n",
       "    .dataframe tbody tr th:only-of-type {\n",
       "        vertical-align: middle;\n",
       "    }\n",
       "\n",
       "    .dataframe tbody tr th {\n",
       "        vertical-align: top;\n",
       "    }\n",
       "\n",
       "    .dataframe thead th {\n",
       "        text-align: right;\n",
       "    }\n",
       "</style>\n",
       "<table border=\"1\" class=\"dataframe\">\n",
       "  <thead>\n",
       "    <tr style=\"text-align: right;\">\n",
       "      <th></th>\n",
       "      <th>code</th>\n",
       "      <th>zoning</th>\n",
       "    </tr>\n",
       "  </thead>\n",
       "  <tbody>\n",
       "    <tr>\n",
       "      <th>000000</th>\n",
       "      <td>000000</td>\n",
       "      <td>none</td>\n",
       "    </tr>\n",
       "    <tr>\n",
       "      <th>000001</th>\n",
       "      <td>000001</td>\n",
       "      <td>none</td>\n",
       "    </tr>\n",
       "    <tr>\n",
       "      <th>000002</th>\n",
       "      <td>000002</td>\n",
       "      <td>none</td>\n",
       "    </tr>\n",
       "    <tr>\n",
       "      <th>000003</th>\n",
       "      <td>000003</td>\n",
       "      <td>none</td>\n",
       "    </tr>\n",
       "    <tr>\n",
       "      <th>000004</th>\n",
       "      <td>000004</td>\n",
       "      <td>none</td>\n",
       "    </tr>\n",
       "  </tbody>\n",
       "</table>\n",
       "</div>"
      ],
      "text/plain": [
       "          code zoning\n",
       "000000  000000   none\n",
       "000001  000001   none\n",
       "000002  000002   none\n",
       "000003  000003   none\n",
       "000004  000004   none"
      ]
     },
     "execution_count": 31,
     "metadata": {},
     "output_type": "execute_result"
    }
   ],
   "source": [
    "grid_df = pd.DataFrame.from_dict(image_dict, orient='index') \n",
    "grid_df = grid_df.rename({0:\"zoning\"},axis=1)\n",
    "grid_df[\"code\"] = grid_df.index.get_values()\n",
    "grid_df = grid_df[[\"code\",\"zoning\"]]\n",
    "grid_df.head()"
   ]
  },
  {
   "cell_type": "markdown",
   "metadata": {},
   "source": [
    "### Site Coverage - Function"
   ]
  },
  {
   "cell_type": "code",
   "execution_count": 32,
   "metadata": {},
   "outputs": [],
   "source": [
    "def get_coverage(row):\n",
    "    total = 8053.7   # I calcluated this manually since the white is not 100% 255,255,255 white. If \n",
    "                     # the image processing steps changes to a more white image, this value will have to change\n",
    "    fragment = mpimg.imread(f\"../02_Data/03_Images/02_PSD_Processed/05_0.25x0.25-0.125x0.125_Square/01_Renamed/Las_Vegas_{row}.png\")\n",
    "    pixel_count = sum(sum(fragment))[0]   # just add all the values together\n",
    "    return round(1 - pixel_count/total,4) # round it to 4 decimal places"
   ]
  },
  {
   "cell_type": "code",
   "execution_count": 33,
   "metadata": {},
   "outputs": [],
   "source": [
    "# This code finds the value for the variable total (8053.7)\n",
    "# fragment = mpimg.imread(\"../02_Data/03_Images/02_PSD_Processed/05_0.25x0.25-0.125x0.125_Square/01_Renamed/Las_Vegas_000000.png\")\n",
    "# pixel_count = sum(sum(fragment))[0]\n",
    "# pixel_count"
   ]
  },
  {
   "cell_type": "markdown",
   "metadata": {},
   "source": [
    "### Site Coverage - Apply Function"
   ]
  },
  {
   "cell_type": "code",
   "execution_count": 34,
   "metadata": {},
   "outputs": [],
   "source": [
    "grid_df[\"coverage\"] = grid_df[\"code\"].apply(get_coverage)"
   ]
  },
  {
   "cell_type": "code",
   "execution_count": 44,
   "metadata": {},
   "outputs": [],
   "source": [
    "grid_df[\"coverage\"] = grid_df[\"coverage\"].astype(float)    # convert to a float (was a string)"
   ]
  },
  {
   "cell_type": "markdown",
   "metadata": {},
   "source": [
    "### Site Coverage - EDA"
   ]
  },
  {
   "cell_type": "code",
   "execution_count": 45,
   "metadata": {},
   "outputs": [
    {
     "data": {
      "text/html": [
       "<div>\n",
       "<style scoped>\n",
       "    .dataframe tbody tr th:only-of-type {\n",
       "        vertical-align: middle;\n",
       "    }\n",
       "\n",
       "    .dataframe tbody tr th {\n",
       "        vertical-align: top;\n",
       "    }\n",
       "\n",
       "    .dataframe thead th {\n",
       "        text-align: right;\n",
       "    }\n",
       "</style>\n",
       "<table border=\"1\" class=\"dataframe\">\n",
       "  <thead>\n",
       "    <tr style=\"text-align: right;\">\n",
       "      <th></th>\n",
       "      <th>code</th>\n",
       "      <th>zoning</th>\n",
       "      <th>coverage</th>\n",
       "    </tr>\n",
       "  </thead>\n",
       "  <tbody>\n",
       "    <tr>\n",
       "      <th>000000</th>\n",
       "      <td>000000</td>\n",
       "      <td>none</td>\n",
       "      <td>0.0</td>\n",
       "    </tr>\n",
       "    <tr>\n",
       "      <th>000001</th>\n",
       "      <td>000001</td>\n",
       "      <td>none</td>\n",
       "      <td>0.0</td>\n",
       "    </tr>\n",
       "    <tr>\n",
       "      <th>000002</th>\n",
       "      <td>000002</td>\n",
       "      <td>none</td>\n",
       "      <td>0.0</td>\n",
       "    </tr>\n",
       "    <tr>\n",
       "      <th>000003</th>\n",
       "      <td>000003</td>\n",
       "      <td>none</td>\n",
       "      <td>0.0</td>\n",
       "    </tr>\n",
       "    <tr>\n",
       "      <th>000004</th>\n",
       "      <td>000004</td>\n",
       "      <td>none</td>\n",
       "      <td>0.0</td>\n",
       "    </tr>\n",
       "  </tbody>\n",
       "</table>\n",
       "</div>"
      ],
      "text/plain": [
       "          code zoning  coverage\n",
       "000000  000000   none       0.0\n",
       "000001  000001   none       0.0\n",
       "000002  000002   none       0.0\n",
       "000003  000003   none       0.0\n",
       "000004  000004   none       0.0"
      ]
     },
     "execution_count": 45,
     "metadata": {},
     "output_type": "execute_result"
    }
   ],
   "source": [
    "grid_df.head()"
   ]
  },
  {
   "cell_type": "markdown",
   "metadata": {},
   "source": [
    "Number of plots with at least the minimum zoning and at least the minimum building coverage"
   ]
  },
  {
   "cell_type": "code",
   "execution_count": 46,
   "metadata": {},
   "outputs": [
    {
     "data": {
      "text/plain": [
       "(11279, 3)"
      ]
     },
     "execution_count": 46,
     "metadata": {},
     "output_type": "execute_result"
    }
   ],
   "source": [
    "zoned_lots_w_bldgs_df = grid_df[(grid_df[\"zoning\"] != 'none') & (grid_df[\"coverage\"] > min_coverage_threshold)] \n",
    "zoned_lots_w_bldgs_df.shape"
   ]
  },
  {
   "cell_type": "code",
   "execution_count": 47,
   "metadata": {},
   "outputs": [
    {
     "data": {
      "text/html": [
       "<div>\n",
       "<style scoped>\n",
       "    .dataframe tbody tr th:only-of-type {\n",
       "        vertical-align: middle;\n",
       "    }\n",
       "\n",
       "    .dataframe tbody tr th {\n",
       "        vertical-align: top;\n",
       "    }\n",
       "\n",
       "    .dataframe thead th {\n",
       "        text-align: right;\n",
       "    }\n",
       "</style>\n",
       "<table border=\"1\" class=\"dataframe\">\n",
       "  <thead>\n",
       "    <tr style=\"text-align: right;\">\n",
       "      <th></th>\n",
       "      <th>code</th>\n",
       "      <th>zoning</th>\n",
       "      <th>coverage</th>\n",
       "    </tr>\n",
       "  </thead>\n",
       "  <tbody>\n",
       "    <tr>\n",
       "      <th>003048</th>\n",
       "      <td>003048</td>\n",
       "      <td>res_low</td>\n",
       "      <td>0.3066</td>\n",
       "    </tr>\n",
       "    <tr>\n",
       "      <th>003049</th>\n",
       "      <td>003049</td>\n",
       "      <td>res_low</td>\n",
       "      <td>0.2797</td>\n",
       "    </tr>\n",
       "    <tr>\n",
       "      <th>003080</th>\n",
       "      <td>003080</td>\n",
       "      <td>res_low</td>\n",
       "      <td>0.0564</td>\n",
       "    </tr>\n",
       "    <tr>\n",
       "      <th>004045</th>\n",
       "      <td>004045</td>\n",
       "      <td>res_low</td>\n",
       "      <td>0.0895</td>\n",
       "    </tr>\n",
       "    <tr>\n",
       "      <th>004046</th>\n",
       "      <td>004046</td>\n",
       "      <td>res_low</td>\n",
       "      <td>0.0801</td>\n",
       "    </tr>\n",
       "  </tbody>\n",
       "</table>\n",
       "</div>"
      ],
      "text/plain": [
       "          code   zoning  coverage\n",
       "003048  003048  res_low    0.3066\n",
       "003049  003049  res_low    0.2797\n",
       "003080  003080  res_low    0.0564\n",
       "004045  004045  res_low    0.0895\n",
       "004046  004046  res_low    0.0801"
      ]
     },
     "execution_count": 47,
     "metadata": {},
     "output_type": "execute_result"
    }
   ],
   "source": [
    "zoned_lots_w_bldgs_df.head()"
   ]
  },
  {
   "cell_type": "markdown",
   "metadata": {},
   "source": [
    "How many of each zoning type do I have images of with built buildings?"
   ]
  },
  {
   "cell_type": "code",
   "execution_count": 48,
   "metadata": {},
   "outputs": [
    {
     "data": {
      "text/plain": [
       "res_low           6913\n",
       "com_med           1364\n",
       "res_med            817\n",
       "res_high           696\n",
       "ind_office_med     590\n",
       "ind_high           482\n",
       "com_high           417\n",
       "Name: zoning, dtype: int64"
      ]
     },
     "execution_count": 48,
     "metadata": {},
     "output_type": "execute_result"
    }
   ],
   "source": [
    "zoned_lots_w_bldgs_df[\"zoning\"].value_counts()"
   ]
  },
  {
   "cell_type": "markdown",
   "metadata": {},
   "source": [
    "### Organize Files - Function"
   ]
  },
  {
   "cell_type": "code",
   "execution_count": 49,
   "metadata": {},
   "outputs": [],
   "source": [
    "def organize(row):\n",
    "    coordinate = row\n",
    "    zoning_cat = grid_df[\"zoning\"][coordinate]\n",
    "    source_loc = f\"../02_Data/05_Data_for_Modelling/01_Renamed/Las_Vegas_{coordinate}.png\"\n",
    "    destination_loc = f\"../02_Data/05_Data_for_Modelling/{zoning_cat}/Las_Vegas_{coordinate}.png\"\n",
    "    empty_loc = f\"../02_Data/05_Data_for_Modelling/empty/Las_Vegas_{coordinate}.png\"\n",
    "    if grid_df[\"coverage\"][row] >= min_coverage_threshold:     # organize images based on their zoning category\n",
    "        os.rename(source_loc, destination_loc)                 # except if there is below a min building coverage\n",
    "    else: os.rename(source_loc, empty_loc)                     # then put these min images in an empty folder"
   ]
  },
  {
   "cell_type": "markdown",
   "metadata": {},
   "source": [
    "### Organize Files - Apply Function"
   ]
  },
  {
   "cell_type": "code",
   "execution_count": 50,
   "metadata": {},
   "outputs": [
    {
     "data": {
      "text/plain": [
       "000000    None\n",
       "000001    None\n",
       "000002    None\n",
       "000003    None\n",
       "000004    None\n",
       "000005    None\n",
       "000006    None\n",
       "000007    None\n",
       "000008    None\n",
       "000009    None\n",
       "000010    None\n",
       "000011    None\n",
       "000012    None\n",
       "000013    None\n",
       "000014    None\n",
       "000015    None\n",
       "000016    None\n",
       "000017    None\n",
       "000018    None\n",
       "000019    None\n",
       "000020    None\n",
       "000021    None\n",
       "000022    None\n",
       "000023    None\n",
       "000024    None\n",
       "000025    None\n",
       "000026    None\n",
       "000027    None\n",
       "000028    None\n",
       "000029    None\n",
       "          ... \n",
       "239194    None\n",
       "239195    None\n",
       "239196    None\n",
       "239197    None\n",
       "239198    None\n",
       "239199    None\n",
       "239200    None\n",
       "239201    None\n",
       "239202    None\n",
       "239203    None\n",
       "239204    None\n",
       "239205    None\n",
       "239206    None\n",
       "239207    None\n",
       "239208    None\n",
       "239209    None\n",
       "239210    None\n",
       "239211    None\n",
       "239212    None\n",
       "239213    None\n",
       "239214    None\n",
       "239215    None\n",
       "239216    None\n",
       "239217    None\n",
       "239218    None\n",
       "239219    None\n",
       "239220    None\n",
       "239221    None\n",
       "239222    None\n",
       "239223    None\n",
       "Name: code, Length: 53760, dtype: object"
      ]
     },
     "execution_count": 50,
     "metadata": {},
     "output_type": "execute_result"
    }
   ],
   "source": [
    "grid_df[\"code\"].apply(organize)"
   ]
  }
 ],
 "metadata": {
  "kernelspec": {
   "display_name": "Python 3",
   "language": "python",
   "name": "python3"
  },
  "language_info": {
   "codemirror_mode": {
    "name": "ipython",
    "version": 3
   },
   "file_extension": ".py",
   "mimetype": "text/x-python",
   "name": "python",
   "nbconvert_exporter": "python",
   "pygments_lexer": "ipython3",
   "version": "3.6.5"
  }
 },
 "nbformat": 4,
 "nbformat_minor": 2
}

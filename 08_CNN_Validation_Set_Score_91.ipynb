{
 "cells": [
  {
   "cell_type": "code",
   "execution_count": 2,
   "metadata": {},
   "outputs": [
    {
     "name": "stderr",
     "output_type": "stream",
     "text": [
      "Using TensorFlow backend.\n"
     ]
    }
   ],
   "source": [
    "import cv2\n",
    "import numpy as np\n",
    "import pandas as pd\n",
    "\n",
    "import keras\n",
    "from keras.models import load_model\n",
    "\n",
    "from __future__ import division\n",
    "import os, os.path\n",
    "from collections import defaultdict"
   ]
  },
  {
   "cell_type": "markdown",
   "metadata": {},
   "source": [
    "### Load Validation Set Images & Turn into DataFrame"
   ]
  },
  {
   "cell_type": "code",
   "execution_count": 3,
   "metadata": {},
   "outputs": [],
   "source": [
    "main_path = \"../02_Data/06_Test_Train_Val/val\"\n",
    "image_dict = defaultdict()\n",
    "\n",
    "val_path, val_dirs, val_files = next(os.walk(main_path))\n",
    "for zoning_type in val_dirs:\n",
    "    zoning_path, zoning_dirs, zoning_files = next(os.walk(main_path + \"/\" + zoning_type))\n",
    "    for file in zoning_files:\n",
    "        key = int(file[-10:-4])\n",
    "        total_path = zoning_path + \"/\" + file\n",
    "        image_dict[key] = [zoning_type,total_path]"
   ]
  },
  {
   "cell_type": "code",
   "execution_count": 4,
   "metadata": {},
   "outputs": [
    {
     "data": {
      "text/html": [
       "<div>\n",
       "<style scoped>\n",
       "    .dataframe tbody tr th:only-of-type {\n",
       "        vertical-align: middle;\n",
       "    }\n",
       "\n",
       "    .dataframe tbody tr th {\n",
       "        vertical-align: top;\n",
       "    }\n",
       "\n",
       "    .dataframe thead th {\n",
       "        text-align: right;\n",
       "    }\n",
       "</style>\n",
       "<table border=\"1\" class=\"dataframe\">\n",
       "  <thead>\n",
       "    <tr style=\"text-align: right;\">\n",
       "      <th></th>\n",
       "      <th>zoning</th>\n",
       "      <th>filepath</th>\n",
       "    </tr>\n",
       "  </thead>\n",
       "  <tbody>\n",
       "    <tr>\n",
       "      <th>179172</th>\n",
       "      <td>res_high</td>\n",
       "      <td>../02_Data/06_Test_Train_Val/val/res_high/Las_...</td>\n",
       "    </tr>\n",
       "    <tr>\n",
       "      <th>177188</th>\n",
       "      <td>res_high</td>\n",
       "      <td>../02_Data/06_Test_Train_Val/val/res_high/Las_...</td>\n",
       "    </tr>\n",
       "    <tr>\n",
       "      <th>166133</th>\n",
       "      <td>res_high</td>\n",
       "      <td>../02_Data/06_Test_Train_Val/val/res_high/Las_...</td>\n",
       "    </tr>\n",
       "    <tr>\n",
       "      <th>148033</th>\n",
       "      <td>res_high</td>\n",
       "      <td>../02_Data/06_Test_Train_Val/val/res_high/Las_...</td>\n",
       "    </tr>\n",
       "    <tr>\n",
       "      <th>57107</th>\n",
       "      <td>res_high</td>\n",
       "      <td>../02_Data/06_Test_Train_Val/val/res_high/Las_...</td>\n",
       "    </tr>\n",
       "  </tbody>\n",
       "</table>\n",
       "</div>"
      ],
      "text/plain": [
       "          zoning                                           filepath\n",
       "179172  res_high  ../02_Data/06_Test_Train_Val/val/res_high/Las_...\n",
       "177188  res_high  ../02_Data/06_Test_Train_Val/val/res_high/Las_...\n",
       "166133  res_high  ../02_Data/06_Test_Train_Val/val/res_high/Las_...\n",
       "148033  res_high  ../02_Data/06_Test_Train_Val/val/res_high/Las_...\n",
       "57107   res_high  ../02_Data/06_Test_Train_Val/val/res_high/Las_..."
      ]
     },
     "execution_count": 4,
     "metadata": {},
     "output_type": "execute_result"
    }
   ],
   "source": [
    "image_df = pd.DataFrame.from_dict(image_dict,orient='index',columns=[\"zoning\",\"filepath\"])\n",
    "image_df.head()"
   ]
  },
  {
   "cell_type": "markdown",
   "metadata": {},
   "source": [
    "### Load CNN Models"
   ]
  },
  {
   "cell_type": "code",
   "execution_count": 5,
   "metadata": {},
   "outputs": [],
   "source": [
    "CNN_model_1 = load_model('../06_Jupyter_Notebooks/01_Models/las_vegas_CNN_Trained_12_Layers_v1.h5')\n",
    "CNN_model_2 = load_model('../06_Jupyter_Notebooks/01_Models/las_vegas_CNN_Trained_12_Layers_v2.h5')\n",
    "CNN_model_3 = load_model('../06_Jupyter_Notebooks/01_Models/las_vegas_CNN_Trained_12_Layers_v3.h5')\n",
    "CNN_model_4 = load_model('../06_Jupyter_Notebooks/01_Models/las_vegas_CNN_Trained_12_Layers_v4.h5')\n",
    "CNN_model_5 = load_model('../06_Jupyter_Notebooks/01_Models/las_vegas_CNN_Trained_12_Layers_v5.h5')"
   ]
  },
  {
   "cell_type": "code",
   "execution_count": 6,
   "metadata": {},
   "outputs": [],
   "source": [
    "CNN_models = [CNN_model_1, CNN_model_2, CNN_model_3, CNN_model_4, CNN_model_5]"
   ]
  },
  {
   "cell_type": "markdown",
   "metadata": {},
   "source": [
    "### Load VGG Pre-Trained Model"
   ]
  },
  {
   "cell_type": "code",
   "execution_count": 7,
   "metadata": {},
   "outputs": [],
   "source": [
    "VGG_model_1 = load_model('../06_Jupyter_Notebooks/01_Models/las_vegas_Pretrained_v1.h5')\n",
    "VGG_model_2 = load_model('../06_Jupyter_Notebooks/01_Models/las_vegas_Pretrained_v2.h5')\n",
    "VGG_model_3 = load_model('../06_Jupyter_Notebooks/01_Models/las_vegas_Pretrained_v3.h5')\n",
    "VGG_model_4 = load_model('../06_Jupyter_Notebooks/01_Models/las_vegas_Pretrained_v4.h5')\n",
    "VGG_model_5 = load_model('../06_Jupyter_Notebooks/01_Models/las_vegas_Pretrained_v5.h5')"
   ]
  },
  {
   "cell_type": "code",
   "execution_count": 8,
   "metadata": {},
   "outputs": [],
   "source": [
    "VGG_models = [VGG_model_1, VGG_model_2, VGG_model_3, VGG_model_4, VGG_model_5]"
   ]
  },
  {
   "cell_type": "markdown",
   "metadata": {},
   "source": [
    "### Zoning Dictionary"
   ]
  },
  {
   "cell_type": "code",
   "execution_count": 9,
   "metadata": {},
   "outputs": [],
   "source": [
    "zoning_types = list(np.sort(val_dirs))   # the directories are the zoning type classifications\n",
    "                                         # which I copied from the notebook \"05_Modelling_CNN_Scratch\"\n",
    "                                         # from the code: train_generator.class_indices"
   ]
  },
  {
   "cell_type": "markdown",
   "metadata": {},
   "source": [
    "### Prediction Function - Single CNN Model"
   ]
  },
  {
   "cell_type": "code",
   "execution_count": 10,
   "metadata": {},
   "outputs": [],
   "source": [
    "def CNN_predict(row, model):\n",
    "    img = cv2.imread(row, cv2.IMREAD_GRAYSCALE)\n",
    "    img_array = np.array(img)\n",
    "    img_array = img_array.reshape(1,img_array.shape[0],img_array.shape[1],1)\n",
    "    return np.round(model.predict(img_array),3)"
   ]
  },
  {
   "cell_type": "markdown",
   "metadata": {},
   "source": [
    "### Prediction Function - Ensembled CNN Models"
   ]
  },
  {
   "cell_type": "code",
   "execution_count": 11,
   "metadata": {},
   "outputs": [],
   "source": [
    "def CNN_ensemble_predict(row, model_list):\n",
    "    predict_ensemble = np.zeros((1,7))\n",
    "    for m in model_list:                                          # randomness to help break ties\n",
    "        predict_ensemble = predict_ensemble + CNN_predict(row, m) * np.random.uniform(.95,1.05)  \n",
    "    predict_ensemble = predict_ensemble / len(model_list)         # divide by number of models\n",
    "    return np.round(predict_ensemble,3)"
   ]
  },
  {
   "cell_type": "markdown",
   "metadata": {},
   "source": [
    "### Prediction Function - Single VGG Pretrained Model "
   ]
  },
  {
   "cell_type": "code",
   "execution_count": 12,
   "metadata": {},
   "outputs": [],
   "source": [
    "from keras.applications import VGG16\n",
    "\n",
    "conv_base = VGG16(weights='imagenet',\n",
    "                  include_top=False,\n",
    "                  input_shape=(91, 91, 3))\n",
    "\n",
    "def VGG_predict(row, model):\n",
    "    img = cv2.imread(row)\n",
    "    img_array = np.array(img)\n",
    "    img_array = img_array.reshape(1,img_array.shape[0],img_array.shape[1],3)    # 3 b/c it will be read as RGB\n",
    "    feature_array = conv_base.predict(img_array)\n",
    "    feature_array = feature_array.reshape(1, 2 * 2 * 512) \n",
    "    return np.round(model.predict(feature_array),3)"
   ]
  },
  {
   "cell_type": "markdown",
   "metadata": {},
   "source": [
    "### Prediction Function - Ensembled VGG Pretrained Model"
   ]
  },
  {
   "cell_type": "code",
   "execution_count": 13,
   "metadata": {},
   "outputs": [],
   "source": [
    "def VGG_ensemble_predict(row, model_list):\n",
    "    predict_ensemble = np.zeros((1,7))\n",
    "    for m in model_list:                                              # randomness to help break ties\n",
    "        predict_ensemble = predict_ensemble + VGG_predict(row, m) * np.random.uniform(.95,1.05)  \n",
    "    predict_ensemble = predict_ensemble / len(model_list)         # divide by number of models\n",
    "    return np.round(predict_ensemble,3)        "
   ]
  },
  {
   "cell_type": "markdown",
   "metadata": {},
   "source": [
    "### Run the Prediction on the Validation Set"
   ]
  },
  {
   "cell_type": "code",
   "execution_count": 14,
   "metadata": {},
   "outputs": [],
   "source": [
    "# image_df[\"CNN\"] = image_df[\"filepath\"].apply(CNN_predict, model=CNN_model_1)\n",
    "image_df[\"CNN_ens\"] = image_df[\"filepath\"].apply(CNN_ensemble_predict, model_list= CNN_models)\n",
    "# image_df[\"VGG\"] = image_df[\"filepath\"].apply(VGG_predict, model=VGG_model_1)\n",
    "image_df[\"VGG_ens\"] = image_df[\"filepath\"].apply(VGG_ensemble_predict, model_list= VGG_models)"
   ]
  },
  {
   "cell_type": "markdown",
   "metadata": {},
   "source": [
    "### Get Zoning Type Function"
   ]
  },
  {
   "cell_type": "code",
   "execution_count": 15,
   "metadata": {},
   "outputs": [],
   "source": [
    "def get_zoning(row):\n",
    "    index = np.argmax(row)\n",
    "    return zoning_types[index]"
   ]
  },
  {
   "cell_type": "code",
   "execution_count": 16,
   "metadata": {},
   "outputs": [],
   "source": [
    "# image_df[\"CNN_zoning\"] = image_df[\"CNN\"].apply(get_zoning)\n",
    "image_df[\"CNN_ens_zoning\"] = image_df[\"CNN_ens\"].apply(get_zoning)\n",
    "# image_df[\"VGG_zoning\"] = image_df[\"VGG\"].apply(get_zoning)\n",
    "image_df[\"VGG_ens_zoning\"] = image_df[\"VGG_ens\"].apply(get_zoning)"
   ]
  },
  {
   "cell_type": "code",
   "execution_count": 17,
   "metadata": {},
   "outputs": [
    {
     "data": {
      "text/html": [
       "<div>\n",
       "<style scoped>\n",
       "    .dataframe tbody tr th:only-of-type {\n",
       "        vertical-align: middle;\n",
       "    }\n",
       "\n",
       "    .dataframe tbody tr th {\n",
       "        vertical-align: top;\n",
       "    }\n",
       "\n",
       "    .dataframe thead th {\n",
       "        text-align: right;\n",
       "    }\n",
       "</style>\n",
       "<table border=\"1\" class=\"dataframe\">\n",
       "  <thead>\n",
       "    <tr style=\"text-align: right;\">\n",
       "      <th></th>\n",
       "      <th>zoning</th>\n",
       "      <th>filepath</th>\n",
       "      <th>CNN_ens</th>\n",
       "      <th>VGG_ens</th>\n",
       "      <th>CNN_ens_zoning</th>\n",
       "      <th>VGG_ens_zoning</th>\n",
       "    </tr>\n",
       "  </thead>\n",
       "  <tbody>\n",
       "    <tr>\n",
       "      <th>179172</th>\n",
       "      <td>res_high</td>\n",
       "      <td>../02_Data/06_Test_Train_Val/val/res_high/Las_...</td>\n",
       "      <td>[[0.0, 0.0, 0.0, 0.0, 0.792, 0.0, 0.195]]</td>\n",
       "      <td>[[0.0, 0.0, 0.0, 0.0, 0.0, 0.0, 0.997]]</td>\n",
       "      <td>res_high</td>\n",
       "      <td>res_med</td>\n",
       "    </tr>\n",
       "    <tr>\n",
       "      <th>177188</th>\n",
       "      <td>res_high</td>\n",
       "      <td>../02_Data/06_Test_Train_Val/val/res_high/Las_...</td>\n",
       "      <td>[[0.0, 0.0, 0.0, 0.0, 0.992, 0.0, 0.0]]</td>\n",
       "      <td>[[0.0, 0.0, 0.0, 0.0, 0.0, 1.029, 0.0]]</td>\n",
       "      <td>res_high</td>\n",
       "      <td>res_low</td>\n",
       "    </tr>\n",
       "    <tr>\n",
       "      <th>166133</th>\n",
       "      <td>res_high</td>\n",
       "      <td>../02_Data/06_Test_Train_Val/val/res_high/Las_...</td>\n",
       "      <td>[[0.0, 0.0, 0.0, 0.0, 0.402, 0.387, 0.209]]</td>\n",
       "      <td>[[0.0, 0.0, 0.0, 0.0, 0.0, 0.234, 0.758]]</td>\n",
       "      <td>res_high</td>\n",
       "      <td>res_med</td>\n",
       "    </tr>\n",
       "    <tr>\n",
       "      <th>148033</th>\n",
       "      <td>res_high</td>\n",
       "      <td>../02_Data/06_Test_Train_Val/val/res_high/Las_...</td>\n",
       "      <td>[[0.0, 0.0, 0.0, 0.0, 0.781, 0.0, 0.199]]</td>\n",
       "      <td>[[0.0, 0.0, 0.0, 0.0, 0.857, 0.132, 0.0]]</td>\n",
       "      <td>res_high</td>\n",
       "      <td>res_high</td>\n",
       "    </tr>\n",
       "    <tr>\n",
       "      <th>57107</th>\n",
       "      <td>res_high</td>\n",
       "      <td>../02_Data/06_Test_Train_Val/val/res_high/Las_...</td>\n",
       "      <td>[[0.0, 0.0, 0.0, 0.0, 0.795, 0.0, 0.204]]</td>\n",
       "      <td>[[0.0, 0.0, 0.0, 0.0, 0.796, 0.192, 0.014]]</td>\n",
       "      <td>res_high</td>\n",
       "      <td>res_high</td>\n",
       "    </tr>\n",
       "    <tr>\n",
       "      <th>126073</th>\n",
       "      <td>res_high</td>\n",
       "      <td>../02_Data/06_Test_Train_Val/val/res_high/Las_...</td>\n",
       "      <td>[[0.0, 0.0, 0.0, 0.0, 1.016, 0.0, 0.0]]</td>\n",
       "      <td>[[0.0, 0.0, 0.118, 0.0, 0.0, 0.397, 0.478]]</td>\n",
       "      <td>res_high</td>\n",
       "      <td>res_med</td>\n",
       "    </tr>\n",
       "    <tr>\n",
       "      <th>123080</th>\n",
       "      <td>res_high</td>\n",
       "      <td>../02_Data/06_Test_Train_Val/val/res_high/Las_...</td>\n",
       "      <td>[[0.0, 0.0, 0.0, 0.0, 0.819, 0.0, 0.209]]</td>\n",
       "      <td>[[0.0, 0.0, 0.0, 0.0, 0.0, 0.592, 0.393]]</td>\n",
       "      <td>res_high</td>\n",
       "      <td>res_low</td>\n",
       "    </tr>\n",
       "    <tr>\n",
       "      <th>66090</th>\n",
       "      <td>res_high</td>\n",
       "      <td>../02_Data/06_Test_Train_Val/val/res_high/Las_...</td>\n",
       "      <td>[[0.0, 0.0, 0.0, 0.0, 0.994, 0.0, 0.0]]</td>\n",
       "      <td>[[0.0, 0.0, 0.0, 0.0, 0.807, 0.0, 0.201]]</td>\n",
       "      <td>res_high</td>\n",
       "      <td>res_high</td>\n",
       "    </tr>\n",
       "    <tr>\n",
       "      <th>134073</th>\n",
       "      <td>res_high</td>\n",
       "      <td>../02_Data/06_Test_Train_Val/val/res_high/Las_...</td>\n",
       "      <td>[[0.0, 0.0, 0.0, 0.0, 0.579, 0.413, 0.0]]</td>\n",
       "      <td>[[0.0, 0.0, 0.0, 0.0, 0.012, 0.698, 0.281]]</td>\n",
       "      <td>res_high</td>\n",
       "      <td>res_low</td>\n",
       "    </tr>\n",
       "    <tr>\n",
       "      <th>40082</th>\n",
       "      <td>res_high</td>\n",
       "      <td>../02_Data/06_Test_Train_Val/val/res_high/Las_...</td>\n",
       "      <td>[[0.0, 0.0, 0.0, 0.0, 1.022, 0.0, 0.0]]</td>\n",
       "      <td>[[0.0, 0.0, 0.0, 0.0, 1.005, 0.0, 0.0]]</td>\n",
       "      <td>res_high</td>\n",
       "      <td>res_high</td>\n",
       "    </tr>\n",
       "    <tr>\n",
       "      <th>117125</th>\n",
       "      <td>res_high</td>\n",
       "      <td>../02_Data/06_Test_Train_Val/val/res_high/Las_...</td>\n",
       "      <td>[[0.0, 0.0, 0.0, 0.0, 0.789, 0.0, 0.191]]</td>\n",
       "      <td>[[0.0, 0.0, 0.0, 0.0, 1.024, 0.0, 0.0]]</td>\n",
       "      <td>res_high</td>\n",
       "      <td>res_high</td>\n",
       "    </tr>\n",
       "    <tr>\n",
       "      <th>109125</th>\n",
       "      <td>res_high</td>\n",
       "      <td>../02_Data/06_Test_Train_Val/val/res_high/Las_...</td>\n",
       "      <td>[[0.0, 0.0, 0.0, 0.0, 0.595, 0.209, 0.201]]</td>\n",
       "      <td>[[0.0, 0.0, 0.0, 0.0, 0.0, 1.003, 0.0]]</td>\n",
       "      <td>res_high</td>\n",
       "      <td>res_low</td>\n",
       "    </tr>\n",
       "    <tr>\n",
       "      <th>190116</th>\n",
       "      <td>res_high</td>\n",
       "      <td>../02_Data/06_Test_Train_Val/val/res_high/Las_...</td>\n",
       "      <td>[[0.0, 0.0, 0.0, 0.0, 0.993, 0.0, 0.0]]</td>\n",
       "      <td>[[0.0, 0.0, 0.0, 0.0, 0.98, 0.0, 0.0]]</td>\n",
       "      <td>res_high</td>\n",
       "      <td>res_high</td>\n",
       "    </tr>\n",
       "    <tr>\n",
       "      <th>64097</th>\n",
       "      <td>res_high</td>\n",
       "      <td>../02_Data/06_Test_Train_Val/val/res_high/Las_...</td>\n",
       "      <td>[[0.0, 0.0, 0.0, 0.0, 0.578, 0.0, 0.409]]</td>\n",
       "      <td>[[0.0, 0.0, 0.0, 0.0, 0.0, 0.0, 1.003]]</td>\n",
       "      <td>res_high</td>\n",
       "      <td>res_med</td>\n",
       "    </tr>\n",
       "    <tr>\n",
       "      <th>64096</th>\n",
       "      <td>res_high</td>\n",
       "      <td>../02_Data/06_Test_Train_Val/val/res_high/Las_...</td>\n",
       "      <td>[[0.0, 0.0, 0.0, 0.0, 0.798, 0.0, 0.205]]</td>\n",
       "      <td>[[0.0, 0.0, 0.0, 0.0, 0.0, 0.199, 0.795]]</td>\n",
       "      <td>res_high</td>\n",
       "      <td>res_med</td>\n",
       "    </tr>\n",
       "    <tr>\n",
       "      <th>109050</th>\n",
       "      <td>res_high</td>\n",
       "      <td>../02_Data/06_Test_Train_Val/val/res_high/Las_...</td>\n",
       "      <td>[[0.0, 0.0, 0.0, 0.0, 1.025, 0.0, 0.0]]</td>\n",
       "      <td>[[0.0, 0.0, 0.2, 0.0, 0.608, 0.0, 0.209]]</td>\n",
       "      <td>res_high</td>\n",
       "      <td>res_high</td>\n",
       "    </tr>\n",
       "    <tr>\n",
       "      <th>128075</th>\n",
       "      <td>res_high</td>\n",
       "      <td>../02_Data/06_Test_Train_Val/val/res_high/Las_...</td>\n",
       "      <td>[[0.0, 0.0, 0.0, 0.0, 1.011, 0.0, 0.0]]</td>\n",
       "      <td>[[0.0, 0.0, 0.0, 0.0, 0.0, 0.0, 0.989]]</td>\n",
       "      <td>res_high</td>\n",
       "      <td>res_med</td>\n",
       "    </tr>\n",
       "    <tr>\n",
       "      <th>145138</th>\n",
       "      <td>res_high</td>\n",
       "      <td>../02_Data/06_Test_Train_Val/val/res_high/Las_...</td>\n",
       "      <td>[[0.0, 0.0, 0.0, 0.0, 1.019, 0.0, 0.0]]</td>\n",
       "      <td>[[0.0, 0.0, 0.0, 0.496, 0.202, 0.326, 0.0]]</td>\n",
       "      <td>res_high</td>\n",
       "      <td>ind_office_med</td>\n",
       "    </tr>\n",
       "    <tr>\n",
       "      <th>115082</th>\n",
       "      <td>res_high</td>\n",
       "      <td>../02_Data/06_Test_Train_Val/val/res_high/Las_...</td>\n",
       "      <td>[[0.0, 0.0, 0.0, 0.0, 0.0, 1.008, 0.0]]</td>\n",
       "      <td>[[0.0, 0.0, 0.0, 0.0, 0.0, 0.992, 0.0]]</td>\n",
       "      <td>res_low</td>\n",
       "      <td>res_low</td>\n",
       "    </tr>\n",
       "    <tr>\n",
       "      <th>170154</th>\n",
       "      <td>res_high</td>\n",
       "      <td>../02_Data/06_Test_Train_Val/val/res_high/Las_...</td>\n",
       "      <td>[[0.0, 0.0, 0.0, 0.0, 1.022, 0.0, 0.0]]</td>\n",
       "      <td>[[0.0, 0.0, 0.0, 0.0, 0.0, 0.0, 0.992]]</td>\n",
       "      <td>res_high</td>\n",
       "      <td>res_med</td>\n",
       "    </tr>\n",
       "    <tr>\n",
       "      <th>133069</th>\n",
       "      <td>res_high</td>\n",
       "      <td>../02_Data/06_Test_Train_Val/val/res_high/Las_...</td>\n",
       "      <td>[[0.199, 0.0, 0.0, 0.0, 0.793, 0.0, 0.0]]</td>\n",
       "      <td>[[0.0, 0.0, 0.0, 0.0, 0.12, 0.277, 0.604]]</td>\n",
       "      <td>res_high</td>\n",
       "      <td>res_med</td>\n",
       "    </tr>\n",
       "    <tr>\n",
       "      <th>136111</th>\n",
       "      <td>res_high</td>\n",
       "      <td>../02_Data/06_Test_Train_Val/val/res_high/Las_...</td>\n",
       "      <td>[[0.0, 0.0, 0.0, 0.0, 0.754, 0.0, 0.253]]</td>\n",
       "      <td>[[0.0, 0.0, 0.208, 0.0, 0.0, 0.653, 0.14]]</td>\n",
       "      <td>res_high</td>\n",
       "      <td>res_low</td>\n",
       "    </tr>\n",
       "    <tr>\n",
       "      <th>121082</th>\n",
       "      <td>res_high</td>\n",
       "      <td>../02_Data/06_Test_Train_Val/val/res_high/Las_...</td>\n",
       "      <td>[[0.0, 0.0, 0.0, 0.0, 0.814, 0.0, 0.199]]</td>\n",
       "      <td>[[0.0, 0.0, 0.0, 0.0, 0.0, 0.783, 0.21]]</td>\n",
       "      <td>res_high</td>\n",
       "      <td>res_low</td>\n",
       "    </tr>\n",
       "    <tr>\n",
       "      <th>133121</th>\n",
       "      <td>res_high</td>\n",
       "      <td>../02_Data/06_Test_Train_Val/val/res_high/Las_...</td>\n",
       "      <td>[[0.0, 0.0, 0.0, 0.0, 0.389, 0.0, 0.59]]</td>\n",
       "      <td>[[0.0, 0.0, 0.0, 0.0, 0.215, 0.787, 0.0]]</td>\n",
       "      <td>res_med</td>\n",
       "      <td>res_low</td>\n",
       "    </tr>\n",
       "    <tr>\n",
       "      <th>133109</th>\n",
       "      <td>res_high</td>\n",
       "      <td>../02_Data/06_Test_Train_Val/val/res_high/Las_...</td>\n",
       "      <td>[[0.0, 0.0, 0.0, 0.0, 0.0, 0.995, 0.0]]</td>\n",
       "      <td>[[0.0, 0.0, 0.0, 0.0, 0.19, 0.399, 0.403]]</td>\n",
       "      <td>res_low</td>\n",
       "      <td>res_med</td>\n",
       "    </tr>\n",
       "  </tbody>\n",
       "</table>\n",
       "</div>"
      ],
      "text/plain": [
       "          zoning                                           filepath  \\\n",
       "179172  res_high  ../02_Data/06_Test_Train_Val/val/res_high/Las_...   \n",
       "177188  res_high  ../02_Data/06_Test_Train_Val/val/res_high/Las_...   \n",
       "166133  res_high  ../02_Data/06_Test_Train_Val/val/res_high/Las_...   \n",
       "148033  res_high  ../02_Data/06_Test_Train_Val/val/res_high/Las_...   \n",
       "57107   res_high  ../02_Data/06_Test_Train_Val/val/res_high/Las_...   \n",
       "126073  res_high  ../02_Data/06_Test_Train_Val/val/res_high/Las_...   \n",
       "123080  res_high  ../02_Data/06_Test_Train_Val/val/res_high/Las_...   \n",
       "66090   res_high  ../02_Data/06_Test_Train_Val/val/res_high/Las_...   \n",
       "134073  res_high  ../02_Data/06_Test_Train_Val/val/res_high/Las_...   \n",
       "40082   res_high  ../02_Data/06_Test_Train_Val/val/res_high/Las_...   \n",
       "117125  res_high  ../02_Data/06_Test_Train_Val/val/res_high/Las_...   \n",
       "109125  res_high  ../02_Data/06_Test_Train_Val/val/res_high/Las_...   \n",
       "190116  res_high  ../02_Data/06_Test_Train_Val/val/res_high/Las_...   \n",
       "64097   res_high  ../02_Data/06_Test_Train_Val/val/res_high/Las_...   \n",
       "64096   res_high  ../02_Data/06_Test_Train_Val/val/res_high/Las_...   \n",
       "109050  res_high  ../02_Data/06_Test_Train_Val/val/res_high/Las_...   \n",
       "128075  res_high  ../02_Data/06_Test_Train_Val/val/res_high/Las_...   \n",
       "145138  res_high  ../02_Data/06_Test_Train_Val/val/res_high/Las_...   \n",
       "115082  res_high  ../02_Data/06_Test_Train_Val/val/res_high/Las_...   \n",
       "170154  res_high  ../02_Data/06_Test_Train_Val/val/res_high/Las_...   \n",
       "133069  res_high  ../02_Data/06_Test_Train_Val/val/res_high/Las_...   \n",
       "136111  res_high  ../02_Data/06_Test_Train_Val/val/res_high/Las_...   \n",
       "121082  res_high  ../02_Data/06_Test_Train_Val/val/res_high/Las_...   \n",
       "133121  res_high  ../02_Data/06_Test_Train_Val/val/res_high/Las_...   \n",
       "133109  res_high  ../02_Data/06_Test_Train_Val/val/res_high/Las_...   \n",
       "\n",
       "                                            CNN_ens  \\\n",
       "179172    [[0.0, 0.0, 0.0, 0.0, 0.792, 0.0, 0.195]]   \n",
       "177188      [[0.0, 0.0, 0.0, 0.0, 0.992, 0.0, 0.0]]   \n",
       "166133  [[0.0, 0.0, 0.0, 0.0, 0.402, 0.387, 0.209]]   \n",
       "148033    [[0.0, 0.0, 0.0, 0.0, 0.781, 0.0, 0.199]]   \n",
       "57107     [[0.0, 0.0, 0.0, 0.0, 0.795, 0.0, 0.204]]   \n",
       "126073      [[0.0, 0.0, 0.0, 0.0, 1.016, 0.0, 0.0]]   \n",
       "123080    [[0.0, 0.0, 0.0, 0.0, 0.819, 0.0, 0.209]]   \n",
       "66090       [[0.0, 0.0, 0.0, 0.0, 0.994, 0.0, 0.0]]   \n",
       "134073    [[0.0, 0.0, 0.0, 0.0, 0.579, 0.413, 0.0]]   \n",
       "40082       [[0.0, 0.0, 0.0, 0.0, 1.022, 0.0, 0.0]]   \n",
       "117125    [[0.0, 0.0, 0.0, 0.0, 0.789, 0.0, 0.191]]   \n",
       "109125  [[0.0, 0.0, 0.0, 0.0, 0.595, 0.209, 0.201]]   \n",
       "190116      [[0.0, 0.0, 0.0, 0.0, 0.993, 0.0, 0.0]]   \n",
       "64097     [[0.0, 0.0, 0.0, 0.0, 0.578, 0.0, 0.409]]   \n",
       "64096     [[0.0, 0.0, 0.0, 0.0, 0.798, 0.0, 0.205]]   \n",
       "109050      [[0.0, 0.0, 0.0, 0.0, 1.025, 0.0, 0.0]]   \n",
       "128075      [[0.0, 0.0, 0.0, 0.0, 1.011, 0.0, 0.0]]   \n",
       "145138      [[0.0, 0.0, 0.0, 0.0, 1.019, 0.0, 0.0]]   \n",
       "115082      [[0.0, 0.0, 0.0, 0.0, 0.0, 1.008, 0.0]]   \n",
       "170154      [[0.0, 0.0, 0.0, 0.0, 1.022, 0.0, 0.0]]   \n",
       "133069    [[0.199, 0.0, 0.0, 0.0, 0.793, 0.0, 0.0]]   \n",
       "136111    [[0.0, 0.0, 0.0, 0.0, 0.754, 0.0, 0.253]]   \n",
       "121082    [[0.0, 0.0, 0.0, 0.0, 0.814, 0.0, 0.199]]   \n",
       "133121     [[0.0, 0.0, 0.0, 0.0, 0.389, 0.0, 0.59]]   \n",
       "133109      [[0.0, 0.0, 0.0, 0.0, 0.0, 0.995, 0.0]]   \n",
       "\n",
       "                                            VGG_ens CNN_ens_zoning  \\\n",
       "179172      [[0.0, 0.0, 0.0, 0.0, 0.0, 0.0, 0.997]]       res_high   \n",
       "177188      [[0.0, 0.0, 0.0, 0.0, 0.0, 1.029, 0.0]]       res_high   \n",
       "166133    [[0.0, 0.0, 0.0, 0.0, 0.0, 0.234, 0.758]]       res_high   \n",
       "148033    [[0.0, 0.0, 0.0, 0.0, 0.857, 0.132, 0.0]]       res_high   \n",
       "57107   [[0.0, 0.0, 0.0, 0.0, 0.796, 0.192, 0.014]]       res_high   \n",
       "126073  [[0.0, 0.0, 0.118, 0.0, 0.0, 0.397, 0.478]]       res_high   \n",
       "123080    [[0.0, 0.0, 0.0, 0.0, 0.0, 0.592, 0.393]]       res_high   \n",
       "66090     [[0.0, 0.0, 0.0, 0.0, 0.807, 0.0, 0.201]]       res_high   \n",
       "134073  [[0.0, 0.0, 0.0, 0.0, 0.012, 0.698, 0.281]]       res_high   \n",
       "40082       [[0.0, 0.0, 0.0, 0.0, 1.005, 0.0, 0.0]]       res_high   \n",
       "117125      [[0.0, 0.0, 0.0, 0.0, 1.024, 0.0, 0.0]]       res_high   \n",
       "109125      [[0.0, 0.0, 0.0, 0.0, 0.0, 1.003, 0.0]]       res_high   \n",
       "190116       [[0.0, 0.0, 0.0, 0.0, 0.98, 0.0, 0.0]]       res_high   \n",
       "64097       [[0.0, 0.0, 0.0, 0.0, 0.0, 0.0, 1.003]]       res_high   \n",
       "64096     [[0.0, 0.0, 0.0, 0.0, 0.0, 0.199, 0.795]]       res_high   \n",
       "109050    [[0.0, 0.0, 0.2, 0.0, 0.608, 0.0, 0.209]]       res_high   \n",
       "128075      [[0.0, 0.0, 0.0, 0.0, 0.0, 0.0, 0.989]]       res_high   \n",
       "145138  [[0.0, 0.0, 0.0, 0.496, 0.202, 0.326, 0.0]]       res_high   \n",
       "115082      [[0.0, 0.0, 0.0, 0.0, 0.0, 0.992, 0.0]]        res_low   \n",
       "170154      [[0.0, 0.0, 0.0, 0.0, 0.0, 0.0, 0.992]]       res_high   \n",
       "133069   [[0.0, 0.0, 0.0, 0.0, 0.12, 0.277, 0.604]]       res_high   \n",
       "136111   [[0.0, 0.0, 0.208, 0.0, 0.0, 0.653, 0.14]]       res_high   \n",
       "121082     [[0.0, 0.0, 0.0, 0.0, 0.0, 0.783, 0.21]]       res_high   \n",
       "133121    [[0.0, 0.0, 0.0, 0.0, 0.215, 0.787, 0.0]]        res_med   \n",
       "133109   [[0.0, 0.0, 0.0, 0.0, 0.19, 0.399, 0.403]]        res_low   \n",
       "\n",
       "        VGG_ens_zoning  \n",
       "179172         res_med  \n",
       "177188         res_low  \n",
       "166133         res_med  \n",
       "148033        res_high  \n",
       "57107         res_high  \n",
       "126073         res_med  \n",
       "123080         res_low  \n",
       "66090         res_high  \n",
       "134073         res_low  \n",
       "40082         res_high  \n",
       "117125        res_high  \n",
       "109125         res_low  \n",
       "190116        res_high  \n",
       "64097          res_med  \n",
       "64096          res_med  \n",
       "109050        res_high  \n",
       "128075         res_med  \n",
       "145138  ind_office_med  \n",
       "115082         res_low  \n",
       "170154         res_med  \n",
       "133069         res_med  \n",
       "136111         res_low  \n",
       "121082         res_low  \n",
       "133121         res_low  \n",
       "133109         res_med  "
      ]
     },
     "execution_count": 17,
     "metadata": {},
     "output_type": "execute_result"
    }
   ],
   "source": [
    "image_df.head(25)"
   ]
  },
  {
   "cell_type": "markdown",
   "metadata": {},
   "source": [
    "### EDA On the Predictions"
   ]
  },
  {
   "cell_type": "markdown",
   "metadata": {},
   "source": [
    "Types of zoning getting predicted. Notable that High Industrial is not being predicted"
   ]
  },
  {
   "cell_type": "code",
   "execution_count": 18,
   "metadata": {},
   "outputs": [],
   "source": [
    "# predict = \"CNN_ens_zoning\"\n",
    "predict = \"VGG_ens_zoning\"\n",
    "# predict = \"VGG_zoning\"\n",
    "# predict = \"predict_zoning\""
   ]
  },
  {
   "cell_type": "code",
   "execution_count": 19,
   "metadata": {},
   "outputs": [
    {
     "data": {
      "text/plain": [
       "1504"
      ]
     },
     "execution_count": 19,
     "metadata": {},
     "output_type": "execute_result"
    }
   ],
   "source": [
    "len(image_df[\"zoning\"])"
   ]
  },
  {
   "cell_type": "code",
   "execution_count": 20,
   "metadata": {},
   "outputs": [
    {
     "data": {
      "text/plain": [
       "res_low           1000\n",
       "ind_high           170\n",
       "res_med            159\n",
       "res_high            60\n",
       "ind_office_med      55\n",
       "com_high            41\n",
       "com_med             19\n",
       "Name: VGG_ens_zoning, dtype: int64"
      ]
     },
     "execution_count": 20,
     "metadata": {},
     "output_type": "execute_result"
    }
   ],
   "source": [
    "image_df[predict].value_counts()"
   ]
  },
  {
   "cell_type": "markdown",
   "metadata": {},
   "source": [
    "Predictions for res_low"
   ]
  },
  {
   "cell_type": "code",
   "execution_count": 21,
   "metadata": {},
   "outputs": [
    {
     "data": {
      "text/plain": [
       "res_low           804\n",
       "res_med            99\n",
       "res_high           13\n",
       "ind_office_med     10\n",
       "ind_high           10\n",
       "com_med             5\n",
       "com_high            4\n",
       "Name: VGG_ens_zoning, dtype: int64"
      ]
     },
     "execution_count": 21,
     "metadata": {},
     "output_type": "execute_result"
    }
   ],
   "source": [
    "image_df[image_df[\"zoning\"]==\"res_low\"][predict].value_counts()"
   ]
  },
  {
   "cell_type": "markdown",
   "metadata": {},
   "source": [
    "Predictions for res_med"
   ]
  },
  {
   "cell_type": "code",
   "execution_count": 22,
   "metadata": {},
   "outputs": [
    {
     "data": {
      "text/plain": [
       "res_low     63\n",
       "res_med     19\n",
       "res_high     7\n",
       "ind_high     1\n",
       "Name: VGG_ens_zoning, dtype: int64"
      ]
     },
     "execution_count": 22,
     "metadata": {},
     "output_type": "execute_result"
    }
   ],
   "source": [
    "image_df[image_df[\"zoning\"]==\"res_med\"][predict].value_counts()"
   ]
  },
  {
   "cell_type": "markdown",
   "metadata": {},
   "source": [
    "Predictions for res_high"
   ]
  },
  {
   "cell_type": "code",
   "execution_count": 23,
   "metadata": {},
   "outputs": [
    {
     "data": {
      "text/plain": [
       "res_low           40\n",
       "res_high          25\n",
       "res_med           19\n",
       "ind_office_med     2\n",
       "com_high           2\n",
       "com_med            1\n",
       "ind_high           1\n",
       "Name: VGG_ens_zoning, dtype: int64"
      ]
     },
     "execution_count": 23,
     "metadata": {},
     "output_type": "execute_result"
    }
   ],
   "source": [
    "image_df[image_df[\"zoning\"]==\"res_high\"][predict].value_counts()"
   ]
  },
  {
   "cell_type": "markdown",
   "metadata": {},
   "source": [
    "Predictions for com_med"
   ]
  },
  {
   "cell_type": "code",
   "execution_count": 24,
   "metadata": {},
   "outputs": [
    {
     "data": {
      "text/plain": [
       "ind_high          47\n",
       "res_low           45\n",
       "com_high          16\n",
       "ind_office_med    14\n",
       "res_med           11\n",
       "com_med            8\n",
       "res_high           8\n",
       "Name: VGG_ens_zoning, dtype: int64"
      ]
     },
     "execution_count": 24,
     "metadata": {},
     "output_type": "execute_result"
    }
   ],
   "source": [
    "image_df[image_df[\"zoning\"]==\"com_med\"][predict].value_counts()"
   ]
  },
  {
   "cell_type": "markdown",
   "metadata": {},
   "source": [
    "Predictions for com_high"
   ]
  },
  {
   "cell_type": "code",
   "execution_count": 25,
   "metadata": {},
   "outputs": [
    {
     "data": {
      "text/plain": [
       "ind_high          24\n",
       "res_low           15\n",
       "com_high          14\n",
       "ind_office_med     8\n",
       "res_high           5\n",
       "com_med            3\n",
       "res_med            3\n",
       "Name: VGG_ens_zoning, dtype: int64"
      ]
     },
     "execution_count": 25,
     "metadata": {},
     "output_type": "execute_result"
    }
   ],
   "source": [
    "image_df[image_df[\"zoning\"]==\"com_high\"][predict].value_counts()"
   ]
  },
  {
   "cell_type": "markdown",
   "metadata": {},
   "source": [
    "Predictions for ind_office_med"
   ]
  },
  {
   "cell_type": "code",
   "execution_count": 26,
   "metadata": {},
   "outputs": [
    {
     "data": {
      "text/plain": [
       "ind_high          39\n",
       "res_low           19\n",
       "ind_office_med    14\n",
       "res_med            5\n",
       "com_high           4\n",
       "com_med            2\n",
       "res_high           1\n",
       "Name: VGG_ens_zoning, dtype: int64"
      ]
     },
     "execution_count": 26,
     "metadata": {},
     "output_type": "execute_result"
    }
   ],
   "source": [
    "image_df[image_df[\"zoning\"]=='ind_office_med'][predict].value_counts()"
   ]
  },
  {
   "cell_type": "markdown",
   "metadata": {},
   "source": [
    "Predictions for ind_high"
   ]
  },
  {
   "cell_type": "code",
   "execution_count": 27,
   "metadata": {},
   "outputs": [
    {
     "data": {
      "text/plain": [
       "ind_high          48\n",
       "res_low           14\n",
       "ind_office_med     7\n",
       "res_med            3\n",
       "res_high           1\n",
       "com_high           1\n",
       "Name: VGG_ens_zoning, dtype: int64"
      ]
     },
     "execution_count": 27,
     "metadata": {},
     "output_type": "execute_result"
    }
   ],
   "source": [
    "image_df[image_df[\"zoning\"]==\"ind_high\"][predict].value_counts()"
   ]
  },
  {
   "cell_type": "markdown",
   "metadata": {},
   "source": [
    "### Scoring Validation Predictions"
   ]
  },
  {
   "cell_type": "code",
   "execution_count": 28,
   "metadata": {},
   "outputs": [],
   "source": [
    "from sklearn.metrics import confusion_matrix\n",
    "from sklearn.metrics import accuracy_score\n",
    "from sklearn.metrics import precision_score\n",
    "from sklearn.metrics import recall_score\n",
    "from sklearn.metrics import f1_score"
   ]
  },
  {
   "cell_type": "code",
   "execution_count": 30,
   "metadata": {},
   "outputs": [],
   "source": [
    "y_val = image_df[\"zoning\"]\n",
    "predict_list = [\"CNN_ens_zoning\", \"VGG_ens_zoning\"]\n",
    "# predict_list = [\"CNN_zoning\", \"CNN_ens_zoning\", \"VGG_zoning\", \"VGG_ens_zoning\"]\n",
    "\n",
    "predict_scores = defaultdict()\n",
    "\n",
    "for predict_type in predict_list:\n",
    "    y_pred = image_df[predict_type]\n",
    "    predict_scores[predict_type] = [accuracy_score(y_val, y_pred),\n",
    "                                    precision_score(y_val, y_pred, average=\"weighted\"),\n",
    "                                    recall_score(y_val, y_pred, average=\"weighted\"),\n",
    "                                    f1_score(y_val, y_pred, average=\"weighted\")]"
   ]
  },
  {
   "cell_type": "code",
   "execution_count": 31,
   "metadata": {},
   "outputs": [
    {
     "data": {
      "text/html": [
       "<div>\n",
       "<style scoped>\n",
       "    .dataframe tbody tr th:only-of-type {\n",
       "        vertical-align: middle;\n",
       "    }\n",
       "\n",
       "    .dataframe tbody tr th {\n",
       "        vertical-align: top;\n",
       "    }\n",
       "\n",
       "    .dataframe thead th {\n",
       "        text-align: right;\n",
       "    }\n",
       "</style>\n",
       "<table border=\"1\" class=\"dataframe\">\n",
       "  <thead>\n",
       "    <tr style=\"text-align: right;\">\n",
       "      <th></th>\n",
       "      <th>accuracy</th>\n",
       "      <th>precision</th>\n",
       "      <th>recall</th>\n",
       "      <th>f1</th>\n",
       "    </tr>\n",
       "  </thead>\n",
       "  <tbody>\n",
       "    <tr>\n",
       "      <th>CNN_ens_zoning</th>\n",
       "      <td>0.518617</td>\n",
       "      <td>0.655830</td>\n",
       "      <td>0.518617</td>\n",
       "      <td>0.556282</td>\n",
       "    </tr>\n",
       "    <tr>\n",
       "      <th>VGG_ens_zoning</th>\n",
       "      <td>0.619681</td>\n",
       "      <td>0.623426</td>\n",
       "      <td>0.619681</td>\n",
       "      <td>0.600443</td>\n",
       "    </tr>\n",
       "  </tbody>\n",
       "</table>\n",
       "</div>"
      ],
      "text/plain": [
       "                accuracy  precision    recall        f1\n",
       "CNN_ens_zoning  0.518617   0.655830  0.518617  0.556282\n",
       "VGG_ens_zoning  0.619681   0.623426  0.619681  0.600443"
      ]
     },
     "execution_count": 31,
     "metadata": {},
     "output_type": "execute_result"
    }
   ],
   "source": [
    "predict_scores_df = pd.DataFrame.from_dict(predict_scores,orient='index',columns=[\"accuracy\",\"precision\",\"recall\",\"f1\"])\n",
    "predict_scores_df"
   ]
  },
  {
   "cell_type": "code",
   "execution_count": 34,
   "metadata": {},
   "outputs": [],
   "source": [
    "y_val = image_df[\"zoning\"]\n",
    "\n",
    "predict_scores = defaultdict()\n",
    "\n",
    "for predict_type in predict_list:\n",
    "    y_pred = image_df[predict_type]\n",
    "    predict_scores[\"01_\" + predict_type + \"_accuracy\"] = [np.round(accuracy_score(y_val, y_pred),2)] * len(zoning_types)\n",
    "    predict_scores[\"02_\" + predict_type + \"_precision\"] = list(np.round(precision_score(y_val, y_pred, average=None),2))\n",
    "    predict_scores[\"03_\" + predict_type + \"_recall\"] = list(np.round(recall_score(y_val, y_pred, average=None),2))   \n",
    "    predict_scores[\"04_\" + predict_type + \"_f1\"] = list(np.round(f1_score(y_val, y_pred, average=None),2))"
   ]
  },
  {
   "cell_type": "code",
   "execution_count": 35,
   "metadata": {},
   "outputs": [
    {
     "data": {
      "text/html": [
       "<div>\n",
       "<style scoped>\n",
       "    .dataframe tbody tr th:only-of-type {\n",
       "        vertical-align: middle;\n",
       "    }\n",
       "\n",
       "    .dataframe tbody tr th {\n",
       "        vertical-align: top;\n",
       "    }\n",
       "\n",
       "    .dataframe thead th {\n",
       "        text-align: right;\n",
       "    }\n",
       "</style>\n",
       "<table border=\"1\" class=\"dataframe\">\n",
       "  <thead>\n",
       "    <tr style=\"text-align: right;\">\n",
       "      <th></th>\n",
       "      <th>com_high</th>\n",
       "      <th>com_med</th>\n",
       "      <th>ind_high</th>\n",
       "      <th>ind_office_med</th>\n",
       "      <th>res_high</th>\n",
       "      <th>res_low</th>\n",
       "      <th>res_med</th>\n",
       "    </tr>\n",
       "  </thead>\n",
       "  <tbody>\n",
       "    <tr>\n",
       "      <th>01_CNN_ens_zoning_accuracy</th>\n",
       "      <td>0.52</td>\n",
       "      <td>0.52</td>\n",
       "      <td>0.52</td>\n",
       "      <td>0.52</td>\n",
       "      <td>0.52</td>\n",
       "      <td>0.52</td>\n",
       "      <td>0.52</td>\n",
       "    </tr>\n",
       "    <tr>\n",
       "      <th>01_VGG_ens_zoning_accuracy</th>\n",
       "      <td>0.62</td>\n",
       "      <td>0.62</td>\n",
       "      <td>0.62</td>\n",
       "      <td>0.62</td>\n",
       "      <td>0.62</td>\n",
       "      <td>0.62</td>\n",
       "      <td>0.62</td>\n",
       "    </tr>\n",
       "    <tr>\n",
       "      <th>02_CNN_ens_zoning_precision</th>\n",
       "      <td>0.37</td>\n",
       "      <td>0.28</td>\n",
       "      <td>0.15</td>\n",
       "      <td>0.28</td>\n",
       "      <td>0.26</td>\n",
       "      <td>0.90</td>\n",
       "      <td>0.13</td>\n",
       "    </tr>\n",
       "    <tr>\n",
       "      <th>02_VGG_ens_zoning_precision</th>\n",
       "      <td>0.34</td>\n",
       "      <td>0.42</td>\n",
       "      <td>0.28</td>\n",
       "      <td>0.25</td>\n",
       "      <td>0.42</td>\n",
       "      <td>0.80</td>\n",
       "      <td>0.12</td>\n",
       "    </tr>\n",
       "    <tr>\n",
       "      <th>03_CNN_ens_zoning_recall</th>\n",
       "      <td>0.18</td>\n",
       "      <td>0.14</td>\n",
       "      <td>0.09</td>\n",
       "      <td>0.35</td>\n",
       "      <td>0.78</td>\n",
       "      <td>0.64</td>\n",
       "      <td>0.43</td>\n",
       "    </tr>\n",
       "    <tr>\n",
       "      <th>03_VGG_ens_zoning_recall</th>\n",
       "      <td>0.19</td>\n",
       "      <td>0.05</td>\n",
       "      <td>0.65</td>\n",
       "      <td>0.17</td>\n",
       "      <td>0.28</td>\n",
       "      <td>0.85</td>\n",
       "      <td>0.21</td>\n",
       "    </tr>\n",
       "    <tr>\n",
       "      <th>04_CNN_ens_zoning_f1</th>\n",
       "      <td>0.24</td>\n",
       "      <td>0.19</td>\n",
       "      <td>0.11</td>\n",
       "      <td>0.31</td>\n",
       "      <td>0.39</td>\n",
       "      <td>0.74</td>\n",
       "      <td>0.20</td>\n",
       "    </tr>\n",
       "    <tr>\n",
       "      <th>04_VGG_ens_zoning_f1</th>\n",
       "      <td>0.25</td>\n",
       "      <td>0.10</td>\n",
       "      <td>0.39</td>\n",
       "      <td>0.20</td>\n",
       "      <td>0.33</td>\n",
       "      <td>0.83</td>\n",
       "      <td>0.15</td>\n",
       "    </tr>\n",
       "  </tbody>\n",
       "</table>\n",
       "</div>"
      ],
      "text/plain": [
       "                             com_high  com_med  ind_high  ind_office_med  \\\n",
       "01_CNN_ens_zoning_accuracy       0.52     0.52      0.52            0.52   \n",
       "01_VGG_ens_zoning_accuracy       0.62     0.62      0.62            0.62   \n",
       "02_CNN_ens_zoning_precision      0.37     0.28      0.15            0.28   \n",
       "02_VGG_ens_zoning_precision      0.34     0.42      0.28            0.25   \n",
       "03_CNN_ens_zoning_recall         0.18     0.14      0.09            0.35   \n",
       "03_VGG_ens_zoning_recall         0.19     0.05      0.65            0.17   \n",
       "04_CNN_ens_zoning_f1             0.24     0.19      0.11            0.31   \n",
       "04_VGG_ens_zoning_f1             0.25     0.10      0.39            0.20   \n",
       "\n",
       "                             res_high  res_low  res_med  \n",
       "01_CNN_ens_zoning_accuracy       0.52     0.52     0.52  \n",
       "01_VGG_ens_zoning_accuracy       0.62     0.62     0.62  \n",
       "02_CNN_ens_zoning_precision      0.26     0.90     0.13  \n",
       "02_VGG_ens_zoning_precision      0.42     0.80     0.12  \n",
       "03_CNN_ens_zoning_recall         0.78     0.64     0.43  \n",
       "03_VGG_ens_zoning_recall         0.28     0.85     0.21  \n",
       "04_CNN_ens_zoning_f1             0.39     0.74     0.20  \n",
       "04_VGG_ens_zoning_f1             0.33     0.83     0.15  "
      ]
     },
     "execution_count": 35,
     "metadata": {},
     "output_type": "execute_result"
    }
   ],
   "source": [
    "predict_scores_df = pd.DataFrame.from_dict(predict_scores,orient='index',columns=zoning_types)\n",
    "predict_scores_df.sort_index()"
   ]
  },
  {
   "cell_type": "code",
   "execution_count": null,
   "metadata": {},
   "outputs": [],
   "source": []
  },
  {
   "cell_type": "code",
   "execution_count": null,
   "metadata": {},
   "outputs": [],
   "source": []
  }
 ],
 "metadata": {
  "kernelspec": {
   "display_name": "Python 3",
   "language": "python",
   "name": "python3"
  },
  "language_info": {
   "codemirror_mode": {
    "name": "ipython",
    "version": 3
   },
   "file_extension": ".py",
   "mimetype": "text/x-python",
   "name": "python",
   "nbconvert_exporter": "python",
   "pygments_lexer": "ipython3",
   "version": "3.6.5"
  }
 },
 "nbformat": 4,
 "nbformat_minor": 2
}

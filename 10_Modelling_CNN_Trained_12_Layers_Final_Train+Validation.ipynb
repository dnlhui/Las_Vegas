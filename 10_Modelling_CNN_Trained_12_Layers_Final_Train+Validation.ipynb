{
 "cells": [
  {
   "cell_type": "markdown",
   "metadata": {},
   "source": [
    "Notable Difference between this and V1 is (1) reshape images to 150 x 150 size and (2) ingest only equal number of training samples for each class (3) changed validation step size to a lower number"
   ]
  },
  {
   "cell_type": "code",
   "execution_count": 1,
   "metadata": {},
   "outputs": [
    {
     "name": "stderr",
     "output_type": "stream",
     "text": [
      "Using TensorFlow backend.\n"
     ]
    },
    {
     "data": {
      "text/plain": [
       "'2.2.4'"
      ]
     },
     "execution_count": 1,
     "metadata": {},
     "output_type": "execute_result"
    }
   ],
   "source": [
    "import keras\n",
    "keras.__version__"
   ]
  },
  {
   "cell_type": "code",
   "execution_count": 2,
   "metadata": {},
   "outputs": [],
   "source": [
    "import os, shutil, os.path"
   ]
  },
  {
   "cell_type": "markdown",
   "metadata": {},
   "source": [
    "### How Many Files in Each Set?"
   ]
  },
  {
   "cell_type": "code",
   "execution_count": 5,
   "metadata": {},
   "outputs": [],
   "source": [
    "zoning_type_list = [\"com_high\",\"com_med\",\"ind_high\",\"ind_office_med\",\"res_high\",\"res_low\",\"res_med\"]\n",
    "data_list = [\"train_equal\", \"train\", \"train_final\"]\n",
    "path = \"../02_Data/06_Test_Train_Val\""
   ]
  },
  {
   "cell_type": "code",
   "execution_count": 6,
   "metadata": {},
   "outputs": [
    {
     "name": "stdout",
     "output_type": "stream",
     "text": [
      "train_equal 2835 com_high\n",
      "train_equal 2835 com_med\n",
      "train_equal 2835 ind_high\n",
      "train_equal 2835 ind_office_med\n",
      "train_equal 2835 res_high\n",
      "train_equal 2835 res_low\n",
      "train_equal 2835 res_med\n",
      "train 1728 com_high\n",
      "train 3576 com_med\n",
      "train 1784 ind_high\n",
      "train 2024 ind_office_med\n",
      "train 2160 res_high\n",
      "train 2837 res_low\n",
      "train 2160 res_med\n",
      "train_final 3395 com_high\n",
      "train_final 3395 com_med\n",
      "train_final 3395 ind_high\n",
      "train_final 3395 ind_office_med\n",
      "train_final 3395 res_high\n",
      "train_final 3395 res_low\n",
      "train_final 3395 res_med\n"
     ]
    }
   ],
   "source": [
    "for data in data_list:\n",
    "    for zoning in zoning_type_list:\n",
    "        pathway = path + f\"/{data}/{zoning}\"\n",
    "        file_count = len(os.listdir(pathway))\n",
    "        print(data, file_count, zoning)"
   ]
  },
  {
   "cell_type": "markdown",
   "metadata": {},
   "source": [
    "### Building The Network"
   ]
  },
  {
   "cell_type": "code",
   "execution_count": 48,
   "metadata": {},
   "outputs": [],
   "source": [
    "from keras import layers\n",
    "from keras import models\n",
    "\n",
    "model = models.Sequential()\n",
    "model.add(layers.Conv2D(32, (3, 3), activation='relu',\n",
    "                        input_shape=(150, 150, 1)))\n",
    "model.add(layers.MaxPooling2D((2, 2)))\n",
    "model.add(layers.Conv2D(64, (3, 3), activation='relu'))\n",
    "model.add(layers.MaxPooling2D((2, 2)))\n",
    "model.add(layers.Conv2D(128, (3, 3), activation='relu'))\n",
    "model.add(layers.MaxPooling2D((2, 2)))\n",
    "model.add(layers.Conv2D(128, (3, 3), activation='relu'))\n",
    "model.add(layers.MaxPooling2D((2, 2)))\n",
    "model.add(layers.Flatten())\n",
    "model.add(layers.Dropout(0.1))\n",
    "model.add(layers.Dense(512, activation='relu'))\n",
    "model.add(layers.Dense(7, activation='softmax'))   # \"sigmoid\""
   ]
  },
  {
   "cell_type": "markdown",
   "metadata": {},
   "source": [
    "Let's take a look at how the dimensions of the feature maps change with every successive layer:"
   ]
  },
  {
   "cell_type": "code",
   "execution_count": 49,
   "metadata": {},
   "outputs": [
    {
     "name": "stdout",
     "output_type": "stream",
     "text": [
      "_________________________________________________________________\n",
      "Layer (type)                 Output Shape              Param #   \n",
      "=================================================================\n",
      "conv2d_17 (Conv2D)           (None, 148, 148, 32)      320       \n",
      "_________________________________________________________________\n",
      "max_pooling2d_17 (MaxPooling (None, 74, 74, 32)        0         \n",
      "_________________________________________________________________\n",
      "conv2d_18 (Conv2D)           (None, 72, 72, 64)        18496     \n",
      "_________________________________________________________________\n",
      "max_pooling2d_18 (MaxPooling (None, 36, 36, 64)        0         \n",
      "_________________________________________________________________\n",
      "conv2d_19 (Conv2D)           (None, 34, 34, 128)       73856     \n",
      "_________________________________________________________________\n",
      "max_pooling2d_19 (MaxPooling (None, 17, 17, 128)       0         \n",
      "_________________________________________________________________\n",
      "conv2d_20 (Conv2D)           (None, 15, 15, 128)       147584    \n",
      "_________________________________________________________________\n",
      "max_pooling2d_20 (MaxPooling (None, 7, 7, 128)         0         \n",
      "_________________________________________________________________\n",
      "flatten_5 (Flatten)          (None, 6272)              0         \n",
      "_________________________________________________________________\n",
      "dropout_5 (Dropout)          (None, 6272)              0         \n",
      "_________________________________________________________________\n",
      "dense_9 (Dense)              (None, 512)               3211776   \n",
      "_________________________________________________________________\n",
      "dense_10 (Dense)             (None, 7)                 3591      \n",
      "=================================================================\n",
      "Total params: 3,455,623\n",
      "Trainable params: 3,455,623\n",
      "Non-trainable params: 0\n",
      "_________________________________________________________________\n"
     ]
    }
   ],
   "source": [
    "model.summary()"
   ]
  },
  {
   "cell_type": "markdown",
   "metadata": {},
   "source": [
    "For our compilation step, we'll go with the `RMSprop` optimizer as usual. Since we ended our network with a single sigmoid unit, we will \n",
    "use binary crossentropy as our loss (as a reminder, check out the table in Chapter 4, section 5 for a cheatsheet on what loss function to \n",
    "use in various situations)."
   ]
  },
  {
   "cell_type": "code",
   "execution_count": 50,
   "metadata": {},
   "outputs": [],
   "source": [
    "from keras import optimizers\n",
    "\n",
    "model.compile(loss='categorical_crossentropy',    # 'binary_crossentropy', 'categorical_crossentropy',\n",
    "              optimizer=optimizers.RMSprop(lr=5e-5),                # optimizers.Adam(0.0005) optimizers.RMSprop(lr=1e-4), RMSprop(lr=5e-5)  # 'rmsprop',   # \"adam\",  \n",
    "              metrics=['acc'])                           # categorical_accuracy.          # 'acc'  "
   ]
  },
  {
   "cell_type": "markdown",
   "metadata": {},
   "source": [
    "### Data Preprocessing"
   ]
  },
  {
   "cell_type": "code",
   "execution_count": 51,
   "metadata": {},
   "outputs": [],
   "source": [
    "train_dir = path + \"/train_final\"\n",
    "# validation_dir = path + \"/val\""
   ]
  },
  {
   "cell_type": "code",
   "execution_count": 52,
   "metadata": {},
   "outputs": [
    {
     "name": "stdout",
     "output_type": "stream",
     "text": [
      "Found 23765 images belonging to 7 classes.\n"
     ]
    }
   ],
   "source": [
    "from keras.preprocessing.image import ImageDataGenerator\n",
    "\n",
    "# All images will be rescaled by 1./255\n",
    "train_datagen = ImageDataGenerator(rescale=1./255)\n",
    "test_datagen = ImageDataGenerator(rescale=1./255)\n",
    "\n",
    "train_generator = train_datagen.flow_from_directory(\n",
    "        # This is the target directory\n",
    "        train_dir,\n",
    "        # All images will be resized to 150x150\n",
    "        target_size=(150, 150),\n",
    "        batch_size=40,\n",
    "        color_mode=\"grayscale\",\n",
    "        # Since we use binary_crossentropy loss, we need binary labels\n",
    "        class_mode='categorical')\n",
    "\n",
    "# validation_generator = test_datagen.flow_from_directory(\n",
    "#         validation_dir,\n",
    "#         target_size=(150, 150),\n",
    "#         batch_size=40,\n",
    "#         color_mode=\"grayscale\",\n",
    "#         class_mode='categorical')"
   ]
  },
  {
   "cell_type": "markdown",
   "metadata": {},
   "source": [
    "Let's take a look at the output of one of these generators: it yields batches of 150x150 RGB images (shape `(20, 150, 150, 3)`) and binary \n",
    "labels (shape `(20,)`). 20 is the number of samples in each batch (the batch size). Note that the generator yields these batches \n",
    "indefinitely: it just loops endlessly over the images present in the target folder. For this reason, we need to `break` the iteration loop \n",
    "at some point."
   ]
  },
  {
   "cell_type": "code",
   "execution_count": 53,
   "metadata": {},
   "outputs": [
    {
     "name": "stdout",
     "output_type": "stream",
     "text": [
      "data batch shape: (40, 150, 150, 1)\n",
      "labels batch shape: (40, 7)\n"
     ]
    }
   ],
   "source": [
    "for data_batch, labels_batch in train_generator:\n",
    "    print('data batch shape:', data_batch.shape)\n",
    "    print('labels batch shape:', labels_batch.shape)\n",
    "    break"
   ]
  },
  {
   "cell_type": "markdown",
   "metadata": {},
   "source": [
    "Let's fit our model to the data using the generator. We do it using the `fit_generator` method, the equivalent of `fit` for data generators \n",
    "like ours. It expects as first argument a Python generator that will yield batches of inputs and targets indefinitely, like ours does. \n",
    "Because the data is being generated endlessly, the generator needs to know example how many samples to draw from the generator before \n",
    "declaring an epoch over. This is the role of the `steps_per_epoch` argument: after having drawn `steps_per_epoch` batches from the \n",
    "generator, i.e. after having run for `steps_per_epoch` gradient descent steps, the fitting process will go to the next epoch. In our case, \n",
    "batches are 20-sample large, so it will take 100 batches until we see our target of 2000 samples.\n",
    "\n",
    "When using `fit_generator`, one may pass a `validation_data` argument, much like with the `fit` method. Importantly, this argument is \n",
    "allowed to be a data generator itself, but it could be a tuple of Numpy arrays as well. If you pass a generator as `validation_data`, then \n",
    "this generator is expected to yield batches of validation data endlessly, and thus you should also specify the `validation_steps` argument, \n",
    "which tells the process how many batches to draw from the validation generator for evaluation."
   ]
  },
  {
   "cell_type": "code",
   "execution_count": 54,
   "metadata": {},
   "outputs": [
    {
     "data": {
      "text/plain": [
       "{'com_high': 0,\n",
       " 'com_med': 1,\n",
       " 'ind_high': 2,\n",
       " 'ind_office_med': 3,\n",
       " 'res_high': 4,\n",
       " 'res_low': 5,\n",
       " 'res_med': 6}"
      ]
     },
     "execution_count": 54,
     "metadata": {},
     "output_type": "execute_result"
    }
   ],
   "source": [
    "train_generator.class_indices"
   ]
  },
  {
   "cell_type": "code",
   "execution_count": 55,
   "metadata": {},
   "outputs": [
    {
     "name": "stdout",
     "output_type": "stream",
     "text": [
      "Epoch 1/25\n",
      "100/100 [==============================] - 7s 70ms/step - loss: 1.8043 - acc: 0.2383\n",
      "Epoch 2/25\n",
      "100/100 [==============================] - 6s 64ms/step - loss: 1.5692 - acc: 0.3343\n",
      "Epoch 3/25\n",
      "100/100 [==============================] - 6s 64ms/step - loss: 1.5016 - acc: 0.3495\n",
      "Epoch 4/25\n",
      "100/100 [==============================] - 6s 64ms/step - loss: 1.4759 - acc: 0.3445\n",
      "Epoch 5/25\n",
      "100/100 [==============================] - 6s 63ms/step - loss: 1.4665 - acc: 0.3748\n",
      "Epoch 6/25\n",
      "100/100 [==============================] - 6s 63ms/step - loss: 1.4517 - acc: 0.3770\n",
      "Epoch 7/25\n",
      "100/100 [==============================] - 6s 64ms/step - loss: 1.4198 - acc: 0.4000\n",
      "Epoch 8/25\n",
      "100/100 [==============================] - 6s 64ms/step - loss: 1.4248 - acc: 0.3913\n",
      "Epoch 9/25\n",
      "100/100 [==============================] - 6s 64ms/step - loss: 1.4014 - acc: 0.4185\n",
      "Epoch 10/25\n",
      "100/100 [==============================] - 6s 64ms/step - loss: 1.3952 - acc: 0.4050\n",
      "Epoch 11/25\n",
      "100/100 [==============================] - 6s 64ms/step - loss: 1.3840 - acc: 0.4230\n",
      "Epoch 12/25\n",
      "100/100 [==============================] - 6s 63ms/step - loss: 1.3701 - acc: 0.4205\n",
      "Epoch 13/25\n",
      "100/100 [==============================] - 6s 64ms/step - loss: 1.3407 - acc: 0.4507\n",
      "Epoch 14/25\n",
      "100/100 [==============================] - 6s 64ms/step - loss: 1.3611 - acc: 0.4390\n",
      "Epoch 15/25\n",
      "100/100 [==============================] - 6s 64ms/step - loss: 1.3376 - acc: 0.4402\n",
      "Epoch 16/25\n",
      "100/100 [==============================] - 6s 64ms/step - loss: 1.3404 - acc: 0.4425\n",
      "Epoch 17/25\n",
      "100/100 [==============================] - 6s 64ms/step - loss: 1.3360 - acc: 0.4438\n",
      "Epoch 18/25\n",
      "100/100 [==============================] - 6s 63ms/step - loss: 1.3437 - acc: 0.4405\n",
      "Epoch 19/25\n",
      "100/100 [==============================] - 6s 64ms/step - loss: 1.3090 - acc: 0.4697\n",
      "Epoch 20/25\n",
      "100/100 [==============================] - 6s 64ms/step - loss: 1.2962 - acc: 0.4740\n",
      "Epoch 21/25\n",
      "100/100 [==============================] - 6s 64ms/step - loss: 1.2914 - acc: 0.4720\n",
      "Epoch 22/25\n",
      "100/100 [==============================] - 6s 64ms/step - loss: 1.2954 - acc: 0.4640\n",
      "Epoch 23/25\n",
      "100/100 [==============================] - 6s 64ms/step - loss: 1.2806 - acc: 0.4722\n",
      "Epoch 24/25\n",
      "100/100 [==============================] - 6s 63ms/step - loss: 1.2981 - acc: 0.4585\n",
      "Epoch 25/25\n",
      "100/100 [==============================] - 6s 64ms/step - loss: 1.2887 - acc: 0.4697\n"
     ]
    }
   ],
   "source": [
    "history = model.fit_generator(\n",
    "      train_generator,\n",
    "      steps_per_epoch=100,\n",
    "      epochs=25) \n",
    "#     validation_data=validation_generator,\n",
    "#     validation_steps=20)"
   ]
  },
  {
   "cell_type": "markdown",
   "metadata": {
    "collapsed": true
   },
   "source": [
    "It is good practice to always save your models after training:"
   ]
  },
  {
   "cell_type": "code",
   "execution_count": 56,
   "metadata": {},
   "outputs": [],
   "source": [
    "# model.save('las_vegas_CNN_Trained_12_Layers_Final_v5.h5')"
   ]
  },
  {
   "cell_type": "markdown",
   "metadata": {},
   "source": [
    "Let's plot the loss and accuracy of the model over the training and validation data during training:"
   ]
  },
  {
   "cell_type": "code",
   "execution_count": 57,
   "metadata": {},
   "outputs": [
    {
     "data": {
      "image/png": "[encoded data removed]",
      "text/plain": [
       "<Figure size 432x288 with 1 Axes>"
      ]
     },
     "metadata": {},
     "output_type": "display_data"
    },
    {
     "data": {
      "image/png": "[encoded data removed]",
      "text/plain": [
       "<Figure size 432x288 with 1 Axes>"
      ]
     },
     "metadata": {},
     "output_type": "display_data"
    }
   ],
   "source": [
    "import matplotlib.pyplot as plt\n",
    "\n",
    "acc = history.history['acc']\n",
    "# val_acc = history.history['val_acc']\n",
    "loss = history.history['loss']\n",
    "# val_loss = history.history['val_loss']\n",
    "\n",
    "epochs = range(len(acc))\n",
    "\n",
    "plt.plot(epochs, acc, 'bo', label='Training acc')\n",
    "# plt.plot(epochs, val_acc, 'b', label='Validation acc')\n",
    "plt.title('Training and validation accuracy')\n",
    "plt.legend()\n",
    "\n",
    "plt.figure()\n",
    "\n",
    "plt.plot(epochs, loss, 'bo', label='Training loss')\n",
    "# plt.plot(epochs, val_loss, 'b', label='Validation loss')\n",
    "plt.title('Training and validation loss')\n",
    "plt.legend()\n",
    "\n",
    "plt.show()"
   ]
  },
  {
   "cell_type": "markdown",
   "metadata": {},
   "source": [
    "These plots are characteristic of overfitting. Our training accuracy increases linearly over time, until it reaches nearly 100%, while our \n",
    "validation accuracy stalls at 70-72%. Our validation loss reaches its minimum after only five epochs then stalls, while the training loss \n",
    "keeps decreasing linearly until it reaches nearly 0.\n",
    "\n",
    "Because we only have relatively few training samples (2000), overfitting is going to be our number one concern. You already know about a \n",
    "number of techniques that can help mitigate overfitting, such as dropout and weight decay (L2 regularization). We are now going to \n",
    "introduce a new one, specific to computer vision, and used almost universally when processing images with deep learning models: *data \n",
    "augmentation*."
   ]
  }
 ],
 "metadata": {
  "kernelspec": {
   "display_name": "Python 3",
   "language": "python",
   "name": "python3"
  },
  "language_info": {
   "codemirror_mode": {
    "name": "ipython",
    "version": 3
   },
   "file_extension": ".py",
   "mimetype": "text/x-python",
   "name": "python",
   "nbconvert_exporter": "python",
   "pygments_lexer": "ipython3",
   "version": "3.6.5"
  }
 },
 "nbformat": 4,
 "nbformat_minor": 2
}

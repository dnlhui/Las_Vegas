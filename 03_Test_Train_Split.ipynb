{
 "cells": [
  {
   "cell_type": "code",
   "execution_count": 1,
   "metadata": {},
   "outputs": [],
   "source": [
    "import os, os.path\n",
    "from shutil import copyfile\n",
    "import random\n",
    "from collections import defaultdict"
   ]
  },
  {
   "cell_type": "code",
   "execution_count": 2,
   "metadata": {},
   "outputs": [],
   "source": [
    "zoning_type_list = [\"com_high\",\"com_med\",\"ind_high\",\"ind_office_med\",\"res_high\",\"res_low\",\"res_med\"]"
   ]
  },
  {
   "cell_type": "code",
   "execution_count": 3,
   "metadata": {},
   "outputs": [],
   "source": [
    "def train_val_test_split(train, val, test, class_list):\n",
    "    zoning_dict = defaultdict()\n",
    "    os.mkdir(f\"../02_Data/06_Test_Train_Val/train\")\n",
    "    os.mkdir(f\"../02_Data/06_Test_Train_Val/val\")\n",
    "    os.mkdir(f\"../02_Data/06_Test_Train_Val/test\")\n",
    "    \n",
    "    for zoning in class_list:\n",
    "        path, dirs, files = next(os.walk(f\"../02_Data/05_Data_for_Modelling/{zoning}\"))\n",
    "        file_count = len(files)\n",
    "        random.shuffle(files)   # randomly shuffle files b/c adjacent files will be similar\n",
    "        train_num = int(train*file_count)\n",
    "        val_num = int(val*file_count)\n",
    "        test_num = int(val*file_count)\n",
    "        \n",
    "        os.mkdir(f\"../02_Data/06_Test_Train_Val/train/{zoning}\")\n",
    "        os.mkdir(f\"../02_Data/06_Test_Train_Val/val/{zoning}\")\n",
    "        os.mkdir(f\"../02_Data/06_Test_Train_Val/test/{zoning}\")        \n",
    "        \n",
    "        for filepath in files[:train_num]:\n",
    "            copyfile(f\"../02_Data/05_Data_for_Modelling/{zoning}/{filepath}\", f\"../02_Data/06_Test_Train_Val/train/{zoning}/{filepath}\")\n",
    "        for filepath in files[train_num:train_num+val_num]:\n",
    "            copyfile(f\"../02_Data/05_Data_for_Modelling/{zoning}/{filepath}\", f\"../02_Data/06_Test_Train_Val/val/{zoning}/{filepath}\")\n",
    "        for filepath in files[-test_num:]:\n",
    "            copyfile(f\"../02_Data/05_Data_for_Modelling/{zoning}/{filepath}\", f\"../02_Data/06_Test_Train_Val/test/{zoning}/{filepath}\")"
   ]
  },
  {
   "cell_type": "code",
   "execution_count": 4,
   "metadata": {},
   "outputs": [],
   "source": [
    "train_val_test_split(train=.6, val=.2, test=.2, class_list=zoning_type_list)"
   ]
  },
  {
   "cell_type": "code",
   "execution_count": null,
   "metadata": {},
   "outputs": [],
   "source": []
  }
 ],
 "metadata": {
  "kernelspec": {
   "display_name": "Python 3",
   "language": "python",
   "name": "python3"
  },
  "language_info": {
   "codemirror_mode": {
    "name": "ipython",
    "version": 3
   },
   "file_extension": ".py",
   "mimetype": "text/x-python",
   "name": "python",
   "nbconvert_exporter": "python",
   "pygments_lexer": "ipython3",
   "version": "3.6.5"
  }
 },
 "nbformat": 4,
 "nbformat_minor": 2
}

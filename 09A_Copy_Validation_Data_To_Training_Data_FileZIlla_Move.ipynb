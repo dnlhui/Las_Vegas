{
 "cells": [
  {
   "cell_type": "markdown",
   "metadata": {},
   "source": [
    "This Notebook Makes a Copy of \"Training Data_Equal\" so that I can add the validation data to it for final training"
   ]
  },
  {
   "cell_type": "code",
   "execution_count": 2,
   "metadata": {},
   "outputs": [],
   "source": [
    "import pandas as pd\n",
    "import numpy as np\n",
    "import os, os.path\n",
    "from shutil import copyfile"
   ]
  },
  {
   "cell_type": "code",
   "execution_count": 5,
   "metadata": {},
   "outputs": [],
   "source": [
    "zoning_type_list = [\"com_high\",\"com_med\",\"ind_high\",\"ind_office_med\",\"res_high\",\"res_low\",\"res_med\"]\n",
    "\n",
    "path = \"../02_Data/06_Test_Train_Val/train_equal/\""
   ]
  },
  {
   "cell_type": "code",
   "execution_count": 9,
   "metadata": {},
   "outputs": [],
   "source": [
    "os.mkdir(\"../02_Data/06_Test_Train_Val/train_final\")"
   ]
  },
  {
   "cell_type": "code",
   "execution_count": 10,
   "metadata": {},
   "outputs": [],
   "source": [
    "for zoning in zoning_type_list:\n",
    "    paths, dirs, files = next(os.walk(path + zoning))\n",
    "    os.mkdir(\"../02_Data/06_Test_Train_Val/train_final/\"+ zoning)\n",
    "    for file in files:\n",
    "        origin = path + zoning + \"/\" + file\n",
    "        destination = \"../02_Data/06_Test_Train_Val/train_final/\"+ zoning + \"/\" + file\n",
    "        copyfile(origin, destination)"
   ]
  },
  {
   "cell_type": "code",
   "execution_count": null,
   "metadata": {},
   "outputs": [],
   "source": []
  }
 ],
 "metadata": {
  "kernelspec": {
   "display_name": "Python 3",
   "language": "python",
   "name": "python3"
  },
  "language_info": {
   "codemirror_mode": {
    "name": "ipython",
    "version": 3
   },
   "file_extension": ".py",
   "mimetype": "text/x-python",
   "name": "python",
   "nbconvert_exporter": "python",
   "pygments_lexer": "ipython3",
   "version": "3.6.5"
  }
 },
 "nbformat": 4,
 "nbformat_minor": 2
}

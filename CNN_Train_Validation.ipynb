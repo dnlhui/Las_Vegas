{
 "cells": [
  {
   "cell_type": "code",
   "execution_count": 2,
   "metadata": {},
   "outputs": [
    {
     "name": "stderr",
     "output_type": "stream",
     "text": [
      "Using TensorFlow backend.\n"
     ]
    },
    {
     "data": {
      "text/plain": [
       "'2.2.4'"
      ]
     },
     "execution_count": 2,
     "metadata": {},
     "output_type": "execute_result"
    }
   ],
   "source": [
    "import keras\n",
    "keras.__version__"
   ]
  },
  {
   "cell_type": "code",
   "execution_count": 3,
   "metadata": {},
   "outputs": [],
   "source": [
    "import os, shutil, os.path"
   ]
  },
  {
   "cell_type": "markdown",
   "metadata": {},
   "source": [
    "### Building The Network"
   ]
  },
  {
   "cell_type": "code",
   "execution_count": 4,
   "metadata": {},
   "outputs": [],
   "source": [
    "from keras import layers\n",
    "from keras import models\n",
    "\n",
    "model = models.Sequential()\n",
    "model.add(layers.Conv2D(32, (3, 3), activation='relu',\n",
    "                        input_shape=(150, 150, 1)))\n",
    "model.add(layers.MaxPooling2D((2, 2)))\n",
    "model.add(layers.Conv2D(64, (3, 3), activation='relu'))\n",
    "model.add(layers.MaxPooling2D((2, 2)))\n",
    "model.add(layers.Conv2D(128, (3, 3), activation='relu'))\n",
    "model.add(layers.MaxPooling2D((2, 2)))\n",
    "model.add(layers.Conv2D(128, (3, 3), activation='relu'))\n",
    "model.add(layers.MaxPooling2D((2, 2)))\n",
    "model.add(layers.Flatten())\n",
    "model.add(layers.Dropout(0.1))\n",
    "model.add(layers.Dense(512, activation='relu'))\n",
    "model.add(layers.Dense(7, activation='softmax'))   # \"sigmoid\""
   ]
  },
  {
   "cell_type": "markdown",
   "metadata": {},
   "source": [
    "Let's take a look at how the dimensions of the feature maps change with every successive layer:"
   ]
  },
  {
   "cell_type": "code",
   "execution_count": 5,
   "metadata": {},
   "outputs": [
    {
     "name": "stdout",
     "output_type": "stream",
     "text": [
      "_________________________________________________________________\n",
      "Layer (type)                 Output Shape              Param #   \n",
      "=================================================================\n",
      "conv2d_1 (Conv2D)            (None, 148, 148, 32)      320       \n",
      "_________________________________________________________________\n",
      "max_pooling2d_1 (MaxPooling2 (None, 74, 74, 32)        0         \n",
      "_________________________________________________________________\n",
      "conv2d_2 (Conv2D)            (None, 72, 72, 64)        18496     \n",
      "_________________________________________________________________\n",
      "max_pooling2d_2 (MaxPooling2 (None, 36, 36, 64)        0         \n",
      "_________________________________________________________________\n",
      "conv2d_3 (Conv2D)            (None, 34, 34, 128)       73856     \n",
      "_________________________________________________________________\n",
      "max_pooling2d_3 (MaxPooling2 (None, 17, 17, 128)       0         \n",
      "_________________________________________________________________\n",
      "conv2d_4 (Conv2D)            (None, 15, 15, 128)       147584    \n",
      "_________________________________________________________________\n",
      "max_pooling2d_4 (MaxPooling2 (None, 7, 7, 128)         0         \n",
      "_________________________________________________________________\n",
      "flatten_1 (Flatten)          (None, 6272)              0         \n",
      "_________________________________________________________________\n",
      "dropout_1 (Dropout)          (None, 6272)              0         \n",
      "_________________________________________________________________\n",
      "dense_1 (Dense)              (None, 512)               3211776   \n",
      "_________________________________________________________________\n",
      "dense_2 (Dense)              (None, 7)                 3591      \n",
      "=================================================================\n",
      "Total params: 3,455,623\n",
      "Trainable params: 3,455,623\n",
      "Non-trainable params: 0\n",
      "_________________________________________________________________\n"
     ]
    }
   ],
   "source": [
    "model.summary()"
   ]
  },
  {
   "cell_type": "code",
   "execution_count": 6,
   "metadata": {},
   "outputs": [],
   "source": [
    "from keras import optimizers\n",
    "\n",
    "model.compile(loss='categorical_crossentropy',            \n",
    "              optimizer=optimizers.RMSprop(lr=5e-5),                \n",
    "              metrics=['acc'])                         "
   ]
  },
  {
   "cell_type": "markdown",
   "metadata": {},
   "source": [
    "### Data Preprocessing"
   ]
  },
  {
   "cell_type": "code",
   "execution_count": 9,
   "metadata": {},
   "outputs": [],
   "source": [
    "train_dir = \"../../02_Data/06_Test_Train_Val/train\"\n",
    "validation_dir = \"../../02_Data/06_Test_Train_Val/val\""
   ]
  },
  {
   "cell_type": "code",
   "execution_count": 10,
   "metadata": {},
   "outputs": [
    {
     "name": "stdout",
     "output_type": "stream",
     "text": [
      "Found 16269 images belonging to 7 classes.\n",
      "Found 1504 images belonging to 7 classes.\n"
     ]
    }
   ],
   "source": [
    "from keras.preprocessing.image import ImageDataGenerator\n",
    "\n",
    "# All images will be rescaled by 1./255\n",
    "train_datagen = ImageDataGenerator(rescale=1./255)\n",
    "test_datagen = ImageDataGenerator(rescale=1./255)\n",
    "\n",
    "train_generator = train_datagen.flow_from_directory(\n",
    "        # This is the target directory\n",
    "        train_dir,\n",
    "        # All images will be resized to 150x150\n",
    "        target_size=(150, 150),\n",
    "        batch_size=40,\n",
    "        color_mode=\"grayscale\",\n",
    "        # Since we use binary_crossentropy loss, we need binary labels\n",
    "        class_mode='categorical')\n",
    "\n",
    "validation_generator = test_datagen.flow_from_directory(\n",
    "        validation_dir,\n",
    "        target_size=(150, 150),\n",
    "        batch_size=40,\n",
    "        color_mode=\"grayscale\",\n",
    "        class_mode='categorical')"
   ]
  },
  {
   "cell_type": "code",
   "execution_count": 11,
   "metadata": {},
   "outputs": [
    {
     "name": "stdout",
     "output_type": "stream",
     "text": [
      "data batch shape: (40, 150, 150, 1)\n",
      "labels batch shape: (40, 7)\n"
     ]
    }
   ],
   "source": [
    "for data_batch, labels_batch in train_generator:\n",
    "    print('data batch shape:', data_batch.shape)\n",
    "    print('labels batch shape:', labels_batch.shape)\n",
    "    break"
   ]
  },
  {
   "cell_type": "code",
   "execution_count": 12,
   "metadata": {},
   "outputs": [
    {
     "data": {
      "text/plain": [
       "{'com_high': 0,\n",
       " 'com_med': 1,\n",
       " 'ind_high': 2,\n",
       " 'ind_office_med': 3,\n",
       " 'res_high': 4,\n",
       " 'res_low': 5,\n",
       " 'res_med': 6}"
      ]
     },
     "execution_count": 12,
     "metadata": {},
     "output_type": "execute_result"
    }
   ],
   "source": [
    "train_generator.class_indices"
   ]
  },
  {
   "cell_type": "code",
   "execution_count": 14,
   "metadata": {},
   "outputs": [
    {
     "name": "stdout",
     "output_type": "stream",
     "text": [
      "Epoch 1/25\n",
      "100/100 [==============================] - 97s 973ms/step - loss: 1.7659 - acc: 0.2885 - val_loss: 1.5204 - val_acc: 0.4325\n",
      "Epoch 2/25\n",
      "100/100 [==============================] - 93s 935ms/step - loss: 1.5464 - acc: 0.3524 - val_loss: 1.2473 - val_acc: 0.5383\n",
      "Epoch 3/25\n",
      "100/100 [==============================] - 91s 905ms/step - loss: 1.4765 - acc: 0.3862 - val_loss: 1.2122 - val_acc: 0.6363\n",
      "Epoch 4/25\n",
      "100/100 [==============================] - 88s 885ms/step - loss: 1.4549 - acc: 0.3985 - val_loss: 1.2775 - val_acc: 0.5255\n",
      "Epoch 5/25\n",
      "100/100 [==============================] - 88s 876ms/step - loss: 1.4279 - acc: 0.4270 - val_loss: 1.3379 - val_acc: 0.4462\n",
      "Epoch 6/25\n",
      "100/100 [==============================] - 87s 872ms/step - loss: 1.4254 - acc: 0.3979 - val_loss: 1.1255 - val_acc: 0.6301\n",
      "Epoch 7/25\n",
      "100/100 [==============================] - 88s 876ms/step - loss: 1.4053 - acc: 0.4220 - val_loss: 1.3012 - val_acc: 0.5287\n",
      "Epoch 8/25\n",
      "100/100 [==============================] - 87s 866ms/step - loss: 1.3951 - acc: 0.4220 - val_loss: 1.1682 - val_acc: 0.5702\n",
      "Epoch 9/25\n",
      "100/100 [==============================] - 87s 873ms/step - loss: 1.3695 - acc: 0.4360 - val_loss: 1.2594 - val_acc: 0.5363\n",
      "Epoch 10/25\n",
      "100/100 [==============================] - 85s 845ms/step - loss: 1.3664 - acc: 0.4390 - val_loss: 1.3009 - val_acc: 0.4809\n",
      "Epoch 11/25\n",
      "100/100 [==============================] - 84s 843ms/step - loss: 1.3536 - acc: 0.4459 - val_loss: 1.3092 - val_acc: 0.5262\n",
      "Epoch 12/25\n",
      "100/100 [==============================] - 84s 835ms/step - loss: 1.3597 - acc: 0.4400 - val_loss: 1.0825 - val_acc: 0.6224\n",
      "Epoch 13/25\n",
      "100/100 [==============================] - 83s 832ms/step - loss: 1.3459 - acc: 0.4493 - val_loss: 1.0112 - val_acc: 0.6625\n",
      "Epoch 14/25\n",
      "100/100 [==============================] - 85s 851ms/step - loss: 1.3411 - acc: 0.4525 - val_loss: 1.3824 - val_acc: 0.4834\n",
      "Epoch 15/25\n",
      "100/100 [==============================] - 86s 858ms/step - loss: 1.3501 - acc: 0.4462 - val_loss: 1.2186 - val_acc: 0.5400\n",
      "Epoch 16/25\n",
      "100/100 [==============================] - 85s 847ms/step - loss: 1.2888 - acc: 0.4620 - val_loss: 1.1942 - val_acc: 0.5676\n",
      "Epoch 17/25\n",
      "100/100 [==============================] - 92s 922ms/step - loss: 1.3060 - acc: 0.4717 - val_loss: 1.2302 - val_acc: 0.5350\n",
      "Epoch 18/25\n",
      "100/100 [==============================] - 94s 935ms/step - loss: 1.2891 - acc: 0.4650 - val_loss: 1.2512 - val_acc: 0.5077\n",
      "Epoch 19/25\n",
      "100/100 [==============================] - 86s 865ms/step - loss: 1.3060 - acc: 0.4637 - val_loss: 1.1014 - val_acc: 0.6135\n",
      "Epoch 20/25\n",
      "100/100 [==============================] - 85s 849ms/step - loss: 1.2824 - acc: 0.4767 - val_loss: 1.2349 - val_acc: 0.5212\n",
      "Epoch 21/25\n",
      "100/100 [==============================] - 86s 861ms/step - loss: 1.2790 - acc: 0.4755 - val_loss: 1.1894 - val_acc: 0.5587\n",
      "Epoch 22/25\n",
      "100/100 [==============================] - 85s 847ms/step - loss: 1.2467 - acc: 0.4940 - val_loss: 1.0118 - val_acc: 0.6338\n",
      "Epoch 23/25\n",
      "100/100 [==============================] - 84s 845ms/step - loss: 1.2618 - acc: 0.4852 - val_loss: 1.2201 - val_acc: 0.5204\n",
      "Epoch 24/25\n",
      "100/100 [==============================] - 85s 847ms/step - loss: 1.2676 - acc: 0.4872 - val_loss: 1.0235 - val_acc: 0.6375\n",
      "Epoch 25/25\n",
      "100/100 [==============================] - 85s 850ms/step - loss: 1.2461 - acc: 0.4930 - val_loss: 1.0752 - val_acc: 0.6122\n"
     ]
    }
   ],
   "source": [
    "history = model.fit_generator(\n",
    "      train_generator,\n",
    "      steps_per_epoch=100,\n",
    "      epochs=25, \n",
    "      validation_data=validation_generator,\n",
    "      validation_steps=20)"
   ]
  },
  {
   "cell_type": "markdown",
   "metadata": {},
   "source": [
    "Trained 5 Models and saved in sequence"
   ]
  },
  {
   "cell_type": "code",
   "execution_count": 15,
   "metadata": {},
   "outputs": [],
   "source": [
    "model.save('las_vegas_CNN_Trained_12_Layers_Final_v5.h5')"
   ]
  },
  {
   "cell_type": "markdown",
   "metadata": {},
   "source": [
    "Loss and Accuracy of the model over the training and validation data during training:"
   ]
  },
  {
   "cell_type": "code",
   "execution_count": 17,
   "metadata": {},
   "outputs": [
    {
     "data": {
      "image/png": "[encoded data removed]",
      "text/plain": [
       "<Figure size 432x288 with 1 Axes>"
      ]
     },
     "metadata": {},
     "output_type": "display_data"
    },
    {
     "data": {
      "image/png": "[encoded data removed]",
      "text/plain": [
       "<Figure size 432x288 with 1 Axes>"
      ]
     },
     "metadata": {},
     "output_type": "display_data"
    }
   ],
   "source": [
    "import matplotlib.pyplot as plt\n",
    "\n",
    "acc = history.history['acc']\n",
    "val_acc = history.history['val_acc']\n",
    "loss = history.history['loss']\n",
    "val_loss = history.history['val_loss']\n",
    "\n",
    "epochs = range(len(acc))\n",
    "\n",
    "plt.plot(epochs, acc, 'bo', label='Training acc')\n",
    "plt.plot(epochs, val_acc, 'b', label='Validation acc')\n",
    "plt.title('Training and validation accuracy')\n",
    "plt.legend()\n",
    "\n",
    "plt.figure()\n",
    "\n",
    "plt.plot(epochs, loss, 'bo', label='Training loss')\n",
    "plt.plot(epochs, val_loss, 'b', label='Validation loss')\n",
    "plt.title('Training and validation loss')\n",
    "plt.legend()\n",
    "\n",
    "plt.show()"
   ]
  }
 ],
 "metadata": {
  "kernelspec": {
   "display_name": "Python 3",
   "language": "python",
   "name": "python3"
  },
  "language_info": {
   "codemirror_mode": {
    "name": "ipython",
    "version": 3
   },
   "file_extension": ".py",
   "mimetype": "text/x-python",
   "name": "python",
   "nbconvert_exporter": "python",
   "pygments_lexer": "ipython3",
   "version": "3.6.5"
  }
 },
 "nbformat": 4,
 "nbformat_minor": 2
}

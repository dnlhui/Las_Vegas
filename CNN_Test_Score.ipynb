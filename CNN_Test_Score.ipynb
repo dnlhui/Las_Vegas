{
 "cells": [
  {
   "cell_type": "code",
   "execution_count": 1,
   "metadata": {},
   "outputs": [
    {
     "name": "stderr",
     "output_type": "stream",
     "text": [
      "Using TensorFlow backend.\n"
     ]
    }
   ],
   "source": [
    "import keras\n",
    "from keras.models import load_model\n",
    "\n",
    "import cv2\n",
    "import numpy as np\n",
    "import pandas as pd\n",
    "\n",
    "from __future__ import division\n",
    "import os, os.path\n",
    "from collections import defaultdict"
   ]
  },
  {
   "cell_type": "markdown",
   "metadata": {},
   "source": [
    "### Load Test Set Images & Turn into DataFrame"
   ]
  },
  {
   "cell_type": "code",
   "execution_count": 2,
   "metadata": {},
   "outputs": [],
   "source": [
    "main_path = \"../../02_Data/06_Test_Train_Val/test\"\n",
    "image_dict = defaultdict()\n",
    "\n",
    "val_path, val_dirs, val_files = next(os.walk(main_path))\n",
    "for zoning_type in val_dirs:\n",
    "    zoning_path, zoning_dirs, zoning_files = next(os.walk(main_path + \"/\" + zoning_type))\n",
    "    for file in zoning_files:\n",
    "        key = int(file[-10:-4])\n",
    "        total_path = zoning_path + \"/\" + file\n",
    "        image_dict[key] = [zoning_type,total_path]"
   ]
  },
  {
   "cell_type": "code",
   "execution_count": 3,
   "metadata": {},
   "outputs": [
    {
     "data": {
      "text/html": [
       "<div>\n",
       "<style scoped>\n",
       "    .dataframe tbody tr th:only-of-type {\n",
       "        vertical-align: middle;\n",
       "    }\n",
       "\n",
       "    .dataframe tbody tr th {\n",
       "        vertical-align: top;\n",
       "    }\n",
       "\n",
       "    .dataframe thead th {\n",
       "        text-align: right;\n",
       "    }\n",
       "</style>\n",
       "<table border=\"1\" class=\"dataframe\">\n",
       "  <thead>\n",
       "    <tr style=\"text-align: right;\">\n",
       "      <th></th>\n",
       "      <th>zoning</th>\n",
       "      <th>filepath</th>\n",
       "    </tr>\n",
       "  </thead>\n",
       "  <tbody>\n",
       "    <tr>\n",
       "      <th>134072</th>\n",
       "      <td>res_high</td>\n",
       "      <td>../../02_Data/06_Test_Train_Val/test/res_high/...</td>\n",
       "    </tr>\n",
       "    <tr>\n",
       "      <th>162181</th>\n",
       "      <td>res_high</td>\n",
       "      <td>../../02_Data/06_Test_Train_Val/test/res_high/...</td>\n",
       "    </tr>\n",
       "    <tr>\n",
       "      <th>134113</th>\n",
       "      <td>res_high</td>\n",
       "      <td>../../02_Data/06_Test_Train_Val/test/res_high/...</td>\n",
       "    </tr>\n",
       "    <tr>\n",
       "      <th>187130</th>\n",
       "      <td>res_high</td>\n",
       "      <td>../../02_Data/06_Test_Train_Val/test/res_high/...</td>\n",
       "    </tr>\n",
       "    <tr>\n",
       "      <th>128076</th>\n",
       "      <td>res_high</td>\n",
       "      <td>../../02_Data/06_Test_Train_Val/test/res_high/...</td>\n",
       "    </tr>\n",
       "  </tbody>\n",
       "</table>\n",
       "</div>"
      ],
      "text/plain": [
       "          zoning                                           filepath\n",
       "134072  res_high  ../../02_Data/06_Test_Train_Val/test/res_high/...\n",
       "162181  res_high  ../../02_Data/06_Test_Train_Val/test/res_high/...\n",
       "134113  res_high  ../../02_Data/06_Test_Train_Val/test/res_high/...\n",
       "187130  res_high  ../../02_Data/06_Test_Train_Val/test/res_high/...\n",
       "128076  res_high  ../../02_Data/06_Test_Train_Val/test/res_high/..."
      ]
     },
     "execution_count": 3,
     "metadata": {},
     "output_type": "execute_result"
    }
   ],
   "source": [
    "image_df = pd.DataFrame.from_dict(image_dict,orient='index')\n",
    "image_df.columns = [\"zoning\",\"filepath\"]\n",
    "image_df.head()"
   ]
  },
  {
   "cell_type": "markdown",
   "metadata": {},
   "source": [
    "### Load Final CNN Models for Ensembling"
   ]
  },
  {
   "cell_type": "code",
   "execution_count": 4,
   "metadata": {},
   "outputs": [],
   "source": [
    "CNN_model_1 = load_model('../../06_Jupyter_Notebooks/01_Models/las_vegas_CNN_Trained_12_Layers_Final_v1.h5')\n",
    "CNN_model_2 = load_model('../../06_Jupyter_Notebooks/01_Models/las_vegas_CNN_Trained_12_Layers_Final_v2.h5')\n",
    "CNN_model_3 = load_model('../../06_Jupyter_Notebooks/01_Models/las_vegas_CNN_Trained_12_Layers_Final_v3.h5')\n",
    "CNN_model_4 = load_model('../../06_Jupyter_Notebooks/01_Models/las_vegas_CNN_Trained_12_Layers_Final_v4.h5')\n",
    "CNN_model_5 = load_model('../../06_Jupyter_Notebooks/01_Models/las_vegas_CNN_Trained_12_Layers_Final_v5.h5')"
   ]
  },
  {
   "cell_type": "code",
   "execution_count": 5,
   "metadata": {},
   "outputs": [],
   "source": [
    "CNN_models = [CNN_model_1, CNN_model_2, CNN_model_3, CNN_model_4, CNN_model_5]"
   ]
  },
  {
   "cell_type": "markdown",
   "metadata": {},
   "source": [
    "### Zoning Dictionary"
   ]
  },
  {
   "cell_type": "code",
   "execution_count": 6,
   "metadata": {},
   "outputs": [],
   "source": [
    "zoning_types = list(np.sort(val_dirs))   # the directories are the zoning type classifications\n",
    "                                         # which I copied from the notebook \"05_Modelling_CNN_Scratch\"\n",
    "                                         # from the code: train_generator.class_indices"
   ]
  },
  {
   "cell_type": "markdown",
   "metadata": {},
   "source": [
    "### Prediction Function - Single CNN Model"
   ]
  },
  {
   "cell_type": "code",
   "execution_count": 7,
   "metadata": {},
   "outputs": [],
   "source": [
    "def CNN_predict(row, model):\n",
    "    img = cv2.imread(row, cv2.IMREAD_GRAYSCALE)\n",
    "    img = cv2.resize(img, dsize=(150, 150))                                     # resize image to 150 for processing \n",
    "    img_array = np.array(img)\n",
    "    img_array = img_array.reshape(1,img_array.shape[0],img_array.shape[1],1)\n",
    "    return np.round(model.predict(img_array),3)"
   ]
  },
  {
   "cell_type": "markdown",
   "metadata": {},
   "source": [
    "### Prediction Function - Ensembled CNN Models"
   ]
  },
  {
   "cell_type": "code",
   "execution_count": 8,
   "metadata": {},
   "outputs": [],
   "source": [
    "def CNN_ensemble_predict(row, model_list):\n",
    "    predict_ensemble = np.zeros((1,7))\n",
    "    for m in model_list:                                          # randomness to help break ties\n",
    "        predict_ensemble = predict_ensemble + CNN_predict(row, m) * np.random.uniform(.95,1.05)  \n",
    "    predict_ensemble = predict_ensemble / len(model_list)         # divide by number of models\n",
    "    return np.round(predict_ensemble,3)"
   ]
  },
  {
   "cell_type": "markdown",
   "metadata": {},
   "source": [
    "### Run the Prediction on the Test Set"
   ]
  },
  {
   "cell_type": "code",
   "execution_count": 9,
   "metadata": {},
   "outputs": [],
   "source": [
    "image_df[\"CNN_ens\"] = image_df[\"filepath\"].apply(CNN_ensemble_predict, model_list= CNN_models)"
   ]
  },
  {
   "cell_type": "markdown",
   "metadata": {},
   "source": [
    "### Get Zoning Type Function"
   ]
  },
  {
   "cell_type": "code",
   "execution_count": 10,
   "metadata": {},
   "outputs": [],
   "source": [
    "def get_zoning(row):\n",
    "    index = np.argmax(row)\n",
    "    return zoning_types[index]"
   ]
  },
  {
   "cell_type": "code",
   "execution_count": 11,
   "metadata": {},
   "outputs": [],
   "source": [
    "image_df[\"CNN_ens_zoning\"] = image_df[\"CNN_ens\"].apply(get_zoning)"
   ]
  },
  {
   "cell_type": "code",
   "execution_count": 12,
   "metadata": {},
   "outputs": [
    {
     "data": {
      "text/html": [
       "<div>\n",
       "<style scoped>\n",
       "    .dataframe tbody tr th:only-of-type {\n",
       "        vertical-align: middle;\n",
       "    }\n",
       "\n",
       "    .dataframe tbody tr th {\n",
       "        vertical-align: top;\n",
       "    }\n",
       "\n",
       "    .dataframe thead th {\n",
       "        text-align: right;\n",
       "    }\n",
       "</style>\n",
       "<table border=\"1\" class=\"dataframe\">\n",
       "  <thead>\n",
       "    <tr style=\"text-align: right;\">\n",
       "      <th></th>\n",
       "      <th>zoning</th>\n",
       "      <th>filepath</th>\n",
       "      <th>CNN_ens</th>\n",
       "      <th>CNN_ens_zoning</th>\n",
       "    </tr>\n",
       "  </thead>\n",
       "  <tbody>\n",
       "    <tr>\n",
       "      <th>134072</th>\n",
       "      <td>res_high</td>\n",
       "      <td>../../02_Data/06_Test_Train_Val/test/res_high/...</td>\n",
       "      <td>[[0.0, 0.0, 0.0, 0.0, 0.996, 0.0, 0.0]]</td>\n",
       "      <td>res_high</td>\n",
       "    </tr>\n",
       "    <tr>\n",
       "      <th>162181</th>\n",
       "      <td>res_high</td>\n",
       "      <td>../../02_Data/06_Test_Train_Val/test/res_high/...</td>\n",
       "      <td>[[0.0, 0.391, 0.0, 0.0, 0.389, 0.202, 0.0]]</td>\n",
       "      <td>com_med</td>\n",
       "    </tr>\n",
       "    <tr>\n",
       "      <th>134113</th>\n",
       "      <td>res_high</td>\n",
       "      <td>../../02_Data/06_Test_Train_Val/test/res_high/...</td>\n",
       "      <td>[[0.0, 0.211, 0.0, 0.0, 0.615, 0.194, 0.0]]</td>\n",
       "      <td>res_high</td>\n",
       "    </tr>\n",
       "    <tr>\n",
       "      <th>187130</th>\n",
       "      <td>res_high</td>\n",
       "      <td>../../02_Data/06_Test_Train_Val/test/res_high/...</td>\n",
       "      <td>[[0.0, 0.0, 0.0, 0.0, 0.0, 0.988, 0.0]]</td>\n",
       "      <td>res_low</td>\n",
       "    </tr>\n",
       "    <tr>\n",
       "      <th>128076</th>\n",
       "      <td>res_high</td>\n",
       "      <td>../../02_Data/06_Test_Train_Val/test/res_high/...</td>\n",
       "      <td>[[0.0, 0.205, 0.0, 0.0, 0.206, 0.61, 0.0]]</td>\n",
       "      <td>res_low</td>\n",
       "    </tr>\n",
       "    <tr>\n",
       "      <th>179173</th>\n",
       "      <td>res_high</td>\n",
       "      <td>../../02_Data/06_Test_Train_Val/test/res_high/...</td>\n",
       "      <td>[[0.0, 0.0, 0.0, 0.0, 1.005, 0.0, 0.0]]</td>\n",
       "      <td>res_high</td>\n",
       "    </tr>\n",
       "    <tr>\n",
       "      <th>131121</th>\n",
       "      <td>res_high</td>\n",
       "      <td>../../02_Data/06_Test_Train_Val/test/res_high/...</td>\n",
       "      <td>[[0.0, 0.0, 0.0, 0.0, 0.984, 0.0, 0.0]]</td>\n",
       "      <td>res_high</td>\n",
       "    </tr>\n",
       "    <tr>\n",
       "      <th>172151</th>\n",
       "      <td>res_high</td>\n",
       "      <td>../../02_Data/06_Test_Train_Val/test/res_high/...</td>\n",
       "      <td>[[0.0, 0.0, 0.0, 0.0, 0.0, 1.004, 0.0]]</td>\n",
       "      <td>res_low</td>\n",
       "    </tr>\n",
       "    <tr>\n",
       "      <th>178118</th>\n",
       "      <td>res_high</td>\n",
       "      <td>../../02_Data/06_Test_Train_Val/test/res_high/...</td>\n",
       "      <td>[[0.0, 0.999, 0.0, 0.0, 0.0, 0.0, 0.0]]</td>\n",
       "      <td>com_med</td>\n",
       "    </tr>\n",
       "    <tr>\n",
       "      <th>64119</th>\n",
       "      <td>res_high</td>\n",
       "      <td>../../02_Data/06_Test_Train_Val/test/res_high/...</td>\n",
       "      <td>[[0.0, 0.0, 0.0, 0.0, 0.0, 1.003, 0.0]]</td>\n",
       "      <td>res_low</td>\n",
       "    </tr>\n",
       "  </tbody>\n",
       "</table>\n",
       "</div>"
      ],
      "text/plain": [
       "          zoning                                           filepath  \\\n",
       "134072  res_high  ../../02_Data/06_Test_Train_Val/test/res_high/...   \n",
       "162181  res_high  ../../02_Data/06_Test_Train_Val/test/res_high/...   \n",
       "134113  res_high  ../../02_Data/06_Test_Train_Val/test/res_high/...   \n",
       "187130  res_high  ../../02_Data/06_Test_Train_Val/test/res_high/...   \n",
       "128076  res_high  ../../02_Data/06_Test_Train_Val/test/res_high/...   \n",
       "179173  res_high  ../../02_Data/06_Test_Train_Val/test/res_high/...   \n",
       "131121  res_high  ../../02_Data/06_Test_Train_Val/test/res_high/...   \n",
       "172151  res_high  ../../02_Data/06_Test_Train_Val/test/res_high/...   \n",
       "178118  res_high  ../../02_Data/06_Test_Train_Val/test/res_high/...   \n",
       "64119   res_high  ../../02_Data/06_Test_Train_Val/test/res_high/...   \n",
       "\n",
       "                                            CNN_ens CNN_ens_zoning  \n",
       "134072      [[0.0, 0.0, 0.0, 0.0, 0.996, 0.0, 0.0]]       res_high  \n",
       "162181  [[0.0, 0.391, 0.0, 0.0, 0.389, 0.202, 0.0]]        com_med  \n",
       "134113  [[0.0, 0.211, 0.0, 0.0, 0.615, 0.194, 0.0]]       res_high  \n",
       "187130      [[0.0, 0.0, 0.0, 0.0, 0.0, 0.988, 0.0]]        res_low  \n",
       "128076   [[0.0, 0.205, 0.0, 0.0, 0.206, 0.61, 0.0]]        res_low  \n",
       "179173      [[0.0, 0.0, 0.0, 0.0, 1.005, 0.0, 0.0]]       res_high  \n",
       "131121      [[0.0, 0.0, 0.0, 0.0, 0.984, 0.0, 0.0]]       res_high  \n",
       "172151      [[0.0, 0.0, 0.0, 0.0, 0.0, 1.004, 0.0]]        res_low  \n",
       "178118      [[0.0, 0.999, 0.0, 0.0, 0.0, 0.0, 0.0]]        com_med  \n",
       "64119       [[0.0, 0.0, 0.0, 0.0, 0.0, 1.003, 0.0]]        res_low  "
      ]
     },
     "execution_count": 12,
     "metadata": {},
     "output_type": "execute_result"
    }
   ],
   "source": [
    "image_df.head(10)"
   ]
  },
  {
   "cell_type": "markdown",
   "metadata": {},
   "source": [
    "### EDA On the Predictions"
   ]
  },
  {
   "cell_type": "markdown",
   "metadata": {},
   "source": [
    "Types of zoning getting predicted. Notable that High Industrial is not being predicted"
   ]
  },
  {
   "cell_type": "code",
   "execution_count": 13,
   "metadata": {},
   "outputs": [],
   "source": [
    "predict = \"CNN_ens_zoning\""
   ]
  },
  {
   "cell_type": "code",
   "execution_count": 14,
   "metadata": {},
   "outputs": [
    {
     "data": {
      "text/plain": [
       "1504"
      ]
     },
     "execution_count": 14,
     "metadata": {},
     "output_type": "execute_result"
    }
   ],
   "source": [
    "len(image_df[\"zoning\"])"
   ]
  },
  {
   "cell_type": "code",
   "execution_count": 16,
   "metadata": {},
   "outputs": [
    {
     "data": {
      "text/plain": [
       "res_low           874\n",
       "ind_office_med    178\n",
       "res_high          171\n",
       "ind_high          139\n",
       "com_med           118\n",
       "res_med            21\n",
       "com_high            3\n",
       "Name: CNN_ens_zoning, dtype: int64"
      ]
     },
     "execution_count": 16,
     "metadata": {},
     "output_type": "execute_result"
    }
   ],
   "source": [
    "image_df[predict].value_counts()"
   ]
  },
  {
   "cell_type": "markdown",
   "metadata": {},
   "source": [
    "Predictions for res_low"
   ]
  },
  {
   "cell_type": "code",
   "execution_count": 17,
   "metadata": {},
   "outputs": [
    {
     "data": {
      "text/plain": [
       "res_low           778\n",
       "res_high           72\n",
       "com_med            43\n",
       "ind_high           22\n",
       "res_med            16\n",
       "ind_office_med     14\n",
       "Name: CNN_ens_zoning, dtype: int64"
      ]
     },
     "execution_count": 17,
     "metadata": {},
     "output_type": "execute_result"
    }
   ],
   "source": [
    "image_df[image_df[\"zoning\"]==\"res_low\"][predict].value_counts()"
   ]
  },
  {
   "cell_type": "markdown",
   "metadata": {},
   "source": [
    "Predictions for res_med"
   ]
  },
  {
   "cell_type": "code",
   "execution_count": 18,
   "metadata": {},
   "outputs": [
    {
     "data": {
      "text/plain": [
       "res_low     68\n",
       "res_high    19\n",
       "res_med      2\n",
       "com_med      1\n",
       "Name: CNN_ens_zoning, dtype: int64"
      ]
     },
     "execution_count": 18,
     "metadata": {},
     "output_type": "execute_result"
    }
   ],
   "source": [
    "image_df[image_df[\"zoning\"]==\"res_med\"][predict].value_counts()"
   ]
  },
  {
   "cell_type": "markdown",
   "metadata": {},
   "source": [
    "Predictions for res_high"
   ]
  },
  {
   "cell_type": "code",
   "execution_count": 19,
   "metadata": {},
   "outputs": [
    {
     "data": {
      "text/plain": [
       "res_high          56\n",
       "res_low           15\n",
       "com_med           12\n",
       "ind_office_med     5\n",
       "ind_high           1\n",
       "res_med            1\n",
       "Name: CNN_ens_zoning, dtype: int64"
      ]
     },
     "execution_count": 19,
     "metadata": {},
     "output_type": "execute_result"
    }
   ],
   "source": [
    "image_df[image_df[\"zoning\"]==\"res_high\"][predict].value_counts()"
   ]
  },
  {
   "cell_type": "markdown",
   "metadata": {},
   "source": [
    "Predictions for com_med"
   ]
  },
  {
   "cell_type": "code",
   "execution_count": 20,
   "metadata": {},
   "outputs": [
    {
     "data": {
      "text/plain": [
       "ind_office_med    53\n",
       "ind_high          43\n",
       "com_med           32\n",
       "res_low           11\n",
       "res_high          10\n",
       "Name: CNN_ens_zoning, dtype: int64"
      ]
     },
     "execution_count": 20,
     "metadata": {},
     "output_type": "execute_result"
    }
   ],
   "source": [
    "image_df[image_df[\"zoning\"]==\"com_med\"][predict].value_counts()"
   ]
  },
  {
   "cell_type": "markdown",
   "metadata": {},
   "source": [
    "Predictions for com_high"
   ]
  },
  {
   "cell_type": "code",
   "execution_count": 21,
   "metadata": {},
   "outputs": [
    {
     "data": {
      "text/plain": [
       "ind_office_med    31\n",
       "ind_high          21\n",
       "res_high           9\n",
       "com_med            8\n",
       "com_high           3\n",
       "Name: CNN_ens_zoning, dtype: int64"
      ]
     },
     "execution_count": 21,
     "metadata": {},
     "output_type": "execute_result"
    }
   ],
   "source": [
    "image_df[image_df[\"zoning\"]==\"com_high\"][predict].value_counts()"
   ]
  },
  {
   "cell_type": "markdown",
   "metadata": {},
   "source": [
    "Predictions for ind_office_med"
   ]
  },
  {
   "cell_type": "code",
   "execution_count": 22,
   "metadata": {},
   "outputs": [
    {
     "data": {
      "text/plain": [
       "ind_office_med    38\n",
       "ind_high          27\n",
       "com_med           16\n",
       "res_low            2\n",
       "res_med            1\n",
       "Name: CNN_ens_zoning, dtype: int64"
      ]
     },
     "execution_count": 22,
     "metadata": {},
     "output_type": "execute_result"
    }
   ],
   "source": [
    "image_df[image_df[\"zoning\"]=='ind_office_med'][predict].value_counts()"
   ]
  },
  {
   "cell_type": "markdown",
   "metadata": {},
   "source": [
    "Predictions for ind_high"
   ]
  },
  {
   "cell_type": "code",
   "execution_count": 23,
   "metadata": {},
   "outputs": [
    {
     "data": {
      "text/plain": [
       "ind_office_med    37\n",
       "ind_high          25\n",
       "com_med            6\n",
       "res_high           5\n",
       "res_med            1\n",
       "Name: CNN_ens_zoning, dtype: int64"
      ]
     },
     "execution_count": 23,
     "metadata": {},
     "output_type": "execute_result"
    }
   ],
   "source": [
    "image_df[image_df[\"zoning\"]==\"ind_high\"][predict].value_counts()"
   ]
  },
  {
   "cell_type": "markdown",
   "metadata": {},
   "source": [
    "### Scoring Test Predictions"
   ]
  },
  {
   "cell_type": "code",
   "execution_count": 24,
   "metadata": {},
   "outputs": [],
   "source": [
    "from sklearn.metrics import confusion_matrix\n",
    "from sklearn.metrics import accuracy_score\n",
    "from sklearn.metrics import precision_score\n",
    "from sklearn.metrics import recall_score\n",
    "from sklearn.metrics import f1_score"
   ]
  },
  {
   "cell_type": "code",
   "execution_count": 25,
   "metadata": {},
   "outputs": [],
   "source": [
    "y_val = image_df[\"zoning\"]\n",
    "predict_list = [\"CNN_ens_zoning\"]\n",
    "\n",
    "predict_scores = defaultdict()\n",
    "\n",
    "for predict_type in predict_list:\n",
    "    y_pred = image_df[predict_type]\n",
    "    predict_scores[predict_type] = [accuracy_score(y_val, y_pred),\n",
    "                                    precision_score(y_val, y_pred, average=\"weighted\"),\n",
    "                                    recall_score(y_val, y_pred, average=\"weighted\"),\n",
    "                                    f1_score(y_val, y_pred, average=\"weighted\")]"
   ]
  },
  {
   "cell_type": "code",
   "execution_count": 26,
   "metadata": {},
   "outputs": [
    {
     "data": {
      "text/html": [
       "<div>\n",
       "<style scoped>\n",
       "    .dataframe tbody tr th:only-of-type {\n",
       "        vertical-align: middle;\n",
       "    }\n",
       "\n",
       "    .dataframe tbody tr th {\n",
       "        vertical-align: top;\n",
       "    }\n",
       "\n",
       "    .dataframe thead th {\n",
       "        text-align: right;\n",
       "    }\n",
       "</style>\n",
       "<table border=\"1\" class=\"dataframe\">\n",
       "  <thead>\n",
       "    <tr style=\"text-align: right;\">\n",
       "      <th></th>\n",
       "      <th>accuracy</th>\n",
       "      <th>precision</th>\n",
       "      <th>recall</th>\n",
       "      <th>f1</th>\n",
       "    </tr>\n",
       "  </thead>\n",
       "  <tbody>\n",
       "    <tr>\n",
       "      <th>CNN_ens_zoning</th>\n",
       "      <td>0.621011</td>\n",
       "      <td>0.680116</td>\n",
       "      <td>0.621011</td>\n",
       "      <td>0.620641</td>\n",
       "    </tr>\n",
       "  </tbody>\n",
       "</table>\n",
       "</div>"
      ],
      "text/plain": [
       "                accuracy  precision    recall        f1\n",
       "CNN_ens_zoning  0.621011   0.680116  0.621011  0.620641"
      ]
     },
     "execution_count": 26,
     "metadata": {},
     "output_type": "execute_result"
    }
   ],
   "source": [
    "predict_scores_df = pd.DataFrame.from_dict(predict_scores,orient='index')\n",
    "predict_scores_df.columns = [\"accuracy\",\"precision\",\"recall\",\"f1\"]\n",
    "predict_scores_df"
   ]
  },
  {
   "cell_type": "code",
   "execution_count": 27,
   "metadata": {},
   "outputs": [
    {
     "data": {
      "text/plain": [
       "res_low           945\n",
       "com_med           149\n",
       "res_high           90\n",
       "res_med            90\n",
       "ind_office_med     84\n",
       "ind_high           74\n",
       "com_high           72\n",
       "Name: zoning, dtype: int64"
      ]
     },
     "execution_count": 27,
     "metadata": {},
     "output_type": "execute_result"
    }
   ],
   "source": [
    "image_df[\"zoning\"].value_counts()"
   ]
  },
  {
   "cell_type": "code",
   "execution_count": 28,
   "metadata": {},
   "outputs": [
    {
     "data": {
      "text/plain": [
       "['com_high',\n",
       " 'com_med',\n",
       " 'ind_high',\n",
       " 'ind_office_med',\n",
       " 'res_high',\n",
       " 'res_low',\n",
       " 'res_med']"
      ]
     },
     "execution_count": 28,
     "metadata": {},
     "output_type": "execute_result"
    }
   ],
   "source": [
    "list(np.sort(image_df[\"zoning\"].unique()))"
   ]
  },
  {
   "cell_type": "code",
   "execution_count": 29,
   "metadata": {},
   "outputs": [],
   "source": [
    "y_val = image_df[\"zoning\"]\n",
    "\n",
    "predict_scores = defaultdict()\n",
    "\n",
    "for predict_type in predict_list:\n",
    "    y_pred = image_df[predict_type]\n",
    "    predict_scores[\"01_\" + predict_type + \"_accuracy\"] = [np.round(accuracy_score(y_val, y_pred),2)] * len(zoning_types)\n",
    "    predict_scores[\"02_\" + predict_type + \"_precision\"] = list(np.round(precision_score(y_val, y_pred, average=None),2))\n",
    "    predict_scores[\"03_\" + predict_type + \"_recall\"] = list(np.round(recall_score(y_val, y_pred, average=None),2))   \n",
    "    predict_scores[\"04_\" + predict_type + \"_f1\"] = list(np.round(f1_score(y_val, y_pred, average=None),2))"
   ]
  },
  {
   "cell_type": "code",
   "execution_count": 30,
   "metadata": {},
   "outputs": [
    {
     "data": {
      "text/html": [
       "<div>\n",
       "<style scoped>\n",
       "    .dataframe tbody tr th:only-of-type {\n",
       "        vertical-align: middle;\n",
       "    }\n",
       "\n",
       "    .dataframe tbody tr th {\n",
       "        vertical-align: top;\n",
       "    }\n",
       "\n",
       "    .dataframe thead th {\n",
       "        text-align: right;\n",
       "    }\n",
       "</style>\n",
       "<table border=\"1\" class=\"dataframe\">\n",
       "  <thead>\n",
       "    <tr style=\"text-align: right;\">\n",
       "      <th></th>\n",
       "      <th>com_high</th>\n",
       "      <th>com_med</th>\n",
       "      <th>ind_high</th>\n",
       "      <th>ind_office_med</th>\n",
       "      <th>res_high</th>\n",
       "      <th>res_low</th>\n",
       "      <th>res_med</th>\n",
       "    </tr>\n",
       "  </thead>\n",
       "  <tbody>\n",
       "    <tr>\n",
       "      <th>01_CNN_ens_zoning_accuracy</th>\n",
       "      <td>0.62</td>\n",
       "      <td>0.62</td>\n",
       "      <td>0.62</td>\n",
       "      <td>0.62</td>\n",
       "      <td>0.62</td>\n",
       "      <td>0.62</td>\n",
       "      <td>0.62</td>\n",
       "    </tr>\n",
       "    <tr>\n",
       "      <th>02_CNN_ens_zoning_precision</th>\n",
       "      <td>1.00</td>\n",
       "      <td>0.27</td>\n",
       "      <td>0.18</td>\n",
       "      <td>0.21</td>\n",
       "      <td>0.33</td>\n",
       "      <td>0.89</td>\n",
       "      <td>0.10</td>\n",
       "    </tr>\n",
       "    <tr>\n",
       "      <th>03_CNN_ens_zoning_recall</th>\n",
       "      <td>0.04</td>\n",
       "      <td>0.21</td>\n",
       "      <td>0.34</td>\n",
       "      <td>0.45</td>\n",
       "      <td>0.62</td>\n",
       "      <td>0.82</td>\n",
       "      <td>0.02</td>\n",
       "    </tr>\n",
       "    <tr>\n",
       "      <th>04_CNN_ens_zoning_f1</th>\n",
       "      <td>0.08</td>\n",
       "      <td>0.24</td>\n",
       "      <td>0.23</td>\n",
       "      <td>0.29</td>\n",
       "      <td>0.43</td>\n",
       "      <td>0.86</td>\n",
       "      <td>0.04</td>\n",
       "    </tr>\n",
       "  </tbody>\n",
       "</table>\n",
       "</div>"
      ],
      "text/plain": [
       "                             com_high  com_med  ind_high  ind_office_med  \\\n",
       "01_CNN_ens_zoning_accuracy       0.62     0.62      0.62            0.62   \n",
       "02_CNN_ens_zoning_precision      1.00     0.27      0.18            0.21   \n",
       "03_CNN_ens_zoning_recall         0.04     0.21      0.34            0.45   \n",
       "04_CNN_ens_zoning_f1             0.08     0.24      0.23            0.29   \n",
       "\n",
       "                             res_high  res_low  res_med  \n",
       "01_CNN_ens_zoning_accuracy       0.62     0.62     0.62  \n",
       "02_CNN_ens_zoning_precision      0.33     0.89     0.10  \n",
       "03_CNN_ens_zoning_recall         0.62     0.82     0.02  \n",
       "04_CNN_ens_zoning_f1             0.43     0.86     0.04  "
      ]
     },
     "execution_count": 30,
     "metadata": {},
     "output_type": "execute_result"
    }
   ],
   "source": [
    "predict_scores_df = pd.DataFrame.from_dict(predict_scores,orient='index')\n",
    "predict_scores_df.columns=zoning_types\n",
    "predict_scores_df.sort_index()"
   ]
  }
 ],
 "metadata": {
  "kernelspec": {
   "display_name": "Python 3",
   "language": "python",
   "name": "python3"
  },
  "language_info": {
   "codemirror_mode": {
    "name": "ipython",
    "version": 3
   },
   "file_extension": ".py",
   "mimetype": "text/x-python",
   "name": "python",
   "nbconvert_exporter": "python",
   "pygments_lexer": "ipython3",
   "version": "3.6.5"
  }
 },
 "nbformat": 4,
 "nbformat_minor": 2
}

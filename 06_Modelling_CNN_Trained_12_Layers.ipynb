{
 "cells": [
  {
   "cell_type": "code",
   "execution_count": 290,
   "metadata": {},
   "outputs": [
    {
     "data": {
      "text/plain": [
       "'2.2.4'"
      ]
     },
     "execution_count": 290,
     "metadata": {},
     "output_type": "execute_result"
    }
   ],
   "source": [
    "import keras\n",
    "keras.__version__"
   ]
  },
  {
   "cell_type": "code",
   "execution_count": 291,
   "metadata": {},
   "outputs": [],
   "source": [
    "import os, shutil, os.path"
   ]
  },
  {
   "cell_type": "markdown",
   "metadata": {},
   "source": [
    "### How Many Files in Each Set?"
   ]
  },
  {
   "cell_type": "code",
   "execution_count": 313,
   "metadata": {},
   "outputs": [],
   "source": [
    "zoning_type_list = [\"com_high\",\"com_med\",\"ind_high\",\"ind_office_med\",\"res_high\",\"res_low\",\"res_med\"]\n",
    "data_list = [\"train\", \"val\", \"test\"]\n",
    "path = \"../02_Data/06_Test_Train_Val\""
   ]
  },
  {
   "cell_type": "code",
   "execution_count": 314,
   "metadata": {},
   "outputs": [
    {
     "name": "stdout",
     "output_type": "stream",
     "text": [
      "train 1728 com_high\n",
      "train 1788 com_med\n",
      "train 1784 ind_high\n",
      "train 2024 ind_office_med\n",
      "train 2160 res_high\n",
      "train 2837 res_low\n",
      "train 2160 res_med\n",
      "val 72 com_high\n",
      "val 149 com_med\n",
      "val 74 ind_high\n",
      "val 84 ind_office_med\n",
      "val 90 res_high\n",
      "val 945 res_low\n",
      "val 90 res_med\n",
      "test 72 com_high\n",
      "test 149 com_med\n",
      "test 74 ind_high\n",
      "test 84 ind_office_med\n",
      "test 90 res_high\n",
      "test 945 res_low\n",
      "test 90 res_med\n"
     ]
    }
   ],
   "source": [
    "for data in data_list:\n",
    "    for zoning in zoning_type_list:\n",
    "        pathway = path + f\"/{data}/{zoning}\"\n",
    "        file_count = len(os.listdir(pathway))\n",
    "        print(data, file_count, zoning)"
   ]
  },
  {
   "cell_type": "markdown",
   "metadata": {},
   "source": [
    "### Building The Network"
   ]
  },
  {
   "cell_type": "code",
   "execution_count": 324,
   "metadata": {},
   "outputs": [],
   "source": [
    "from keras import layers\n",
    "from keras import models\n",
    "\n",
    "model = models.Sequential()\n",
    "model.add(layers.Conv2D(32, (3, 3), activation='relu',\n",
    "                        input_shape=(91, 91, 1)))\n",
    "model.add(layers.MaxPooling2D((2, 2)))\n",
    "model.add(layers.Conv2D(64, (3, 3), activation='relu'))\n",
    "model.add(layers.MaxPooling2D((2, 2)))\n",
    "model.add(layers.Conv2D(128, (3, 3), activation='relu'))\n",
    "model.add(layers.MaxPooling2D((2, 2)))\n",
    "model.add(layers.Conv2D(128, (3, 3), activation='relu'))\n",
    "model.add(layers.MaxPooling2D((2, 2)))\n",
    "model.add(layers.Flatten())\n",
    "model.add(layers.Dropout(0.1))\n",
    "model.add(layers.Dense(512, activation='relu'))\n",
    "model.add(layers.Dense(7, activation='softmax'))   # \"sigmoid\""
   ]
  },
  {
   "cell_type": "markdown",
   "metadata": {},
   "source": [
    "Let's take a look at how the dimensions of the feature maps change with every successive layer:"
   ]
  },
  {
   "cell_type": "code",
   "execution_count": 325,
   "metadata": {},
   "outputs": [
    {
     "name": "stdout",
     "output_type": "stream",
     "text": [
      "_________________________________________________________________\n",
      "Layer (type)                 Output Shape              Param #   \n",
      "=================================================================\n",
      "conv2d_121 (Conv2D)          (None, 89, 89, 32)        320       \n",
      "_________________________________________________________________\n",
      "max_pooling2d_121 (MaxPoolin (None, 44, 44, 32)        0         \n",
      "_________________________________________________________________\n",
      "conv2d_122 (Conv2D)          (None, 42, 42, 64)        18496     \n",
      "_________________________________________________________________\n",
      "max_pooling2d_122 (MaxPoolin (None, 21, 21, 64)        0         \n",
      "_________________________________________________________________\n",
      "conv2d_123 (Conv2D)          (None, 19, 19, 128)       73856     \n",
      "_________________________________________________________________\n",
      "max_pooling2d_123 (MaxPoolin (None, 9, 9, 128)         0         \n",
      "_________________________________________________________________\n",
      "conv2d_124 (Conv2D)          (None, 7, 7, 128)         147584    \n",
      "_________________________________________________________________\n",
      "max_pooling2d_124 (MaxPoolin (None, 3, 3, 128)         0         \n",
      "_________________________________________________________________\n",
      "flatten_31 (Flatten)         (None, 1152)              0         \n",
      "_________________________________________________________________\n",
      "dropout_31 (Dropout)         (None, 1152)              0         \n",
      "_________________________________________________________________\n",
      "dense_61 (Dense)             (None, 512)               590336    \n",
      "_________________________________________________________________\n",
      "dense_62 (Dense)             (None, 7)                 3591      \n",
      "=================================================================\n",
      "Total params: 834,183\n",
      "Trainable params: 834,183\n",
      "Non-trainable params: 0\n",
      "_________________________________________________________________\n"
     ]
    }
   ],
   "source": [
    "model.summary()"
   ]
  },
  {
   "cell_type": "markdown",
   "metadata": {},
   "source": [
    "For our compilation step, we'll go with the `RMSprop` optimizer as usual. Since we ended our network with a single sigmoid unit, we will \n",
    "use binary crossentropy as our loss (as a reminder, check out the table in Chapter 4, section 5 for a cheatsheet on what loss function to \n",
    "use in various situations)."
   ]
  },
  {
   "cell_type": "code",
   "execution_count": 326,
   "metadata": {},
   "outputs": [],
   "source": [
    "from keras import optimizers\n",
    "\n",
    "model.compile(loss='categorical_crossentropy',    # 'binary_crossentropy', 'categorical_crossentropy',\n",
    "              optimizer='rmsprop',                # optimizers.RMSprop(lr=1e-4),   # 'rmsprop',   # \"adam\",  \n",
    "              metrics=['acc'])                    # categorical_accuracy.          # 'acc'  "
   ]
  },
  {
   "cell_type": "markdown",
   "metadata": {},
   "source": [
    "### Data Preprocessing"
   ]
  },
  {
   "cell_type": "code",
   "execution_count": 327,
   "metadata": {},
   "outputs": [],
   "source": [
    "train_dir = path + \"/train\"\n",
    "validation_dir = path + \"/val\""
   ]
  },
  {
   "cell_type": "code",
   "execution_count": 328,
   "metadata": {},
   "outputs": [
    {
     "name": "stdout",
     "output_type": "stream",
     "text": [
      "Found 14481 images belonging to 7 classes.\n",
      "Found 1504 images belonging to 7 classes.\n"
     ]
    }
   ],
   "source": [
    "from keras.preprocessing.image import ImageDataGenerator\n",
    "\n",
    "# All images will be rescaled by 1./255\n",
    "train_datagen = ImageDataGenerator(rescale=1./255)\n",
    "test_datagen = ImageDataGenerator(rescale=1./255)\n",
    "\n",
    "train_generator = train_datagen.flow_from_directory(\n",
    "        # This is the target directory\n",
    "        train_dir,\n",
    "        # All images will be resized to 150x150\n",
    "        target_size=(91, 91),\n",
    "        batch_size=20,\n",
    "        color_mode=\"grayscale\",\n",
    "        # Since we use binary_crossentropy loss, we need binary labels\n",
    "        class_mode='categorical')\n",
    "\n",
    "validation_generator = test_datagen.flow_from_directory(\n",
    "        validation_dir,\n",
    "        target_size=(91, 91),\n",
    "        batch_size=20,\n",
    "        color_mode=\"grayscale\",\n",
    "        class_mode='categorical')"
   ]
  },
  {
   "cell_type": "markdown",
   "metadata": {},
   "source": [
    "Let's take a look at the output of one of these generators: it yields batches of 150x150 RGB images (shape `(20, 150, 150, 3)`) and binary \n",
    "labels (shape `(20,)`). 20 is the number of samples in each batch (the batch size). Note that the generator yields these batches \n",
    "indefinitely: it just loops endlessly over the images present in the target folder. For this reason, we need to `break` the iteration loop \n",
    "at some point."
   ]
  },
  {
   "cell_type": "code",
   "execution_count": 329,
   "metadata": {},
   "outputs": [
    {
     "name": "stdout",
     "output_type": "stream",
     "text": [
      "data batch shape: (20, 91, 91, 1)\n",
      "labels batch shape: (20, 7)\n"
     ]
    }
   ],
   "source": [
    "for data_batch, labels_batch in train_generator:\n",
    "    print('data batch shape:', data_batch.shape)\n",
    "    print('labels batch shape:', labels_batch.shape)\n",
    "    break"
   ]
  },
  {
   "cell_type": "markdown",
   "metadata": {},
   "source": [
    "Let's fit our model to the data using the generator. We do it using the `fit_generator` method, the equivalent of `fit` for data generators \n",
    "like ours. It expects as first argument a Python generator that will yield batches of inputs and targets indefinitely, like ours does. \n",
    "Because the data is being generated endlessly, the generator needs to know example how many samples to draw from the generator before \n",
    "declaring an epoch over. This is the role of the `steps_per_epoch` argument: after having drawn `steps_per_epoch` batches from the \n",
    "generator, i.e. after having run for `steps_per_epoch` gradient descent steps, the fitting process will go to the next epoch. In our case, \n",
    "batches are 20-sample large, so it will take 100 batches until we see our target of 2000 samples.\n",
    "\n",
    "When using `fit_generator`, one may pass a `validation_data` argument, much like with the `fit` method. Importantly, this argument is \n",
    "allowed to be a data generator itself, but it could be a tuple of Numpy arrays as well. If you pass a generator as `validation_data`, then \n",
    "this generator is expected to yield batches of validation data endlessly, and thus you should also specify the `validation_steps` argument, \n",
    "which tells the process how many batches to draw from the validation generator for evaluation."
   ]
  },
  {
   "cell_type": "code",
   "execution_count": 330,
   "metadata": {},
   "outputs": [
    {
     "data": {
      "text/plain": [
       "{'com_high': 0,\n",
       " 'com_med': 1,\n",
       " 'ind_high': 2,\n",
       " 'ind_office_med': 3,\n",
       " 'res_high': 4,\n",
       " 'res_low': 5,\n",
       " 'res_med': 6}"
      ]
     },
     "execution_count": 330,
     "metadata": {},
     "output_type": "execute_result"
    }
   ],
   "source": [
    "train_generator.class_indices"
   ]
  },
  {
   "cell_type": "code",
   "execution_count": 331,
   "metadata": {},
   "outputs": [
    {
     "name": "stdout",
     "output_type": "stream",
     "text": [
      "Epoch 1/20\n",
      "100/100 [==============================] - 4s 43ms/step - loss: 1.7423 - acc: 0.2570 - val_loss: 1.3442 - val_acc: 0.4080\n",
      "Epoch 2/20\n",
      "100/100 [==============================] - 2s 21ms/step - loss: 1.5320 - acc: 0.3260 - val_loss: 1.9432 - val_acc: 0.0976\n",
      "Epoch 3/20\n",
      "100/100 [==============================] - 2s 21ms/step - loss: 1.4984 - acc: 0.3390 - val_loss: 1.2103 - val_acc: 0.5750\n",
      "Epoch 4/20\n",
      "100/100 [==============================] - 2s 21ms/step - loss: 1.4400 - acc: 0.3815 - val_loss: 1.3484 - val_acc: 0.3923\n",
      "Epoch 5/20\n",
      "100/100 [==============================] - 2s 21ms/step - loss: 1.4261 - acc: 0.3985 - val_loss: 1.4825 - val_acc: 0.4085\n",
      "Epoch 6/20\n",
      "100/100 [==============================] - 2s 22ms/step - loss: 1.3949 - acc: 0.3955 - val_loss: 1.1076 - val_acc: 0.5840\n",
      "Epoch 7/20\n",
      "100/100 [==============================] - 2s 21ms/step - loss: 1.3686 - acc: 0.4170 - val_loss: 0.9950 - val_acc: 0.6606\n",
      "Epoch 8/20\n",
      "100/100 [==============================] - 2s 21ms/step - loss: 1.3491 - acc: 0.4410 - val_loss: 0.9763 - val_acc: 0.6250\n",
      "Epoch 9/20\n",
      "100/100 [==============================] - 2s 21ms/step - loss: 1.2976 - acc: 0.4595 - val_loss: 1.0781 - val_acc: 0.5950\n",
      "Epoch 10/20\n",
      "100/100 [==============================] - 2s 21ms/step - loss: 1.3231 - acc: 0.4510 - val_loss: 1.3185 - val_acc: 0.5467\n",
      "Epoch 11/20\n",
      "100/100 [==============================] - 2s 21ms/step - loss: 1.2945 - acc: 0.4615 - val_loss: 1.3539 - val_acc: 0.3272\n",
      "Epoch 12/20\n",
      "100/100 [==============================] - 2s 21ms/step - loss: 1.3155 - acc: 0.4320 - val_loss: 0.9718 - val_acc: 0.6570\n",
      "Epoch 13/20\n",
      "100/100 [==============================] - 2s 21ms/step - loss: 1.2875 - acc: 0.4625 - val_loss: 1.0015 - val_acc: 0.6301\n",
      "Epoch 14/20\n",
      "100/100 [==============================] - 2s 21ms/step - loss: 1.3244 - acc: 0.4455 - val_loss: 1.0189 - val_acc: 0.6382\n",
      "Epoch 15/20\n",
      "100/100 [==============================] - 2s 21ms/step - loss: 1.2659 - acc: 0.4650 - val_loss: 0.9962 - val_acc: 0.6030\n",
      "Epoch 16/20\n",
      "100/100 [==============================] - 2s 21ms/step - loss: 1.2109 - acc: 0.5000 - val_loss: 1.2444 - val_acc: 0.4868\n",
      "Epoch 17/20\n",
      "100/100 [==============================] - 2s 21ms/step - loss: 1.2079 - acc: 0.5105 - val_loss: 1.1232 - val_acc: 0.5467\n",
      "Epoch 18/20\n",
      "100/100 [==============================] - 2s 21ms/step - loss: 1.2408 - acc: 0.4840 - val_loss: 1.3722 - val_acc: 0.3740\n",
      "Epoch 19/20\n",
      "100/100 [==============================] - 2s 21ms/step - loss: 1.2385 - acc: 0.4890 - val_loss: 1.2301 - val_acc: 0.5071\n",
      "Epoch 20/20\n",
      "100/100 [==============================] - 2s 21ms/step - loss: 1.2381 - acc: 0.4850 - val_loss: 1.0467 - val_acc: 0.6433\n"
     ]
    }
   ],
   "source": [
    "history = model.fit_generator(\n",
    "      train_generator,\n",
    "      steps_per_epoch=100,\n",
    "      epochs=20, \n",
    "      validation_data=validation_generator,\n",
    "      validation_steps=50)"
   ]
  },
  {
   "cell_type": "markdown",
   "metadata": {
    "collapsed": true
   },
   "source": [
    "It is good practice to always save your models after training:"
   ]
  },
  {
   "cell_type": "code",
   "execution_count": 334,
   "metadata": {},
   "outputs": [],
   "source": [
    "# model.save('las_vegas_CNN_Trained_12_Layers_v5.h5')"
   ]
  },
  {
   "cell_type": "markdown",
   "metadata": {},
   "source": [
    "Let's plot the loss and accuracy of the model over the training and validation data during training:"
   ]
  },
  {
   "cell_type": "code",
   "execution_count": 333,
   "metadata": {},
   "outputs": [
    {
     "data": {
      "image/png": "[encoded data removed]",
      "text/plain": [
       "<Figure size 432x288 with 1 Axes>"
      ]
     },
     "metadata": {},
     "output_type": "display_data"
    },
    {
     "data": {
      "image/png": "[encoded data removed]",
      "text/plain": [
       "<Figure size 432x288 with 1 Axes>"
      ]
     },
     "metadata": {},
     "output_type": "display_data"
    }
   ],
   "source": [
    "import matplotlib.pyplot as plt\n",
    "\n",
    "acc = history.history['acc']\n",
    "val_acc = history.history['val_acc']\n",
    "loss = history.history['loss']\n",
    "val_loss = history.history['val_loss']\n",
    "\n",
    "epochs = range(len(acc))\n",
    "\n",
    "plt.plot(epochs, acc, 'bo', label='Training acc')\n",
    "plt.plot(epochs, val_acc, 'b', label='Validation acc')\n",
    "plt.title('Training and validation accuracy')\n",
    "plt.legend()\n",
    "\n",
    "plt.figure()\n",
    "\n",
    "plt.plot(epochs, loss, 'bo', label='Training loss')\n",
    "plt.plot(epochs, val_loss, 'b', label='Validation loss')\n",
    "plt.title('Training and validation loss')\n",
    "plt.legend()\n",
    "\n",
    "plt.show()"
   ]
  },
  {
   "cell_type": "markdown",
   "metadata": {},
   "source": [
    "These plots are characteristic of overfitting. Our training accuracy increases linearly over time, until it reaches nearly 100%, while our \n",
    "validation accuracy stalls at 70-72%. Our validation loss reaches its minimum after only five epochs then stalls, while the training loss \n",
    "keeps decreasing linearly until it reaches nearly 0.\n",
    "\n",
    "Because we only have relatively few training samples (2000), overfitting is going to be our number one concern. You already know about a \n",
    "number of techniques that can help mitigate overfitting, such as dropout and weight decay (L2 regularization). We are now going to \n",
    "introduce a new one, specific to computer vision, and used almost universally when processing images with deep learning models: *data \n",
    "augmentation*."
   ]
  }
 ],
 "metadata": {
  "kernelspec": {
   "display_name": "Python 3",
   "language": "python",
   "name": "python3"
  },
  "language_info": {
   "codemirror_mode": {
    "name": "ipython",
    "version": 3
   },
   "file_extension": ".py",
   "mimetype": "text/x-python",
   "name": "python",
   "nbconvert_exporter": "python",
   "pygments_lexer": "ipython3",
   "version": "3.6.5"
  }
 },
 "nbformat": 4,
 "nbformat_minor": 2
}
